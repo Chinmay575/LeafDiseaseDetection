{
 "cells": [
  {
   "cell_type": "code",
   "execution_count": null,
   "id": "053a87e6",
   "metadata": {},
   "outputs": [],
   "source": [
    "from google.colab import drive\n",
    "drive.mount('/content/drive')"
   ]
  },
  {
   "cell_type": "code",
   "execution_count": 1,
   "id": "8bdd0fff-1978-4699-bff7-6462a4ecff8d",
   "metadata": {
    "id": "8bdd0fff-1978-4699-bff7-6462a4ecff8d"
   },
   "outputs": [],
   "source": [
    "import os\n",
    "import numpy as np\n",
    "from PIL import Image"
   ]
  },
  {
   "cell_type": "markdown",
   "id": "7y3WRvYFa72S",
   "metadata": {
    "id": "7y3WRvYFa72S"
   },
   "source": [
    "# DataGenerator"
   ]
  },
  {
   "cell_type": "code",
   "execution_count": 2,
   "id": "fe76b895-dbee-4f7a-bfe3-da45da1aa499",
   "metadata": {
    "id": "fe76b895-dbee-4f7a-bfe3-da45da1aa499"
   },
   "outputs": [],
   "source": [
    "data_path = '/content/drive/MyDrive/DATASET/image data'\n",
    "fruit = 'tomato'"
   ]
  },
  {
   "cell_type": "code",
   "execution_count": 3,
   "id": "7a8aa84e-1245-4ffe-976f-ca13377b502d",
   "metadata": {
    "id": "7a8aa84e-1245-4ffe-976f-ca13377b502d"
   },
   "outputs": [],
   "source": [
    "# Creating Train Data Path for a single Fruit\n",
    "train_data_path = os.path.join(data_path,\"train\",fruit)"
   ]
  },
  {
   "cell_type": "code",
   "execution_count": 4,
   "id": "2804c0a3-05e7-41c4-ab93-9ddd99ccaf5e",
   "metadata": {
    "id": "2804c0a3-05e7-41c4-ab93-9ddd99ccaf5e"
   },
   "outputs": [],
   "source": [
    "test_data_path = os.path.join(data_path,\"test\",fruit)"
   ]
  },
  {
   "cell_type": "code",
   "execution_count": 5,
   "id": "c84a8e93-f8ca-4096-bc32-bd6906fcb9ca",
   "metadata": {
    "id": "c84a8e93-f8ca-4096-bc32-bd6906fcb9ca"
   },
   "outputs": [],
   "source": [
    "def load_image_dataset(dataset_directory:str,img_height:int = 224,img_width:int = 224,flatten_image:bool = False):\n",
    "    \"\"\"\n",
    "        Params:\n",
    "        dataset_directory: path to your dataset directory,\n",
    "        img_height = standard height of image\n",
    "        img_width = standard width of image\n",
    "        flatten_image = False: Image will be returned with actual size\n",
    "                        True : Image will be flattened\n",
    "\n",
    "    \"\"\"\n",
    "\n",
    "    # Create empty lists to store the images and their corresponding labels\n",
    "    images = []\n",
    "    labels = []\n",
    "\n",
    "    # Iterate through the subdirectories (each subdirectory represents a class)\n",
    "    for class_name in os.listdir(dataset_directory):\n",
    "        class_dir = os.path.join(dataset_directory, class_name)\n",
    "        for image_name in os.listdir(class_dir):\n",
    "            image_path = os.path.join(class_dir, image_name)\n",
    "            image = Image.open(image_path)  # Open the image using PIL\n",
    "            image = image.resize((img_width, img_height))  # Resize the image to a desired size\n",
    "            image = np.array(image)  # Convert the image to a numpy array\n",
    "            images.append(image)\n",
    "            labels.append(class_name)\n",
    "\n",
    "    # Convert the lists to numpy arrays\n",
    "    images = np.array(images)\n",
    "    labels = np.array(labels)\n",
    "\n",
    "\n",
    "    if flatten_image: # flattening image i.e converting image into vector\n",
    "        images = images.reshape(images.shape[0],-1)\n",
    "\n",
    "    return images,labels\n"
   ]
  },
  {
   "cell_type": "code",
   "execution_count": 6,
   "id": "da894dc4-7091-4361-814b-4aa719f80768",
   "metadata": {
    "id": "da894dc4-7091-4361-814b-4aa719f80768"
   },
   "outputs": [],
   "source": [
    "X_train,y_train = load_image_dataset(dataset_directory=train_data_path,flatten_image=True)"
   ]
  },
  {
   "cell_type": "code",
   "execution_count": 7,
   "id": "85c5305c-3bbe-4c9e-86ee-7e6cf1a1996f",
   "metadata": {
    "id": "85c5305c-3bbe-4c9e-86ee-7e6cf1a1996f"
   },
   "outputs": [],
   "source": [
    "X_test,y_test =  load_image_dataset(dataset_directory=test_data_path,flatten_image=True)"
   ]
  },
  {
   "cell_type": "code",
   "execution_count": 8,
   "id": "d60017ac-d120-4a4b-9290-0d2794aa375e",
   "metadata": {
    "colab": {
     "base_uri": "https://localhost:8080/"
    },
    "executionInfo": {
     "elapsed": 22,
     "status": "ok",
     "timestamp": 1697854715450,
     "user": {
      "displayName": "Omkar Bajantri",
      "userId": "01388216537307988849"
     },
     "user_tz": -330
    },
    "id": "d60017ac-d120-4a4b-9290-0d2794aa375e",
    "outputId": "3bc84917-a1cb-406d-c2e2-b648f074feff"
   },
   "outputs": [
    {
     "data": {
      "text/plain": [
       "(1129, 150528)"
      ]
     },
     "execution_count": 8,
     "metadata": {},
     "output_type": "execute_result"
    }
   ],
   "source": [
    "X_train.shape"
   ]
  },
  {
   "cell_type": "code",
   "execution_count": 9,
   "id": "2703878a-b1ae-46c8-865f-d54aca678b1b",
   "metadata": {
    "colab": {
     "base_uri": "https://localhost:8080/"
    },
    "executionInfo": {
     "elapsed": 14,
     "status": "ok",
     "timestamp": 1697854715450,
     "user": {
      "displayName": "Omkar Bajantri",
      "userId": "01388216537307988849"
     },
     "user_tz": -330
    },
    "id": "2703878a-b1ae-46c8-865f-d54aca678b1b",
    "outputId": "f6753b92-0764-4385-87de-f9fff865f0cc"
   },
   "outputs": [
    {
     "data": {
      "text/plain": [
       "(1129,)"
      ]
     },
     "execution_count": 9,
     "metadata": {},
     "output_type": "execute_result"
    }
   ],
   "source": [
    "y_train.shape"
   ]
  },
  {
   "cell_type": "code",
   "execution_count": 10,
   "id": "49b60e4d-7b3f-4c5b-a354-a29d51ca23e0",
   "metadata": {
    "id": "49b60e4d-7b3f-4c5b-a354-a29d51ca23e0"
   },
   "outputs": [],
   "source": [
    "import joblib\n",
    "\n",
    "def save_model(model,fruit:str,filename:str,location:str):\n",
    "\n",
    "    location = os.path.join(location,fruit)\n",
    "    if not os.path.isdir(location):\n",
    "        os.mkdir(location)\n",
    "\n",
    "    filename = os.path.join(location,filename+\".jblib\")\n",
    "\n",
    "    joblib.dump(model,filename=filename)"
   ]
  },
  {
   "cell_type": "code",
   "execution_count": 11,
   "id": "7t3J3fGThlUH",
   "metadata": {
    "id": "7t3J3fGThlUH"
   },
   "outputs": [],
   "source": [
    "from sklearn.metrics import classification_report, confusion_matrix"
   ]
  },
  {
   "cell_type": "code",
   "execution_count": 12,
   "id": "QItRE1ozjmHQ",
   "metadata": {
    "id": "QItRE1ozjmHQ"
   },
   "outputs": [],
   "source": [
    "from sklearn.metrics import accuracy_score"
   ]
  },
  {
   "cell_type": "markdown",
   "id": "5c6d797e-3b2c-486d-8b91-88e50fd4d0ec",
   "metadata": {
    "id": "5c6d797e-3b2c-486d-8b91-88e50fd4d0ec"
   },
   "source": [
    "# Model - 1 Support vector Machine"
   ]
  },
  {
   "cell_type": "code",
   "execution_count": 13,
   "id": "16704c50-cd0e-449a-946f-cfb6b9bca95c",
   "metadata": {
    "colab": {
     "base_uri": "https://localhost:8080/",
     "height": 74
    },
    "executionInfo": {
     "elapsed": 54795,
     "status": "ok",
     "timestamp": 1697854772273,
     "user": {
      "displayName": "Omkar Bajantri",
      "userId": "01388216537307988849"
     },
     "user_tz": -330
    },
    "id": "16704c50-cd0e-449a-946f-cfb6b9bca95c",
    "outputId": "d8e259bd-7694-456f-baba-93c59ae470a4"
   },
   "outputs": [
    {
     "data": {
      "text/plain": [
       "SVC()"
      ]
     },
     "execution_count": 13,
     "metadata": {},
     "output_type": "execute_result"
    }
   ],
   "source": [
    "from sklearn.svm import SVC\n",
    "\n",
    "model1 = SVC()\n",
    "model1.fit(X_train, y_train)"
   ]
  },
  {
   "cell_type": "code",
   "execution_count": 14,
   "id": "f2cc3e35-82e1-4827-854e-30fbca984235",
   "metadata": {
    "colab": {
     "base_uri": "https://localhost:8080/"
    },
    "executionInfo": {
     "elapsed": 63096,
     "status": "ok",
     "timestamp": 1697854835362,
     "user": {
      "displayName": "Omkar Bajantri",
      "userId": "01388216537307988849"
     },
     "user_tz": -330
    },
    "id": "f2cc3e35-82e1-4827-854e-30fbca984235",
    "outputId": "4d8db14b-f46b-41f3-fa64-045d8903797e"
   },
   "outputs": [
    {
     "data": {
      "text/plain": [
       "array(['healthy', 'healthy', 'healthy', ..., 'leaf scorch', 'leaf scorch',\n",
       "       'leaf scorch'], dtype='<U11')"
      ]
     },
     "execution_count": 14,
     "metadata": {},
     "output_type": "execute_result"
    }
   ],
   "source": [
    "train_pred1 = model1.predict(X_train)\n",
    "train_pred1"
   ]
  },
  {
   "cell_type": "code",
   "execution_count": 15,
   "id": "e86cb4f8-36b2-4ba6-a6fc-3db4dc3f5019",
   "metadata": {
    "colab": {
     "base_uri": "https://localhost:8080/"
    },
    "executionInfo": {
     "elapsed": 25,
     "status": "ok",
     "timestamp": 1697854835362,
     "user": {
      "displayName": "Omkar Bajantri",
      "userId": "01388216537307988849"
     },
     "user_tz": -330
    },
    "id": "e86cb4f8-36b2-4ba6-a6fc-3db4dc3f5019",
    "outputId": "a897ddc2-eb3a-4234-c868-7ac3cd58a4fd"
   },
   "outputs": [
    {
     "data": {
      "text/plain": [
       "0.9937998228520815"
      ]
     },
     "execution_count": 15,
     "metadata": {},
     "output_type": "execute_result"
    }
   ],
   "source": [
    "train_score1=accuracy_score(y_train,train_pred1)\n",
    "A= round(train_score1, 4)\n",
    "train_score1"
   ]
  },
  {
   "cell_type": "code",
   "execution_count": 16,
   "id": "fc48adf1-dcff-4c2e-8a90-c7ba383d6366",
   "metadata": {
    "colab": {
     "base_uri": "https://localhost:8080/"
    },
    "executionInfo": {
     "elapsed": 7497,
     "status": "ok",
     "timestamp": 1697854842838,
     "user": {
      "displayName": "Omkar Bajantri",
      "userId": "01388216537307988849"
     },
     "user_tz": -330
    },
    "id": "fc48adf1-dcff-4c2e-8a90-c7ba383d6366",
    "outputId": "8da03c32-f30b-4189-98de-f3ea92f80440"
   },
   "outputs": [
    {
     "data": {
      "text/plain": [
       "array(['healthy', 'healthy', 'healthy', 'healthy', 'healthy', 'healthy',\n",
       "       'healthy', 'healthy', 'healthy', 'healthy', 'healthy', 'healthy',\n",
       "       'healthy', 'healthy', 'healthy', 'healthy', 'healthy', 'healthy',\n",
       "       'healthy', 'healthy', 'healthy', 'healthy', 'healthy', 'healthy',\n",
       "       'healthy', 'healthy', 'healthy', 'healthy', 'healthy', 'healthy',\n",
       "       'healthy', 'healthy', 'healthy', 'healthy', 'healthy', 'healthy',\n",
       "       'healthy', 'healthy', 'healthy', 'healthy', 'healthy', 'healthy',\n",
       "       'healthy', 'healthy', 'healthy', 'leaf scorch', 'leaf scorch',\n",
       "       'leaf scorch', 'leaf scorch', 'leaf scorch', 'leaf scorch',\n",
       "       'leaf scorch', 'leaf scorch', 'leaf scorch', 'leaf scorch',\n",
       "       'leaf scorch', 'leaf scorch', 'leaf scorch', 'leaf scorch',\n",
       "       'leaf scorch', 'leaf scorch', 'leaf scorch', 'leaf scorch',\n",
       "       'leaf scorch', 'leaf scorch', 'leaf scorch', 'leaf scorch',\n",
       "       'leaf scorch', 'leaf scorch', 'leaf scorch', 'leaf scorch',\n",
       "       'leaf scorch', 'leaf scorch', 'leaf scorch', 'leaf scorch',\n",
       "       'leaf scorch', 'leaf scorch', 'leaf scorch', 'leaf scorch',\n",
       "       'leaf scorch', 'leaf scorch', 'leaf scorch', 'leaf scorch',\n",
       "       'leaf scorch', 'leaf scorch', 'leaf scorch', 'leaf scorch',\n",
       "       'leaf scorch', 'leaf scorch', 'leaf scorch', 'leaf scorch',\n",
       "       'leaf scorch', 'leaf scorch', 'leaf scorch', 'leaf scorch',\n",
       "       'leaf scorch', 'leaf scorch', 'leaf scorch', 'leaf scorch',\n",
       "       'leaf scorch', 'leaf scorch', 'leaf scorch', 'leaf scorch',\n",
       "       'leaf scorch', 'leaf scorch', 'leaf scorch', 'leaf scorch',\n",
       "       'leaf scorch', 'leaf scorch', 'leaf scorch', 'leaf scorch',\n",
       "       'leaf scorch', 'leaf scorch', 'leaf scorch', 'leaf scorch',\n",
       "       'leaf scorch', 'leaf scorch', 'leaf scorch', 'leaf scorch',\n",
       "       'leaf scorch', 'leaf scorch', 'leaf scorch', 'leaf scorch',\n",
       "       'leaf scorch', 'leaf scorch', 'leaf scorch', 'leaf scorch',\n",
       "       'leaf scorch', 'leaf scorch', 'leaf scorch', 'leaf scorch',\n",
       "       'leaf scorch', 'leaf scorch', 'leaf scorch', 'leaf scorch',\n",
       "       'leaf scorch', 'leaf scorch', 'leaf scorch', 'leaf scorch',\n",
       "       'leaf scorch', 'leaf scorch', 'leaf scorch', 'leaf scorch',\n",
       "       'leaf scorch', 'leaf scorch', 'leaf scorch', 'leaf scorch',\n",
       "       'leaf scorch', 'leaf scorch', 'leaf scorch', 'leaf scorch',\n",
       "       'leaf scorch', 'leaf scorch', 'leaf scorch', 'leaf scorch'],\n",
       "      dtype='<U11')"
      ]
     },
     "execution_count": 16,
     "metadata": {},
     "output_type": "execute_result"
    }
   ],
   "source": [
    "pred1 = model1.predict(X_test)\n",
    "pred1"
   ]
  },
  {
   "cell_type": "code",
   "execution_count": 17,
   "id": "5fb34b38-e127-4f95-a100-937cc1c0a4cd",
   "metadata": {
    "colab": {
     "base_uri": "https://localhost:8080/"
    },
    "executionInfo": {
     "elapsed": 23,
     "status": "ok",
     "timestamp": 1697854842839,
     "user": {
      "displayName": "Omkar Bajantri",
      "userId": "01388216537307988849"
     },
     "user_tz": -330
    },
    "id": "5fb34b38-e127-4f95-a100-937cc1c0a4cd",
    "outputId": "a0f244e8-d227-41a7-9740-e018a8bc4dc6"
   },
   "outputs": [
    {
     "data": {
      "text/plain": [
       "1.0"
      ]
     },
     "execution_count": 17,
     "metadata": {},
     "output_type": "execute_result"
    }
   ],
   "source": [
    "score1=accuracy_score(y_test,pred1)\n",
    "a= round(score1, 4)\n",
    "score1"
   ]
  },
  {
   "cell_type": "code",
   "execution_count": 18,
   "id": "v91YXaAahqkY",
   "metadata": {
    "colab": {
     "base_uri": "https://localhost:8080/"
    },
    "executionInfo": {
     "elapsed": 17,
     "status": "ok",
     "timestamp": 1697854842839,
     "user": {
      "displayName": "Omkar Bajantri",
      "userId": "01388216537307988849"
     },
     "user_tz": -330
    },
    "id": "v91YXaAahqkY",
    "outputId": "4e48c89a-e804-4c3c-a944-b18cfa83da40"
   },
   "outputs": [
    {
     "name": "stdout",
     "output_type": "stream",
     "text": [
      "Support vector Machine Confusion matrix: \n",
      "\n",
      " [[ 45   0]\n",
      " [  0 110]]\n"
     ]
    }
   ],
   "source": [
    "print(\"Support vector Machine Confusion matrix: \\n\\n\", confusion_matrix(y_test, pred1))"
   ]
  },
  {
   "cell_type": "code",
   "execution_count": 19,
   "id": "af60b24d-c639-4750-829d-f4d7c95cef78",
   "metadata": {
    "colab": {
     "base_uri": "https://localhost:8080/"
    },
    "executionInfo": {
     "elapsed": 7259,
     "status": "ok",
     "timestamp": 1697854850083,
     "user": {
      "displayName": "Omkar Bajantri",
      "userId": "01388216537307988849"
     },
     "user_tz": -330
    },
    "id": "af60b24d-c639-4750-829d-f4d7c95cef78",
    "outputId": "72b5f86c-3aa5-4506-cffb-f754875f1ac1"
   },
   "outputs": [
    {
     "name": "stdout",
     "output_type": "stream",
     "text": [
      "Support vector Machine Classification report: \n",
      "\n",
      "               precision    recall  f1-score   support\n",
      "\n",
      "     healthy       1.00      1.00      1.00        45\n",
      " leaf scorch       1.00      1.00      1.00       110\n",
      "\n",
      "    accuracy                           1.00       155\n",
      "   macro avg       1.00      1.00      1.00       155\n",
      "weighted avg       1.00      1.00      1.00       155\n",
      "\n",
      "Test Accuracy: 100.0%\n"
     ]
    }
   ],
   "source": [
    "print(\"Support vector Machine Classification report: \\n\\n\", classification_report(y_test, pred1))\n",
    "print(\"Test Accuracy: {}%\".format(round(model1.score(X_test, y_test)*100, 2)))"
   ]
  },
  {
   "cell_type": "code",
   "execution_count": 20,
   "id": "80bf53b2-9a80-4bbf-8e2d-6d855e7335d4",
   "metadata": {
    "id": "80bf53b2-9a80-4bbf-8e2d-6d855e7335d4"
   },
   "outputs": [],
   "source": [
    "save_model(model1,fruit=fruit,location=\"/content/drive/MyDrive/saved\",filename=\"SVM\")"
   ]
  },
  {
   "cell_type": "markdown",
   "id": "p-BoWRukfy2g",
   "metadata": {
    "id": "p-BoWRukfy2g"
   },
   "source": [
    "# Model -2  Multi-layer Perceptron"
   ]
  },
  {
   "cell_type": "code",
   "execution_count": 21,
   "id": "dv3XtgI7ftaD",
   "metadata": {
    "colab": {
     "base_uri": "https://localhost:8080/",
     "height": 74
    },
    "executionInfo": {
     "elapsed": 285493,
     "status": "ok",
     "timestamp": 1697855136906,
     "user": {
      "displayName": "Omkar Bajantri",
      "userId": "01388216537307988849"
     },
     "user_tz": -330
    },
    "id": "dv3XtgI7ftaD",
    "outputId": "e4871ffe-7d8b-4a19-d270-207a6c7f35a1"
   },
   "outputs": [
    {
     "data": {
      "text/plain": [
       "MLPClassifier()"
      ]
     },
     "execution_count": 21,
     "metadata": {},
     "output_type": "execute_result"
    }
   ],
   "source": [
    "from sklearn.neural_network import MLPClassifier\n",
    "\n",
    "model2 = MLPClassifier()\n",
    "model2.fit(X_train, y_train)"
   ]
  },
  {
   "cell_type": "code",
   "execution_count": 22,
   "id": "ahgUIiKSftWC",
   "metadata": {
    "colab": {
     "base_uri": "https://localhost:8080/"
    },
    "executionInfo": {
     "elapsed": 1649,
     "status": "ok",
     "timestamp": 1697855138550,
     "user": {
      "displayName": "Omkar Bajantri",
      "userId": "01388216537307988849"
     },
     "user_tz": -330
    },
    "id": "ahgUIiKSftWC",
    "outputId": "664cead7-9bcf-4b14-8f81-0c19361609f0"
   },
   "outputs": [
    {
     "data": {
      "text/plain": [
       "array(['healthy', 'healthy', 'healthy', ..., 'leaf scorch', 'leaf scorch',\n",
       "       'leaf scorch'], dtype='<U11')"
      ]
     },
     "execution_count": 22,
     "metadata": {},
     "output_type": "execute_result"
    }
   ],
   "source": [
    "train_pred2 = model2.predict(X_train)\n",
    "train_pred2"
   ]
  },
  {
   "cell_type": "code",
   "execution_count": 23,
   "id": "1gDgk-xXftTQ",
   "metadata": {
    "colab": {
     "base_uri": "https://localhost:8080/"
    },
    "executionInfo": {
     "elapsed": 10,
     "status": "ok",
     "timestamp": 1697855138550,
     "user": {
      "displayName": "Omkar Bajantri",
      "userId": "01388216537307988849"
     },
     "user_tz": -330
    },
    "id": "1gDgk-xXftTQ",
    "outputId": "dd9eb296-8910-4b83-843d-d67f6af925c1"
   },
   "outputs": [
    {
     "data": {
      "text/plain": [
       "1.0"
      ]
     },
     "execution_count": 23,
     "metadata": {},
     "output_type": "execute_result"
    }
   ],
   "source": [
    "train_score2=accuracy_score(y_train,train_pred2)\n",
    "B= round(train_score2, 4)\n",
    "train_score2"
   ]
  },
  {
   "cell_type": "code",
   "execution_count": 24,
   "id": "hkRnRLp5ftQH",
   "metadata": {
    "colab": {
     "base_uri": "https://localhost:8080/"
    },
    "executionInfo": {
     "elapsed": 8,
     "status": "ok",
     "timestamp": 1697855138550,
     "user": {
      "displayName": "Omkar Bajantri",
      "userId": "01388216537307988849"
     },
     "user_tz": -330
    },
    "id": "hkRnRLp5ftQH",
    "outputId": "e2fdf3aa-9f50-40e6-c47d-ecb999236faa"
   },
   "outputs": [
    {
     "data": {
      "text/plain": [
       "array(['healthy', 'healthy', 'healthy', 'healthy', 'healthy', 'healthy',\n",
       "       'healthy', 'healthy', 'healthy', 'healthy', 'healthy', 'healthy',\n",
       "       'healthy', 'healthy', 'healthy', 'healthy', 'healthy', 'healthy',\n",
       "       'healthy', 'healthy', 'healthy', 'healthy', 'healthy', 'healthy',\n",
       "       'healthy', 'healthy', 'healthy', 'healthy', 'healthy', 'healthy',\n",
       "       'healthy', 'healthy', 'healthy', 'healthy', 'healthy', 'healthy',\n",
       "       'healthy', 'healthy', 'healthy', 'healthy', 'healthy', 'healthy',\n",
       "       'healthy', 'healthy', 'healthy', 'leaf scorch', 'leaf scorch',\n",
       "       'leaf scorch', 'leaf scorch', 'leaf scorch', 'leaf scorch',\n",
       "       'leaf scorch', 'leaf scorch', 'leaf scorch', 'leaf scorch',\n",
       "       'leaf scorch', 'leaf scorch', 'leaf scorch', 'leaf scorch',\n",
       "       'leaf scorch', 'leaf scorch', 'leaf scorch', 'leaf scorch',\n",
       "       'leaf scorch', 'leaf scorch', 'leaf scorch', 'leaf scorch',\n",
       "       'leaf scorch', 'leaf scorch', 'leaf scorch', 'leaf scorch',\n",
       "       'leaf scorch', 'leaf scorch', 'leaf scorch', 'leaf scorch',\n",
       "       'leaf scorch', 'leaf scorch', 'leaf scorch', 'leaf scorch',\n",
       "       'leaf scorch', 'leaf scorch', 'leaf scorch', 'leaf scorch',\n",
       "       'leaf scorch', 'leaf scorch', 'leaf scorch', 'leaf scorch',\n",
       "       'leaf scorch', 'leaf scorch', 'leaf scorch', 'leaf scorch',\n",
       "       'leaf scorch', 'leaf scorch', 'leaf scorch', 'leaf scorch',\n",
       "       'leaf scorch', 'leaf scorch', 'leaf scorch', 'leaf scorch',\n",
       "       'leaf scorch', 'leaf scorch', 'leaf scorch', 'leaf scorch',\n",
       "       'leaf scorch', 'leaf scorch', 'leaf scorch', 'leaf scorch',\n",
       "       'leaf scorch', 'leaf scorch', 'leaf scorch', 'leaf scorch',\n",
       "       'leaf scorch', 'leaf scorch', 'leaf scorch', 'leaf scorch',\n",
       "       'leaf scorch', 'leaf scorch', 'leaf scorch', 'leaf scorch',\n",
       "       'leaf scorch', 'leaf scorch', 'leaf scorch', 'leaf scorch',\n",
       "       'leaf scorch', 'leaf scorch', 'leaf scorch', 'leaf scorch',\n",
       "       'leaf scorch', 'leaf scorch', 'leaf scorch', 'leaf scorch',\n",
       "       'leaf scorch', 'leaf scorch', 'leaf scorch', 'leaf scorch',\n",
       "       'leaf scorch', 'leaf scorch', 'leaf scorch', 'leaf scorch',\n",
       "       'leaf scorch', 'leaf scorch', 'leaf scorch', 'leaf scorch',\n",
       "       'leaf scorch', 'leaf scorch', 'leaf scorch', 'leaf scorch',\n",
       "       'leaf scorch', 'leaf scorch', 'leaf scorch', 'leaf scorch',\n",
       "       'leaf scorch', 'leaf scorch', 'leaf scorch', 'leaf scorch'],\n",
       "      dtype='<U11')"
      ]
     },
     "execution_count": 24,
     "metadata": {},
     "output_type": "execute_result"
    }
   ],
   "source": [
    "pred2 = model2.predict(X_test)\n",
    "pred2"
   ]
  },
  {
   "cell_type": "code",
   "execution_count": 25,
   "id": "QCj_xDRlftM4",
   "metadata": {
    "colab": {
     "base_uri": "https://localhost:8080/"
    },
    "executionInfo": {
     "elapsed": 7,
     "status": "ok",
     "timestamp": 1697855138552,
     "user": {
      "displayName": "Omkar Bajantri",
      "userId": "01388216537307988849"
     },
     "user_tz": -330
    },
    "id": "QCj_xDRlftM4",
    "outputId": "21362aa1-6071-4673-873a-f1308fbfeb17"
   },
   "outputs": [
    {
     "data": {
      "text/plain": [
       "1.0"
      ]
     },
     "execution_count": 25,
     "metadata": {},
     "output_type": "execute_result"
    }
   ],
   "source": [
    "score2=accuracy_score(y_test,pred2)\n",
    "b= round(score2, 4)\n",
    "score2"
   ]
  },
  {
   "cell_type": "code",
   "execution_count": 26,
   "id": "59H7uiK1h6_5",
   "metadata": {
    "colab": {
     "base_uri": "https://localhost:8080/"
    },
    "executionInfo": {
     "elapsed": 6,
     "status": "ok",
     "timestamp": 1697855138552,
     "user": {
      "displayName": "Omkar Bajantri",
      "userId": "01388216537307988849"
     },
     "user_tz": -330
    },
    "id": "59H7uiK1h6_5",
    "outputId": "0d14d041-3d2e-4038-d36e-964871ac4fa6"
   },
   "outputs": [
    {
     "name": "stdout",
     "output_type": "stream",
     "text": [
      " Multi-layer Perceptron Confusion matrix: \n",
      "\n",
      " [[ 45   0]\n",
      " [  0 110]]\n"
     ]
    }
   ],
   "source": [
    "print(\" Multi-layer Perceptron Confusion matrix: \\n\\n\", confusion_matrix(y_test, pred2))"
   ]
  },
  {
   "cell_type": "code",
   "execution_count": 27,
   "id": "OZ0Gga1lftFQ",
   "metadata": {
    "colab": {
     "base_uri": "https://localhost:8080/"
    },
    "executionInfo": {
     "elapsed": 7,
     "status": "ok",
     "timestamp": 1697855139479,
     "user": {
      "displayName": "Omkar Bajantri",
      "userId": "01388216537307988849"
     },
     "user_tz": -330
    },
    "id": "OZ0Gga1lftFQ",
    "outputId": "f224871c-1f9b-4f42-e137-31900d5c5203"
   },
   "outputs": [
    {
     "name": "stdout",
     "output_type": "stream",
     "text": [
      " Multi-layer Perceptron report: \n",
      "\n",
      "               precision    recall  f1-score   support\n",
      "\n",
      "     healthy       1.00      1.00      1.00        45\n",
      " leaf scorch       1.00      1.00      1.00       110\n",
      "\n",
      "    accuracy                           1.00       155\n",
      "   macro avg       1.00      1.00      1.00       155\n",
      "weighted avg       1.00      1.00      1.00       155\n",
      "\n",
      "Test Accuracy: 100.0%\n"
     ]
    }
   ],
   "source": [
    "print(\" Multi-layer Perceptron report: \\n\\n\", classification_report(y_test, pred2))\n",
    "print(\"Test Accuracy: {}%\".format(round(model2.score(X_test, y_test)*100, 2)))"
   ]
  },
  {
   "cell_type": "code",
   "execution_count": 28,
   "id": "b4cddfdc-543b-42db-ac62-2fd88230605e",
   "metadata": {
    "id": "b4cddfdc-543b-42db-ac62-2fd88230605e"
   },
   "outputs": [],
   "source": [
    "save_model(model2,fruit=fruit,location=\"/content/drive/MyDrive/saved\",filename=\"MLP\")"
   ]
  },
  {
   "cell_type": "markdown",
   "id": "dVvr04RyQcFO",
   "metadata": {
    "id": "dVvr04RyQcFO"
   },
   "source": [
    "# Model -3  AdaBoost"
   ]
  },
  {
   "cell_type": "code",
   "execution_count": 29,
   "id": "TQyCwVVqQV2r",
   "metadata": {
    "colab": {
     "base_uri": "https://localhost:8080/",
     "height": 74
    },
    "executionInfo": {
     "elapsed": 1493203,
     "status": "ok",
     "timestamp": 1697856634506,
     "user": {
      "displayName": "Omkar Bajantri",
      "userId": "01388216537307988849"
     },
     "user_tz": -330
    },
    "id": "TQyCwVVqQV2r",
    "outputId": "2a7141f4-5f86-40a5-87bb-358de99f262c"
   },
   "outputs": [
    {
     "data": {
      "text/plain": [
       "AdaBoostClassifier()"
      ]
     },
     "execution_count": 29,
     "metadata": {},
     "output_type": "execute_result"
    }
   ],
   "source": [
    "from sklearn.ensemble import AdaBoostClassifier\n",
    "\n",
    "model3 = AdaBoostClassifier()\n",
    "model3.fit(X_train, y_train)"
   ]
  },
  {
   "cell_type": "code",
   "execution_count": 30,
   "id": "gaWiAQ7zQVqX",
   "metadata": {
    "colab": {
     "base_uri": "https://localhost:8080/"
    },
    "executionInfo": {
     "elapsed": 25857,
     "status": "ok",
     "timestamp": 1697856660348,
     "user": {
      "displayName": "Omkar Bajantri",
      "userId": "01388216537307988849"
     },
     "user_tz": -330
    },
    "id": "gaWiAQ7zQVqX",
    "outputId": "bf2fd2dc-1194-47cb-957e-0305ddc31ae5"
   },
   "outputs": [
    {
     "data": {
      "text/plain": [
       "array(['healthy', 'healthy', 'healthy', ..., 'leaf scorch', 'leaf scorch',\n",
       "       'leaf scorch'], dtype='<U11')"
      ]
     },
     "execution_count": 30,
     "metadata": {},
     "output_type": "execute_result"
    }
   ],
   "source": [
    "train_pred3 = model3.predict(X_train)\n",
    "train_pred3"
   ]
  },
  {
   "cell_type": "code",
   "execution_count": 31,
   "id": "3D1wrmZ7QVhu",
   "metadata": {
    "colab": {
     "base_uri": "https://localhost:8080/"
    },
    "executionInfo": {
     "elapsed": 56,
     "status": "ok",
     "timestamp": 1697856660349,
     "user": {
      "displayName": "Omkar Bajantri",
      "userId": "01388216537307988849"
     },
     "user_tz": -330
    },
    "id": "3D1wrmZ7QVhu",
    "outputId": "19366466-06a3-453c-b573-6179844b2b8b"
   },
   "outputs": [
    {
     "data": {
      "text/plain": [
       "1.0"
      ]
     },
     "execution_count": 31,
     "metadata": {},
     "output_type": "execute_result"
    }
   ],
   "source": [
    "train_score3=accuracy_score(y_train,train_pred3)\n",
    "C= round(train_score3, 4)\n",
    "train_score3"
   ]
  },
  {
   "cell_type": "code",
   "execution_count": 32,
   "id": "R0fENCm-QVeR",
   "metadata": {
    "colab": {
     "base_uri": "https://localhost:8080/"
    },
    "executionInfo": {
     "elapsed": 3930,
     "status": "ok",
     "timestamp": 1697856664234,
     "user": {
      "displayName": "Omkar Bajantri",
      "userId": "01388216537307988849"
     },
     "user_tz": -330
    },
    "id": "R0fENCm-QVeR",
    "outputId": "767ecbaa-7560-43b6-dd40-d1a9ada8c76b"
   },
   "outputs": [
    {
     "data": {
      "text/plain": [
       "array(['healthy', 'healthy', 'healthy', 'healthy', 'healthy', 'healthy',\n",
       "       'healthy', 'healthy', 'healthy', 'healthy', 'healthy', 'healthy',\n",
       "       'healthy', 'healthy', 'healthy', 'healthy', 'healthy', 'healthy',\n",
       "       'healthy', 'healthy', 'healthy', 'healthy', 'healthy', 'healthy',\n",
       "       'healthy', 'healthy', 'healthy', 'healthy', 'healthy', 'healthy',\n",
       "       'healthy', 'healthy', 'healthy', 'healthy', 'healthy', 'healthy',\n",
       "       'healthy', 'healthy', 'healthy', 'healthy', 'healthy', 'healthy',\n",
       "       'healthy', 'healthy', 'healthy', 'leaf scorch', 'leaf scorch',\n",
       "       'leaf scorch', 'leaf scorch', 'leaf scorch', 'leaf scorch',\n",
       "       'leaf scorch', 'leaf scorch', 'leaf scorch', 'leaf scorch',\n",
       "       'leaf scorch', 'leaf scorch', 'leaf scorch', 'leaf scorch',\n",
       "       'leaf scorch', 'leaf scorch', 'leaf scorch', 'leaf scorch',\n",
       "       'leaf scorch', 'leaf scorch', 'leaf scorch', 'leaf scorch',\n",
       "       'leaf scorch', 'leaf scorch', 'leaf scorch', 'leaf scorch',\n",
       "       'leaf scorch', 'leaf scorch', 'leaf scorch', 'leaf scorch',\n",
       "       'leaf scorch', 'leaf scorch', 'leaf scorch', 'leaf scorch',\n",
       "       'leaf scorch', 'leaf scorch', 'leaf scorch', 'leaf scorch',\n",
       "       'leaf scorch', 'leaf scorch', 'leaf scorch', 'leaf scorch',\n",
       "       'leaf scorch', 'leaf scorch', 'leaf scorch', 'leaf scorch',\n",
       "       'leaf scorch', 'leaf scorch', 'leaf scorch', 'leaf scorch',\n",
       "       'leaf scorch', 'leaf scorch', 'leaf scorch', 'leaf scorch',\n",
       "       'leaf scorch', 'leaf scorch', 'leaf scorch', 'leaf scorch',\n",
       "       'leaf scorch', 'leaf scorch', 'leaf scorch', 'leaf scorch',\n",
       "       'leaf scorch', 'leaf scorch', 'leaf scorch', 'leaf scorch',\n",
       "       'leaf scorch', 'leaf scorch', 'leaf scorch', 'leaf scorch',\n",
       "       'leaf scorch', 'leaf scorch', 'leaf scorch', 'leaf scorch',\n",
       "       'leaf scorch', 'leaf scorch', 'leaf scorch', 'leaf scorch',\n",
       "       'leaf scorch', 'leaf scorch', 'leaf scorch', 'leaf scorch',\n",
       "       'leaf scorch', 'leaf scorch', 'leaf scorch', 'leaf scorch',\n",
       "       'leaf scorch', 'leaf scorch', 'leaf scorch', 'leaf scorch',\n",
       "       'leaf scorch', 'leaf scorch', 'leaf scorch', 'leaf scorch',\n",
       "       'leaf scorch', 'leaf scorch', 'leaf scorch', 'leaf scorch',\n",
       "       'leaf scorch', 'leaf scorch', 'leaf scorch', 'leaf scorch',\n",
       "       'leaf scorch', 'leaf scorch', 'leaf scorch', 'leaf scorch',\n",
       "       'leaf scorch', 'leaf scorch', 'leaf scorch', 'leaf scorch'],\n",
       "      dtype='<U11')"
      ]
     },
     "execution_count": 32,
     "metadata": {},
     "output_type": "execute_result"
    }
   ],
   "source": [
    "pred3 = model3.predict(X_test)\n",
    "pred3"
   ]
  },
  {
   "cell_type": "code",
   "execution_count": 33,
   "id": "Loe3dOZXQVZ2",
   "metadata": {
    "colab": {
     "base_uri": "https://localhost:8080/"
    },
    "executionInfo": {
     "elapsed": 30,
     "status": "ok",
     "timestamp": 1697856664235,
     "user": {
      "displayName": "Omkar Bajantri",
      "userId": "01388216537307988849"
     },
     "user_tz": -330
    },
    "id": "Loe3dOZXQVZ2",
    "outputId": "56e3a294-417e-4d16-85c2-ad997e86ce70"
   },
   "outputs": [
    {
     "data": {
      "text/plain": [
       "1.0"
      ]
     },
     "execution_count": 33,
     "metadata": {},
     "output_type": "execute_result"
    }
   ],
   "source": [
    "score3=accuracy_score(y_test,pred3)\n",
    "c= round(score3, 4)\n",
    "score3"
   ]
  },
  {
   "cell_type": "code",
   "execution_count": 34,
   "id": "q7cauAn3QVKd",
   "metadata": {
    "colab": {
     "base_uri": "https://localhost:8080/"
    },
    "executionInfo": {
     "elapsed": 18,
     "status": "ok",
     "timestamp": 1697856664235,
     "user": {
      "displayName": "Omkar Bajantri",
      "userId": "01388216537307988849"
     },
     "user_tz": -330
    },
    "id": "q7cauAn3QVKd",
    "outputId": "95ee2b5d-3ae0-4735-b31a-f8362a5ea242"
   },
   "outputs": [
    {
     "name": "stdout",
     "output_type": "stream",
     "text": [
      " AdaBoost Confusion matrix: \n",
      "\n",
      " [[ 45   0]\n",
      " [  0 110]]\n"
     ]
    }
   ],
   "source": [
    "print(\" AdaBoost Confusion matrix: \\n\\n\", confusion_matrix(y_test, pred3))"
   ]
  },
  {
   "cell_type": "code",
   "execution_count": 35,
   "id": "YbkpB5SDQ7J9",
   "metadata": {
    "colab": {
     "base_uri": "https://localhost:8080/"
    },
    "executionInfo": {
     "elapsed": 3500,
     "status": "ok",
     "timestamp": 1697856667722,
     "user": {
      "displayName": "Omkar Bajantri",
      "userId": "01388216537307988849"
     },
     "user_tz": -330
    },
    "id": "YbkpB5SDQ7J9",
    "outputId": "d79585fc-bb5f-47e1-f413-190f86ef2aa0"
   },
   "outputs": [
    {
     "name": "stdout",
     "output_type": "stream",
     "text": [
      " AdaBoost Classification report: \n",
      "\n",
      "               precision    recall  f1-score   support\n",
      "\n",
      "     healthy       1.00      1.00      1.00        45\n",
      " leaf scorch       1.00      1.00      1.00       110\n",
      "\n",
      "    accuracy                           1.00       155\n",
      "   macro avg       1.00      1.00      1.00       155\n",
      "weighted avg       1.00      1.00      1.00       155\n",
      "\n",
      "Test Accuracy: 100.0%\n"
     ]
    }
   ],
   "source": [
    "print(\" AdaBoost Classification report: \\n\\n\", classification_report(y_test, pred3))\n",
    "print(\"Test Accuracy: {}%\".format(round(model3.score(X_test, y_test)*100, 2)))"
   ]
  },
  {
   "cell_type": "code",
   "execution_count": 36,
   "id": "W3LQ4qKBQ68X",
   "metadata": {
    "id": "W3LQ4qKBQ68X"
   },
   "outputs": [],
   "source": [
    "save_model(model3,fruit=fruit,location=\"/content/drive/MyDrive/saved\",filename=\"Ada\")"
   ]
  },
  {
   "cell_type": "markdown",
   "id": "386970c2-f5de-4e8f-86f1-b5f90ada7495",
   "metadata": {
    "id": "386970c2-f5de-4e8f-86f1-b5f90ada7495"
   },
   "source": [
    "# Model -4 K-nearest Neighbors"
   ]
  },
  {
   "cell_type": "code",
   "execution_count": 37,
   "id": "5ae8d163-5673-4c9f-a714-d2fd463112a4",
   "metadata": {
    "colab": {
     "base_uri": "https://localhost:8080/",
     "height": 74
    },
    "executionInfo": {
     "elapsed": 18,
     "status": "ok",
     "timestamp": 1697856667724,
     "user": {
      "displayName": "Omkar Bajantri",
      "userId": "01388216537307988849"
     },
     "user_tz": -330
    },
    "id": "5ae8d163-5673-4c9f-a714-d2fd463112a4",
    "outputId": "f73c75d1-e0f7-4f30-c69a-8daf048f6607"
   },
   "outputs": [
    {
     "data": {
      "text/plain": [
       "KNeighborsClassifier(n_neighbors=3)"
      ]
     },
     "execution_count": 37,
     "metadata": {},
     "output_type": "execute_result"
    }
   ],
   "source": [
    "from sklearn.neighbors import KNeighborsClassifier\n",
    "\n",
    "\n",
    "model4= KNeighborsClassifier(n_neighbors=3, metric='minkowski', p=2)\n",
    "model4.fit(X_train, y_train)\n"
   ]
  },
  {
   "cell_type": "code",
   "execution_count": 38,
   "id": "010fd78d-e732-4653-a8f0-24674628505c",
   "metadata": {
    "colab": {
     "base_uri": "https://localhost:8080/"
    },
    "executionInfo": {
     "elapsed": 9922,
     "status": "ok",
     "timestamp": 1697856677632,
     "user": {
      "displayName": "Omkar Bajantri",
      "userId": "01388216537307988849"
     },
     "user_tz": -330
    },
    "id": "010fd78d-e732-4653-a8f0-24674628505c",
    "outputId": "6c81dd0e-ebd4-45c6-c63b-533ec6be4c89"
   },
   "outputs": [
    {
     "data": {
      "text/plain": [
       "array(['healthy', 'healthy', 'healthy', ..., 'leaf scorch', 'leaf scorch',\n",
       "       'leaf scorch'], dtype='<U11')"
      ]
     },
     "execution_count": 38,
     "metadata": {},
     "output_type": "execute_result"
    }
   ],
   "source": [
    "train_pred4 = model4.predict(X_train)\n",
    "train_pred4"
   ]
  },
  {
   "cell_type": "code",
   "execution_count": 39,
   "id": "9a10644c-54a0-408d-9816-9dbcc19895e5",
   "metadata": {
    "colab": {
     "base_uri": "https://localhost:8080/"
    },
    "executionInfo": {
     "elapsed": 42,
     "status": "ok",
     "timestamp": 1697856677633,
     "user": {
      "displayName": "Omkar Bajantri",
      "userId": "01388216537307988849"
     },
     "user_tz": -330
    },
    "id": "9a10644c-54a0-408d-9816-9dbcc19895e5",
    "outputId": "efdc5cab-190b-4411-d78f-264c5ca63e25"
   },
   "outputs": [
    {
     "data": {
      "text/plain": [
       "0.9300265721877768"
      ]
     },
     "execution_count": 39,
     "metadata": {},
     "output_type": "execute_result"
    }
   ],
   "source": [
    "train_score4=accuracy_score(y_train,train_pred4)\n",
    "D= round(train_score4, 3)\n",
    "train_score4"
   ]
  },
  {
   "cell_type": "code",
   "execution_count": 40,
   "id": "5dc6ae3f-c8dd-4716-911e-d52a344a31d4",
   "metadata": {
    "colab": {
     "base_uri": "https://localhost:8080/"
    },
    "executionInfo": {
     "elapsed": 2892,
     "status": "ok",
     "timestamp": 1697856680488,
     "user": {
      "displayName": "Omkar Bajantri",
      "userId": "01388216537307988849"
     },
     "user_tz": -330
    },
    "id": "5dc6ae3f-c8dd-4716-911e-d52a344a31d4",
    "outputId": "f362a503-7e38-45b7-d925-87afbb1cc4d9"
   },
   "outputs": [
    {
     "data": {
      "text/plain": [
       "array(['healthy', 'healthy', 'healthy', 'healthy', 'healthy', 'healthy',\n",
       "       'healthy', 'healthy', 'healthy', 'healthy', 'leaf scorch',\n",
       "       'healthy', 'healthy', 'healthy', 'healthy', 'healthy', 'healthy',\n",
       "       'healthy', 'healthy', 'healthy', 'healthy', 'healthy', 'healthy',\n",
       "       'healthy', 'healthy', 'healthy', 'healthy', 'healthy', 'healthy',\n",
       "       'healthy', 'healthy', 'healthy', 'healthy', 'healthy', 'healthy',\n",
       "       'leaf scorch', 'healthy', 'healthy', 'healthy', 'healthy',\n",
       "       'healthy', 'healthy', 'healthy', 'healthy', 'healthy',\n",
       "       'leaf scorch', 'leaf scorch', 'leaf scorch', 'leaf scorch',\n",
       "       'leaf scorch', 'leaf scorch', 'leaf scorch', 'leaf scorch',\n",
       "       'leaf scorch', 'leaf scorch', 'leaf scorch', 'leaf scorch',\n",
       "       'leaf scorch', 'leaf scorch', 'leaf scorch', 'leaf scorch',\n",
       "       'leaf scorch', 'healthy', 'leaf scorch', 'leaf scorch',\n",
       "       'leaf scorch', 'leaf scorch', 'leaf scorch', 'leaf scorch',\n",
       "       'leaf scorch', 'leaf scorch', 'leaf scorch', 'leaf scorch',\n",
       "       'leaf scorch', 'leaf scorch', 'leaf scorch', 'leaf scorch',\n",
       "       'leaf scorch', 'leaf scorch', 'leaf scorch', 'leaf scorch',\n",
       "       'leaf scorch', 'leaf scorch', 'healthy', 'leaf scorch',\n",
       "       'leaf scorch', 'leaf scorch', 'leaf scorch', 'leaf scorch',\n",
       "       'healthy', 'leaf scorch', 'leaf scorch', 'leaf scorch',\n",
       "       'leaf scorch', 'leaf scorch', 'healthy', 'leaf scorch',\n",
       "       'leaf scorch', 'leaf scorch', 'leaf scorch', 'leaf scorch',\n",
       "       'leaf scorch', 'leaf scorch', 'leaf scorch', 'leaf scorch',\n",
       "       'leaf scorch', 'leaf scorch', 'leaf scorch', 'healthy',\n",
       "       'leaf scorch', 'leaf scorch', 'leaf scorch', 'healthy',\n",
       "       'leaf scorch', 'leaf scorch', 'leaf scorch', 'leaf scorch',\n",
       "       'leaf scorch', 'leaf scorch', 'leaf scorch', 'leaf scorch',\n",
       "       'leaf scorch', 'leaf scorch', 'leaf scorch', 'leaf scorch',\n",
       "       'leaf scorch', 'leaf scorch', 'leaf scorch', 'leaf scorch',\n",
       "       'leaf scorch', 'leaf scorch', 'healthy', 'leaf scorch',\n",
       "       'leaf scorch', 'leaf scorch', 'leaf scorch', 'leaf scorch',\n",
       "       'leaf scorch', 'leaf scorch', 'leaf scorch', 'leaf scorch',\n",
       "       'leaf scorch', 'leaf scorch', 'leaf scorch', 'healthy',\n",
       "       'leaf scorch', 'leaf scorch', 'leaf scorch', 'leaf scorch',\n",
       "       'leaf scorch', 'leaf scorch', 'leaf scorch', 'leaf scorch',\n",
       "       'leaf scorch', 'leaf scorch'], dtype='<U11')"
      ]
     },
     "execution_count": 40,
     "metadata": {},
     "output_type": "execute_result"
    }
   ],
   "source": [
    "pred4= model4.predict(X_test)\n",
    "pred4"
   ]
  },
  {
   "cell_type": "code",
   "execution_count": 41,
   "id": "b13d1995-1152-49a3-9e46-1c0f719a407e",
   "metadata": {
    "colab": {
     "base_uri": "https://localhost:8080/"
    },
    "executionInfo": {
     "elapsed": 29,
     "status": "ok",
     "timestamp": 1697856680489,
     "user": {
      "displayName": "Omkar Bajantri",
      "userId": "01388216537307988849"
     },
     "user_tz": -330
    },
    "id": "b13d1995-1152-49a3-9e46-1c0f719a407e",
    "outputId": "ec841dac-9382-4038-e1bb-5d416b15df1d"
   },
   "outputs": [
    {
     "data": {
      "text/plain": [
       "0.9354838709677419"
      ]
     },
     "execution_count": 41,
     "metadata": {},
     "output_type": "execute_result"
    }
   ],
   "source": [
    "score4=accuracy_score(y_test,pred4)\n",
    "d= round(score4, 4)\n",
    "score4"
   ]
  },
  {
   "cell_type": "code",
   "execution_count": 42,
   "id": "yb7-VUxZiP7I",
   "metadata": {
    "colab": {
     "base_uri": "https://localhost:8080/"
    },
    "executionInfo": {
     "elapsed": 24,
     "status": "ok",
     "timestamp": 1697856680489,
     "user": {
      "displayName": "Omkar Bajantri",
      "userId": "01388216537307988849"
     },
     "user_tz": -330
    },
    "id": "yb7-VUxZiP7I",
    "outputId": "9d84b755-9194-46cb-ae10-3149aa12435d"
   },
   "outputs": [
    {
     "name": "stdout",
     "output_type": "stream",
     "text": [
      "K-nearest Neighbors Confusion matrix: \n",
      "\n",
      " [[ 43   2]\n",
      " [  8 102]]\n"
     ]
    }
   ],
   "source": [
    "print(\"K-nearest Neighbors Confusion matrix: \\n\\n\", confusion_matrix(y_test, pred4))"
   ]
  },
  {
   "cell_type": "code",
   "execution_count": 43,
   "id": "7781c0cc-b25f-45fd-be8b-734d0ab8849d",
   "metadata": {
    "colab": {
     "base_uri": "https://localhost:8080/"
    },
    "executionInfo": {
     "elapsed": 2870,
     "status": "ok",
     "timestamp": 1697856683339,
     "user": {
      "displayName": "Omkar Bajantri",
      "userId": "01388216537307988849"
     },
     "user_tz": -330
    },
    "id": "7781c0cc-b25f-45fd-be8b-734d0ab8849d",
    "outputId": "bb81ed8a-1282-4c48-e441-2ef01ef88069"
   },
   "outputs": [
    {
     "name": "stdout",
     "output_type": "stream",
     "text": [
      "K-nearest Neighbors Classification report: \n",
      "\n",
      "               precision    recall  f1-score   support\n",
      "\n",
      "     healthy       0.84      0.96      0.90        45\n",
      " leaf scorch       0.98      0.93      0.95       110\n",
      "\n",
      "    accuracy                           0.94       155\n",
      "   macro avg       0.91      0.94      0.92       155\n",
      "weighted avg       0.94      0.94      0.94       155\n",
      "\n",
      "Test Accuracy: 93.55%\n"
     ]
    }
   ],
   "source": [
    "print(\"K-nearest Neighbors Classification report: \\n\\n\", classification_report(y_test, pred4))\n",
    "print(\"Test Accuracy: {}%\".format(round(model4.score(X_test, y_test)*100, 2)))"
   ]
  },
  {
   "cell_type": "code",
   "execution_count": 44,
   "id": "ab797aba-73b6-420b-b4c0-964493dad096",
   "metadata": {
    "id": "ab797aba-73b6-420b-b4c0-964493dad096"
   },
   "outputs": [],
   "source": [
    "save_model(model4,fruit=fruit,location=\"/content/drive/MyDrive/saved\",filename=\"KNN\")"
   ]
  },
  {
   "cell_type": "markdown",
   "id": "d9067b02-9152-4aed-92dc-37734f57b0bc",
   "metadata": {
    "id": "d9067b02-9152-4aed-92dc-37734f57b0bc"
   },
   "source": [
    "# Model -5 Random Forest"
   ]
  },
  {
   "cell_type": "code",
   "execution_count": 45,
   "id": "6ed5329c-e868-4ec6-80c9-4bd5491d93d2",
   "metadata": {
    "colab": {
     "base_uri": "https://localhost:8080/",
     "height": 92
    },
    "executionInfo": {
     "elapsed": 29592,
     "status": "ok",
     "timestamp": 1697856713637,
     "user": {
      "displayName": "Omkar Bajantri",
      "userId": "01388216537307988849"
     },
     "user_tz": -330
    },
    "id": "6ed5329c-e868-4ec6-80c9-4bd5491d93d2",
    "outputId": "775ca645-e937-4b65-d93b-4e008f34c989"
   },
   "outputs": [
    {
     "name": "stderr",
     "output_type": "stream",
     "text": [
      "[Parallel(n_jobs=1)]: Using backend SequentialBackend with 1 concurrent workers.\n",
      "[Parallel(n_jobs=1)]: Done 150 out of 150 | elapsed:   25.8s finished\n"
     ]
    },
    {
     "data": {
      "text/plain": [
       "RandomForestClassifier(n_estimators=150, random_state=0, verbose=1)"
      ]
     },
     "execution_count": 45,
     "metadata": {},
     "output_type": "execute_result"
    }
   ],
   "source": [
    "from sklearn.ensemble import RandomForestClassifier\n",
    "\n",
    "model5= RandomForestClassifier(n_estimators= 150, criterion=\"gini\",verbose=1, random_state=0)\n",
    "model5.fit(X_train, y_train)"
   ]
  },
  {
   "cell_type": "code",
   "execution_count": 46,
   "id": "da67ac7f-32d4-4286-a0f8-baf20bc2087a",
   "metadata": {
    "colab": {
     "base_uri": "https://localhost:8080/"
    },
    "executionInfo": {
     "elapsed": 50,
     "status": "ok",
     "timestamp": 1697856713637,
     "user": {
      "displayName": "Omkar Bajantri",
      "userId": "01388216537307988849"
     },
     "user_tz": -330
    },
    "id": "da67ac7f-32d4-4286-a0f8-baf20bc2087a",
    "outputId": "406fd9c0-5080-4c03-dd9d-4775c39fe3f5"
   },
   "outputs": [
    {
     "name": "stderr",
     "output_type": "stream",
     "text": [
      "[Parallel(n_jobs=1)]: Using backend SequentialBackend with 1 concurrent workers.\n",
      "[Parallel(n_jobs=1)]: Done 150 out of 150 | elapsed:    0.0s finished\n"
     ]
    },
    {
     "data": {
      "text/plain": [
       "array(['healthy', 'healthy', 'healthy', ..., 'leaf scorch', 'leaf scorch',\n",
       "       'leaf scorch'], dtype='<U11')"
      ]
     },
     "execution_count": 46,
     "metadata": {},
     "output_type": "execute_result"
    }
   ],
   "source": [
    "train_pred5 = model5.predict(X_train)\n",
    "train_pred5"
   ]
  },
  {
   "cell_type": "code",
   "execution_count": 47,
   "id": "10bb5329-12ba-4f2a-ab97-68e419f6a9c0",
   "metadata": {
    "colab": {
     "base_uri": "https://localhost:8080/"
    },
    "executionInfo": {
     "elapsed": 44,
     "status": "ok",
     "timestamp": 1697856713638,
     "user": {
      "displayName": "Omkar Bajantri",
      "userId": "01388216537307988849"
     },
     "user_tz": -330
    },
    "id": "10bb5329-12ba-4f2a-ab97-68e419f6a9c0",
    "outputId": "b94e326d-413b-47fc-ca0c-ce4a2742acea"
   },
   "outputs": [
    {
     "data": {
      "text/plain": [
       "1.0"
      ]
     },
     "execution_count": 47,
     "metadata": {},
     "output_type": "execute_result"
    }
   ],
   "source": [
    "train_score5=accuracy_score(y_train,train_pred5)\n",
    "E= round(train_score5, 4)\n",
    "train_score5"
   ]
  },
  {
   "cell_type": "code",
   "execution_count": 48,
   "id": "3b276d32-eb75-4bab-913c-30ccf6a054d2",
   "metadata": {
    "colab": {
     "base_uri": "https://localhost:8080/"
    },
    "executionInfo": {
     "elapsed": 38,
     "status": "ok",
     "timestamp": 1697856713638,
     "user": {
      "displayName": "Omkar Bajantri",
      "userId": "01388216537307988849"
     },
     "user_tz": -330
    },
    "id": "3b276d32-eb75-4bab-913c-30ccf6a054d2",
    "outputId": "dd615fa4-5814-4e3c-d887-b439c34c431c"
   },
   "outputs": [
    {
     "name": "stderr",
     "output_type": "stream",
     "text": [
      "[Parallel(n_jobs=1)]: Using backend SequentialBackend with 1 concurrent workers.\n",
      "[Parallel(n_jobs=1)]: Done 150 out of 150 | elapsed:    0.0s finished\n"
     ]
    },
    {
     "data": {
      "text/plain": [
       "array(['healthy', 'healthy', 'healthy', 'healthy', 'healthy', 'healthy',\n",
       "       'healthy', 'healthy', 'healthy', 'healthy', 'healthy', 'healthy',\n",
       "       'healthy', 'healthy', 'healthy', 'healthy', 'healthy', 'healthy',\n",
       "       'healthy', 'healthy', 'healthy', 'healthy', 'healthy', 'healthy',\n",
       "       'healthy', 'healthy', 'healthy', 'healthy', 'healthy', 'healthy',\n",
       "       'healthy', 'healthy', 'healthy', 'healthy', 'healthy', 'healthy',\n",
       "       'healthy', 'healthy', 'healthy', 'healthy', 'healthy', 'healthy',\n",
       "       'healthy', 'healthy', 'healthy', 'leaf scorch', 'leaf scorch',\n",
       "       'leaf scorch', 'leaf scorch', 'leaf scorch', 'leaf scorch',\n",
       "       'leaf scorch', 'leaf scorch', 'leaf scorch', 'leaf scorch',\n",
       "       'leaf scorch', 'leaf scorch', 'leaf scorch', 'leaf scorch',\n",
       "       'leaf scorch', 'leaf scorch', 'leaf scorch', 'leaf scorch',\n",
       "       'leaf scorch', 'leaf scorch', 'leaf scorch', 'leaf scorch',\n",
       "       'leaf scorch', 'leaf scorch', 'leaf scorch', 'leaf scorch',\n",
       "       'leaf scorch', 'leaf scorch', 'leaf scorch', 'leaf scorch',\n",
       "       'leaf scorch', 'leaf scorch', 'leaf scorch', 'leaf scorch',\n",
       "       'leaf scorch', 'leaf scorch', 'leaf scorch', 'leaf scorch',\n",
       "       'leaf scorch', 'leaf scorch', 'leaf scorch', 'leaf scorch',\n",
       "       'leaf scorch', 'leaf scorch', 'leaf scorch', 'leaf scorch',\n",
       "       'leaf scorch', 'leaf scorch', 'leaf scorch', 'leaf scorch',\n",
       "       'leaf scorch', 'leaf scorch', 'leaf scorch', 'leaf scorch',\n",
       "       'leaf scorch', 'leaf scorch', 'leaf scorch', 'leaf scorch',\n",
       "       'leaf scorch', 'leaf scorch', 'leaf scorch', 'leaf scorch',\n",
       "       'leaf scorch', 'leaf scorch', 'leaf scorch', 'leaf scorch',\n",
       "       'leaf scorch', 'leaf scorch', 'leaf scorch', 'leaf scorch',\n",
       "       'leaf scorch', 'leaf scorch', 'leaf scorch', 'leaf scorch',\n",
       "       'leaf scorch', 'leaf scorch', 'leaf scorch', 'leaf scorch',\n",
       "       'leaf scorch', 'leaf scorch', 'leaf scorch', 'leaf scorch',\n",
       "       'leaf scorch', 'leaf scorch', 'leaf scorch', 'leaf scorch',\n",
       "       'leaf scorch', 'leaf scorch', 'leaf scorch', 'leaf scorch',\n",
       "       'leaf scorch', 'leaf scorch', 'leaf scorch', 'leaf scorch',\n",
       "       'leaf scorch', 'leaf scorch', 'leaf scorch', 'leaf scorch',\n",
       "       'leaf scorch', 'leaf scorch', 'leaf scorch', 'leaf scorch',\n",
       "       'leaf scorch', 'leaf scorch', 'leaf scorch', 'leaf scorch',\n",
       "       'leaf scorch', 'leaf scorch', 'leaf scorch', 'leaf scorch'],\n",
       "      dtype='<U11')"
      ]
     },
     "execution_count": 48,
     "metadata": {},
     "output_type": "execute_result"
    }
   ],
   "source": [
    "pred5= model5.predict(X_test)\n",
    "pred5"
   ]
  },
  {
   "cell_type": "code",
   "execution_count": 49,
   "id": "67dd3a7b-fd31-4aca-af34-0850d73fe9a6",
   "metadata": {
    "colab": {
     "base_uri": "https://localhost:8080/"
    },
    "executionInfo": {
     "elapsed": 33,
     "status": "ok",
     "timestamp": 1697856713639,
     "user": {
      "displayName": "Omkar Bajantri",
      "userId": "01388216537307988849"
     },
     "user_tz": -330
    },
    "id": "67dd3a7b-fd31-4aca-af34-0850d73fe9a6",
    "outputId": "5d4f73fc-976c-4a59-9ae1-650c07c83932"
   },
   "outputs": [
    {
     "data": {
      "text/plain": [
       "1.0"
      ]
     },
     "execution_count": 49,
     "metadata": {},
     "output_type": "execute_result"
    }
   ],
   "source": [
    "score5=accuracy_score(y_test,pred5)\n",
    "e= round(score5, 4)\n",
    "score5"
   ]
  },
  {
   "cell_type": "code",
   "execution_count": 50,
   "id": "myXi1NKyiVWA",
   "metadata": {
    "colab": {
     "base_uri": "https://localhost:8080/"
    },
    "executionInfo": {
     "elapsed": 25,
     "status": "ok",
     "timestamp": 1697856713639,
     "user": {
      "displayName": "Omkar Bajantri",
      "userId": "01388216537307988849"
     },
     "user_tz": -330
    },
    "id": "myXi1NKyiVWA",
    "outputId": "38139a62-25e9-4b74-990e-adc0adde63a2"
   },
   "outputs": [
    {
     "name": "stdout",
     "output_type": "stream",
     "text": [
      "Random Forest Confusion matrix: \n",
      "\n",
      " [[ 45   0]\n",
      " [  0 110]]\n"
     ]
    }
   ],
   "source": [
    "print(\"Random Forest Confusion matrix: \\n\\n\", confusion_matrix(y_test, pred5))"
   ]
  },
  {
   "cell_type": "code",
   "execution_count": 51,
   "id": "def9efa2-fad2-4e9f-9575-4a0e91d70b85",
   "metadata": {
    "colab": {
     "base_uri": "https://localhost:8080/"
    },
    "executionInfo": {
     "elapsed": 21,
     "status": "ok",
     "timestamp": 1697856713640,
     "user": {
      "displayName": "Omkar Bajantri",
      "userId": "01388216537307988849"
     },
     "user_tz": -330
    },
    "id": "def9efa2-fad2-4e9f-9575-4a0e91d70b85",
    "outputId": "6bb3e3a4-d138-4094-a626-70a6d2a1bf36"
   },
   "outputs": [
    {
     "name": "stdout",
     "output_type": "stream",
     "text": [
      " Random Forest  Classification report: \n",
      "\n",
      "               precision    recall  f1-score   support\n",
      "\n",
      "     healthy       1.00      1.00      1.00        45\n",
      " leaf scorch       1.00      1.00      1.00       110\n",
      "\n",
      "    accuracy                           1.00       155\n",
      "   macro avg       1.00      1.00      1.00       155\n",
      "weighted avg       1.00      1.00      1.00       155\n",
      "\n",
      "Test Accuracy: 100.0%\n"
     ]
    },
    {
     "name": "stderr",
     "output_type": "stream",
     "text": [
      "[Parallel(n_jobs=1)]: Using backend SequentialBackend with 1 concurrent workers.\n",
      "[Parallel(n_jobs=1)]: Done 150 out of 150 | elapsed:    0.0s finished\n"
     ]
    }
   ],
   "source": [
    "print(\" Random Forest  Classification report: \\n\\n\", classification_report(y_test, pred5))\n",
    "print(\"Test Accuracy: {}%\".format(round(model5.score(X_test, y_test)*100, 2)))"
   ]
  },
  {
   "cell_type": "code",
   "execution_count": 52,
   "id": "7fd6c051-af9d-4fe1-83d4-418631c7af60",
   "metadata": {
    "id": "7fd6c051-af9d-4fe1-83d4-418631c7af60"
   },
   "outputs": [],
   "source": [
    "save_model(model5,fruit=fruit,location=\"/content/drive/MyDrive/saved\",filename=\"RF\")"
   ]
  },
  {
   "cell_type": "markdown",
   "id": "34561624-f80f-4eb0-ab11-49097f4bc149",
   "metadata": {
    "id": "34561624-f80f-4eb0-ab11-49097f4bc149"
   },
   "source": [
    "# Model -6 Decision Tree"
   ]
  },
  {
   "cell_type": "code",
   "execution_count": 53,
   "id": "7f2809f3-cf4b-4c96-9486-34775c241888",
   "metadata": {
    "colab": {
     "base_uri": "https://localhost:8080/",
     "height": 74
    },
    "executionInfo": {
     "elapsed": 27906,
     "status": "ok",
     "timestamp": 1697856742260,
     "user": {
      "displayName": "Omkar Bajantri",
      "userId": "01388216537307988849"
     },
     "user_tz": -330
    },
    "id": "7f2809f3-cf4b-4c96-9486-34775c241888",
    "outputId": "e1f5805b-b2bf-445c-d2cd-eb250db72322"
   },
   "outputs": [
    {
     "data": {
      "text/plain": [
       "DecisionTreeClassifier(splitter='random')"
      ]
     },
     "execution_count": 53,
     "metadata": {},
     "output_type": "execute_result"
    }
   ],
   "source": [
    "from sklearn.tree import DecisionTreeClassifier\n",
    "\n",
    "model6= DecisionTreeClassifier(criterion='gini', splitter='random', min_samples_split=2, min_samples_leaf=1)\n",
    "model6.fit(X_train, y_train)"
   ]
  },
  {
   "cell_type": "code",
   "execution_count": 54,
   "id": "849ec1b8-0410-4a43-ba11-5b999266b37f",
   "metadata": {
    "colab": {
     "base_uri": "https://localhost:8080/"
    },
    "executionInfo": {
     "elapsed": 46,
     "status": "ok",
     "timestamp": 1697856742261,
     "user": {
      "displayName": "Omkar Bajantri",
      "userId": "01388216537307988849"
     },
     "user_tz": -330
    },
    "id": "849ec1b8-0410-4a43-ba11-5b999266b37f",
    "outputId": "7d01b21a-9b79-4352-80c9-0d1368e3b30e"
   },
   "outputs": [
    {
     "data": {
      "text/plain": [
       "array(['healthy', 'healthy', 'healthy', ..., 'leaf scorch', 'leaf scorch',\n",
       "       'leaf scorch'], dtype='<U11')"
      ]
     },
     "execution_count": 54,
     "metadata": {},
     "output_type": "execute_result"
    }
   ],
   "source": [
    "train_pred6 = model6.predict(X_train)\n",
    "train_pred6"
   ]
  },
  {
   "cell_type": "code",
   "execution_count": 55,
   "id": "be390c01-359f-4758-8882-43f6acfe3c0d",
   "metadata": {
    "colab": {
     "base_uri": "https://localhost:8080/"
    },
    "executionInfo": {
     "elapsed": 41,
     "status": "ok",
     "timestamp": 1697856742262,
     "user": {
      "displayName": "Omkar Bajantri",
      "userId": "01388216537307988849"
     },
     "user_tz": -330
    },
    "id": "be390c01-359f-4758-8882-43f6acfe3c0d",
    "outputId": "f4b8289e-b150-4f7c-e67b-13e8ade1e304"
   },
   "outputs": [
    {
     "data": {
      "text/plain": [
       "1.0"
      ]
     },
     "execution_count": 55,
     "metadata": {},
     "output_type": "execute_result"
    }
   ],
   "source": [
    "train_score6=accuracy_score(y_train,train_pred6)\n",
    "F= round(train_score6, 4)\n",
    "train_score6"
   ]
  },
  {
   "cell_type": "code",
   "execution_count": 56,
   "id": "bb174ab4-c6f7-4ae0-9e1d-ec20cb27412d",
   "metadata": {
    "colab": {
     "base_uri": "https://localhost:8080/"
    },
    "executionInfo": {
     "elapsed": 35,
     "status": "ok",
     "timestamp": 1697856742262,
     "user": {
      "displayName": "Omkar Bajantri",
      "userId": "01388216537307988849"
     },
     "user_tz": -330
    },
    "id": "bb174ab4-c6f7-4ae0-9e1d-ec20cb27412d",
    "outputId": "222dcd87-4fa3-4f7c-fa03-14fbc791d61e"
   },
   "outputs": [
    {
     "data": {
      "text/plain": [
       "array(['healthy', 'healthy', 'healthy', 'healthy', 'healthy', 'healthy',\n",
       "       'healthy', 'healthy', 'healthy', 'healthy', 'healthy', 'healthy',\n",
       "       'healthy', 'healthy', 'healthy', 'healthy', 'healthy', 'healthy',\n",
       "       'healthy', 'healthy', 'healthy', 'healthy', 'healthy', 'healthy',\n",
       "       'healthy', 'healthy', 'healthy', 'healthy', 'healthy', 'healthy',\n",
       "       'healthy', 'healthy', 'healthy', 'healthy', 'healthy', 'healthy',\n",
       "       'healthy', 'healthy', 'healthy', 'healthy', 'healthy', 'healthy',\n",
       "       'healthy', 'healthy', 'healthy', 'leaf scorch', 'leaf scorch',\n",
       "       'leaf scorch', 'leaf scorch', 'leaf scorch', 'leaf scorch',\n",
       "       'leaf scorch', 'leaf scorch', 'leaf scorch', 'leaf scorch',\n",
       "       'leaf scorch', 'leaf scorch', 'leaf scorch', 'leaf scorch',\n",
       "       'leaf scorch', 'leaf scorch', 'leaf scorch', 'leaf scorch',\n",
       "       'leaf scorch', 'leaf scorch', 'leaf scorch', 'leaf scorch',\n",
       "       'leaf scorch', 'leaf scorch', 'leaf scorch', 'leaf scorch',\n",
       "       'leaf scorch', 'leaf scorch', 'leaf scorch', 'leaf scorch',\n",
       "       'leaf scorch', 'leaf scorch', 'leaf scorch', 'leaf scorch',\n",
       "       'leaf scorch', 'leaf scorch', 'leaf scorch', 'leaf scorch',\n",
       "       'leaf scorch', 'leaf scorch', 'leaf scorch', 'leaf scorch',\n",
       "       'leaf scorch', 'leaf scorch', 'leaf scorch', 'leaf scorch',\n",
       "       'leaf scorch', 'leaf scorch', 'leaf scorch', 'leaf scorch',\n",
       "       'leaf scorch', 'leaf scorch', 'leaf scorch', 'leaf scorch',\n",
       "       'leaf scorch', 'leaf scorch', 'leaf scorch', 'leaf scorch',\n",
       "       'leaf scorch', 'leaf scorch', 'leaf scorch', 'leaf scorch',\n",
       "       'leaf scorch', 'leaf scorch', 'leaf scorch', 'leaf scorch',\n",
       "       'leaf scorch', 'leaf scorch', 'leaf scorch', 'leaf scorch',\n",
       "       'leaf scorch', 'leaf scorch', 'leaf scorch', 'leaf scorch',\n",
       "       'leaf scorch', 'leaf scorch', 'leaf scorch', 'leaf scorch',\n",
       "       'leaf scorch', 'leaf scorch', 'leaf scorch', 'leaf scorch',\n",
       "       'leaf scorch', 'leaf scorch', 'leaf scorch', 'leaf scorch',\n",
       "       'leaf scorch', 'leaf scorch', 'leaf scorch', 'leaf scorch',\n",
       "       'leaf scorch', 'leaf scorch', 'leaf scorch', 'leaf scorch',\n",
       "       'leaf scorch', 'leaf scorch', 'leaf scorch', 'leaf scorch',\n",
       "       'leaf scorch', 'leaf scorch', 'leaf scorch', 'leaf scorch',\n",
       "       'leaf scorch', 'leaf scorch', 'leaf scorch', 'leaf scorch',\n",
       "       'leaf scorch', 'leaf scorch', 'leaf scorch', 'leaf scorch'],\n",
       "      dtype='<U11')"
      ]
     },
     "execution_count": 56,
     "metadata": {},
     "output_type": "execute_result"
    }
   ],
   "source": [
    "pred6= model6.predict(X_test)\n",
    "pred6"
   ]
  },
  {
   "cell_type": "code",
   "execution_count": 57,
   "id": "a0499b95-5235-4050-9078-043f583feddf",
   "metadata": {
    "colab": {
     "base_uri": "https://localhost:8080/"
    },
    "executionInfo": {
     "elapsed": 29,
     "status": "ok",
     "timestamp": 1697856742262,
     "user": {
      "displayName": "Omkar Bajantri",
      "userId": "01388216537307988849"
     },
     "user_tz": -330
    },
    "id": "a0499b95-5235-4050-9078-043f583feddf",
    "outputId": "12695601-78a5-4b8e-e030-20d60fb5489a"
   },
   "outputs": [
    {
     "data": {
      "text/plain": [
       "1.0"
      ]
     },
     "execution_count": 57,
     "metadata": {},
     "output_type": "execute_result"
    }
   ],
   "source": [
    "score6=accuracy_score(y_test,pred6)\n",
    "f= round(score6, 4)\n",
    "score6"
   ]
  },
  {
   "cell_type": "code",
   "execution_count": 58,
   "id": "lxBm1zaIiZiO",
   "metadata": {
    "colab": {
     "base_uri": "https://localhost:8080/"
    },
    "executionInfo": {
     "elapsed": 23,
     "status": "ok",
     "timestamp": 1697856742263,
     "user": {
      "displayName": "Omkar Bajantri",
      "userId": "01388216537307988849"
     },
     "user_tz": -330
    },
    "id": "lxBm1zaIiZiO",
    "outputId": "1c310037-ce5d-46a4-da59-400c2b590f35"
   },
   "outputs": [
    {
     "name": "stdout",
     "output_type": "stream",
     "text": [
      "Decision Tree Confusion matrix: \n",
      "\n",
      " [[ 45   0]\n",
      " [  0 110]]\n"
     ]
    }
   ],
   "source": [
    "print(\"Decision Tree Confusion matrix: \\n\\n\", confusion_matrix(y_test, pred6))"
   ]
  },
  {
   "cell_type": "code",
   "execution_count": 59,
   "id": "1dfce035-e467-4587-8e86-efe02a1f782e",
   "metadata": {
    "colab": {
     "base_uri": "https://localhost:8080/"
    },
    "executionInfo": {
     "elapsed": 18,
     "status": "ok",
     "timestamp": 1697856742263,
     "user": {
      "displayName": "Omkar Bajantri",
      "userId": "01388216537307988849"
     },
     "user_tz": -330
    },
    "id": "1dfce035-e467-4587-8e86-efe02a1f782e",
    "outputId": "b8a71e77-567a-42d8-98ea-0ca562e940a9"
   },
   "outputs": [
    {
     "name": "stdout",
     "output_type": "stream",
     "text": [
      "Decision Tree Classification report: \n",
      "\n",
      "               precision    recall  f1-score   support\n",
      "\n",
      "     healthy       1.00      1.00      1.00        45\n",
      " leaf scorch       1.00      1.00      1.00       110\n",
      "\n",
      "    accuracy                           1.00       155\n",
      "   macro avg       1.00      1.00      1.00       155\n",
      "weighted avg       1.00      1.00      1.00       155\n",
      "\n",
      "Test Accuracy: 100.0%\n"
     ]
    }
   ],
   "source": [
    "print(\"Decision Tree Classification report: \\n\\n\", classification_report(y_test, pred6))\n",
    "print(\"Test Accuracy: {}%\".format(round(model6.score(X_test, y_test)*100, 2)))"
   ]
  },
  {
   "cell_type": "code",
   "execution_count": 60,
   "id": "f28d2623-7ed7-496c-aeb1-9d17811ceb4b",
   "metadata": {
    "id": "f28d2623-7ed7-496c-aeb1-9d17811ceb4b"
   },
   "outputs": [],
   "source": [
    "save_model(model6,fruit=fruit,location=\"/content/drive/MyDrive/saved\",filename=\"DT\")"
   ]
  },
  {
   "cell_type": "markdown",
   "id": "80027ab4-b153-427f-b933-a372d7a30718",
   "metadata": {
    "id": "80027ab4-b153-427f-b933-a372d7a30718"
   },
   "source": [
    "# Comparision Using Box plot"
   ]
  },
  {
   "cell_type": "code",
   "execution_count": 61,
   "id": "03c5e3f6-1268-4cbe-b870-62eb19caa13a",
   "metadata": {
    "colab": {
     "base_uri": "https://localhost:8080/",
     "height": 670
    },
    "executionInfo": {
     "elapsed": 1115,
     "status": "ok",
     "timestamp": 1697856743366,
     "user": {
      "displayName": "Omkar Bajantri",
      "userId": "01388216537307988849"
     },
     "user_tz": -330
    },
    "id": "03c5e3f6-1268-4cbe-b870-62eb19caa13a",
    "outputId": "786d088b-5636-417a-8008-123d35e1a75c"
   },
   "outputs": [
    {
     "data": {
      "image/png": "[encoded data removed]",
      "text/plain": [
       "<Figure size 1500x700 with 1 Axes>"
      ]
     },
     "metadata": {},
     "output_type": "display_data"
    },
    {
     "data": {
      "image/png": "[encoded data removed]",
      "text/plain": [
       "<Figure size 1500x700 with 1 Axes>"
      ]
     },
     "metadata": {},
     "output_type": "display_data"
    }
   ],
   "source": [
    "from matplotlib import pyplot as plt\n",
    "\n",
    "def labels(x,y):\n",
    "    for i in range(len(x)):\n",
    "        plt.text(i,y[i],y[i])\n",
    "\n",
    "if __name__ == '__main__':\n",
    "    x = ['SVM', 'MLP', 'AdaBoost', 'KNN', 'RF', 'DT']\n",
    "    y = [a, b, c, d, e,f]\n",
    "    Y = [A, B, C, D, E,F]\n",
    "\n",
    "    fig = plt.figure(figsize =(15, 7))\n",
    "    ax = plt.axes()\n",
    "    ax.set_facecolor(\"peachpuff\")\n",
    "    plt.bar(x, Y, width=0.4, color='lime')\n",
    "    labels(x, Y)\n",
    "    plt.xlabel('Models')\n",
    "    plt.ylabel(\"Acurracy In Training\")\n",
    "    plt.title('Algorithm Comparison Training')\n",
    "    plt.show()\n",
    "\n",
    "    fig = plt.figure(figsize =(15, 7))\n",
    "    ax = plt.axes()\n",
    "    labels(x, y)\n",
    "    ax.set_facecolor(\"peachpuff\")\n",
    "    plt.bar( x , y, width=0.4, color='lime')\n",
    "    plt.xlabel('Models')\n",
    "    plt.ylabel(\"Acurracy In Testing\")\n",
    "    plt.title('Algorithm Comparison Testing')\n",
    "    plt.show()\n",
    "\n"
   ]
  },
  {
   "cell_type": "code",
   "execution_count": null,
   "id": "umDAS6k2z9rD",
   "metadata": {
    "id": "umDAS6k2z9rD"
   },
   "outputs": [],
   "source": []
  }
 ],
 "metadata": {
  "colab": {
   "provenance": []
  },
  "kernelspec": {
   "display_name": "Python 3 (ipykernel)",
   "language": "python",
   "name": "python3"
  },
  "language_info": {
   "codemirror_mode": {
    "name": "ipython",
    "version": 3
   },
   "file_extension": ".py",
   "mimetype": "text/x-python",
   "name": "python",
   "nbconvert_exporter": "python",
   "pygments_lexer": "ipython3",
   "version": "3.7.5"
  }
 },
 "nbformat": 4,
 "nbformat_minor": 5
}
