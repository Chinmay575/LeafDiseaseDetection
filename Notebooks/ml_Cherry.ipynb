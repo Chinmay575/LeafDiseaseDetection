{
 "cells": [
  {
   "cell_type": "code",
   "execution_count": null,
   "id": "6110be57",
   "metadata": {},
   "outputs": [],
   "source": [
    "from google.colab import drive\n",
    "drive.mount('/content/drive')"
   ]
  },
  {
   "cell_type": "code",
   "execution_count": 1,
   "id": "8bdd0fff-1978-4699-bff7-6462a4ecff8d",
   "metadata": {
    "id": "8bdd0fff-1978-4699-bff7-6462a4ecff8d"
   },
   "outputs": [],
   "source": [
    "import os\n",
    "import numpy as np\n",
    "from PIL import Image"
   ]
  },
  {
   "cell_type": "markdown",
   "id": "7y3WRvYFa72S",
   "metadata": {
    "id": "7y3WRvYFa72S"
   },
   "source": [
    "# DataGenerator"
   ]
  },
  {
   "cell_type": "code",
   "execution_count": 2,
   "id": "fe76b895-dbee-4f7a-bfe3-da45da1aa499",
   "metadata": {
    "id": "fe76b895-dbee-4f7a-bfe3-da45da1aa499"
   },
   "outputs": [],
   "source": [
    "data_path = '/content/drive/MyDrive/DATASET/image data'\n",
    "fruit = 'Cherry'"
   ]
  },
  {
   "cell_type": "code",
   "execution_count": 3,
   "id": "7a8aa84e-1245-4ffe-976f-ca13377b502d",
   "metadata": {
    "id": "7a8aa84e-1245-4ffe-976f-ca13377b502d"
   },
   "outputs": [],
   "source": [
    "# Creating Train Data Path for a single Fruit\n",
    "train_data_path = os.path.join(data_path,\"train\",fruit)"
   ]
  },
  {
   "cell_type": "code",
   "execution_count": 4,
   "id": "2804c0a3-05e7-41c4-ab93-9ddd99ccaf5e",
   "metadata": {
    "id": "2804c0a3-05e7-41c4-ab93-9ddd99ccaf5e"
   },
   "outputs": [],
   "source": [
    "test_data_path = os.path.join(data_path,\"test\",fruit)"
   ]
  },
  {
   "cell_type": "code",
   "execution_count": 5,
   "id": "c84a8e93-f8ca-4096-bc32-bd6906fcb9ca",
   "metadata": {
    "id": "c84a8e93-f8ca-4096-bc32-bd6906fcb9ca"
   },
   "outputs": [],
   "source": [
    "def load_image_dataset(dataset_directory:str,img_height:int = 224,img_width:int = 224,flatten_image:bool = False):\n",
    "    \"\"\"\n",
    "        Params:\n",
    "        dataset_directory: path to your dataset directory,\n",
    "        img_height = standard height of image\n",
    "        img_width = standard width of image\n",
    "        flatten_image = False: Image will be returned with actual size\n",
    "                        True : Image will be flattened\n",
    "\n",
    "    \"\"\"\n",
    "\n",
    "    # Create empty lists to store the images and their corresponding labels\n",
    "    images = []\n",
    "    labels = []\n",
    "\n",
    "    # Iterate through the subdirectories (each subdirectory represents a class)\n",
    "    for class_name in os.listdir(dataset_directory):\n",
    "        class_dir = os.path.join(dataset_directory, class_name)\n",
    "        for image_name in os.listdir(class_dir):\n",
    "            image_path = os.path.join(class_dir, image_name)\n",
    "            image = Image.open(image_path)  # Open the image using PIL\n",
    "            image = image.resize((img_width, img_height))  # Resize the image to a desired size\n",
    "            image = np.array(image)  # Convert the image to a numpy array\n",
    "            images.append(image)\n",
    "            labels.append(class_name)\n",
    "\n",
    "    # Convert the lists to numpy arrays\n",
    "    images = np.array(images)\n",
    "    labels = np.array(labels)\n",
    "\n",
    "\n",
    "    if flatten_image: # flattening image i.e converting image into vector\n",
    "        images = images.reshape(images.shape[0],-1)\n",
    "\n",
    "    return images,labels\n"
   ]
  },
  {
   "cell_type": "code",
   "execution_count": 6,
   "id": "da894dc4-7091-4361-814b-4aa719f80768",
   "metadata": {
    "id": "da894dc4-7091-4361-814b-4aa719f80768"
   },
   "outputs": [],
   "source": [
    "X_train,y_train = load_image_dataset(dataset_directory=train_data_path,flatten_image=True)"
   ]
  },
  {
   "cell_type": "code",
   "execution_count": 7,
   "id": "85c5305c-3bbe-4c9e-86ee-7e6cf1a1996f",
   "metadata": {
    "id": "85c5305c-3bbe-4c9e-86ee-7e6cf1a1996f"
   },
   "outputs": [],
   "source": [
    "X_test,y_test =  load_image_dataset(dataset_directory=test_data_path,flatten_image=True)"
   ]
  },
  {
   "cell_type": "code",
   "execution_count": 8,
   "id": "d60017ac-d120-4a4b-9290-0d2794aa375e",
   "metadata": {
    "colab": {
     "base_uri": "https://localhost:8080/"
    },
    "executionInfo": {
     "elapsed": 41,
     "status": "ok",
     "timestamp": 1697810615481,
     "user": {
      "displayName": "Omkar Bajantri",
      "userId": "01388216537307988849"
     },
     "user_tz": -330
    },
    "id": "d60017ac-d120-4a4b-9290-0d2794aa375e",
    "outputId": "4933d0ca-3930-4e38-b31c-70737397cfcd"
   },
   "outputs": [
    {
     "data": {
      "text/plain": [
       "(1374, 150528)"
      ]
     },
     "execution_count": 8,
     "metadata": {},
     "output_type": "execute_result"
    }
   ],
   "source": [
    "X_train.shape"
   ]
  },
  {
   "cell_type": "code",
   "execution_count": 9,
   "id": "2703878a-b1ae-46c8-865f-d54aca678b1b",
   "metadata": {
    "colab": {
     "base_uri": "https://localhost:8080/"
    },
    "executionInfo": {
     "elapsed": 13,
     "status": "ok",
     "timestamp": 1697810615481,
     "user": {
      "displayName": "Omkar Bajantri",
      "userId": "01388216537307988849"
     },
     "user_tz": -330
    },
    "id": "2703878a-b1ae-46c8-865f-d54aca678b1b",
    "outputId": "7b91ce4b-ceb1-4801-8c89-fd35d659ed31"
   },
   "outputs": [
    {
     "data": {
      "text/plain": [
       "(1374,)"
      ]
     },
     "execution_count": 9,
     "metadata": {},
     "output_type": "execute_result"
    }
   ],
   "source": [
    "y_train.shape"
   ]
  },
  {
   "cell_type": "code",
   "execution_count": 10,
   "id": "49b60e4d-7b3f-4c5b-a354-a29d51ca23e0",
   "metadata": {
    "id": "49b60e4d-7b3f-4c5b-a354-a29d51ca23e0"
   },
   "outputs": [],
   "source": [
    "import joblib\n",
    "\n",
    "def save_model(model,fruit:str,filename:str,location:str):\n",
    "\n",
    "    location = os.path.join(location,fruit)\n",
    "    if not os.path.isdir(location):\n",
    "        os.mkdir(location)\n",
    "\n",
    "    filename = os.path.join(location,filename+\".jblib\")\n",
    "\n",
    "    joblib.dump(model,filename=filename)"
   ]
  },
  {
   "cell_type": "code",
   "execution_count": 11,
   "id": "7t3J3fGThlUH",
   "metadata": {
    "id": "7t3J3fGThlUH"
   },
   "outputs": [],
   "source": [
    "from sklearn.metrics import classification_report, confusion_matrix"
   ]
  },
  {
   "cell_type": "code",
   "execution_count": 12,
   "id": "QItRE1ozjmHQ",
   "metadata": {
    "id": "QItRE1ozjmHQ"
   },
   "outputs": [],
   "source": [
    "from sklearn.metrics import accuracy_score"
   ]
  },
  {
   "cell_type": "markdown",
   "id": "5c6d797e-3b2c-486d-8b91-88e50fd4d0ec",
   "metadata": {
    "id": "5c6d797e-3b2c-486d-8b91-88e50fd4d0ec"
   },
   "source": [
    "# Model - 1 Support vector Machine"
   ]
  },
  {
   "cell_type": "code",
   "execution_count": 13,
   "id": "16704c50-cd0e-449a-946f-cfb6b9bca95c",
   "metadata": {
    "colab": {
     "base_uri": "https://localhost:8080/",
     "height": 74
    },
    "executionInfo": {
     "elapsed": 803333,
     "status": "ok",
     "timestamp": 1697811419517,
     "user": {
      "displayName": "Omkar Bajantri",
      "userId": "01388216537307988849"
     },
     "user_tz": -330
    },
    "id": "16704c50-cd0e-449a-946f-cfb6b9bca95c",
    "outputId": "047036e4-59fe-43e5-9ebd-d77203a5149c"
   },
   "outputs": [
    {
     "data": {
      "text/plain": [
       "SVC()"
      ]
     },
     "execution_count": 13,
     "metadata": {},
     "output_type": "execute_result"
    }
   ],
   "source": [
    "from sklearn.svm import SVC\n",
    "\n",
    "model1 = SVC()\n",
    "model1.fit(X_train, y_train)"
   ]
  },
  {
   "cell_type": "code",
   "execution_count": 14,
   "id": "f2cc3e35-82e1-4827-854e-30fbca984235",
   "metadata": {
    "colab": {
     "base_uri": "https://localhost:8080/"
    },
    "executionInfo": {
     "elapsed": 782034,
     "status": "ok",
     "timestamp": 1697812201532,
     "user": {
      "displayName": "Omkar Bajantri",
      "userId": "01388216537307988849"
     },
     "user_tz": -330
    },
    "id": "f2cc3e35-82e1-4827-854e-30fbca984235",
    "outputId": "d4bfb2f8-ddc7-495e-8590-6edbb5081d26"
   },
   "outputs": [
    {
     "data": {
      "text/plain": [
       "array(['healthy', 'healthy', 'healthy', ..., 'powdery mildew',\n",
       "       'powdery mildew', 'powdery mildew'], dtype='<U14')"
      ]
     },
     "execution_count": 14,
     "metadata": {},
     "output_type": "execute_result"
    }
   ],
   "source": [
    "train_pred1 = model1.predict(X_train)\n",
    "train_pred1"
   ]
  },
  {
   "cell_type": "code",
   "execution_count": 15,
   "id": "e86cb4f8-36b2-4ba6-a6fc-3db4dc3f5019",
   "metadata": {
    "colab": {
     "base_uri": "https://localhost:8080/"
    },
    "executionInfo": {
     "elapsed": 15,
     "status": "ok",
     "timestamp": 1697812201533,
     "user": {
      "displayName": "Omkar Bajantri",
      "userId": "01388216537307988849"
     },
     "user_tz": -330
    },
    "id": "e86cb4f8-36b2-4ba6-a6fc-3db4dc3f5019",
    "outputId": "7bf57242-c3da-431d-bcfb-1bd27749b4ef"
   },
   "outputs": [
    {
     "data": {
      "text/plain": [
       "1.0"
      ]
     },
     "execution_count": 15,
     "metadata": {},
     "output_type": "execute_result"
    }
   ],
   "source": [
    "train_score1=accuracy_score(y_train,train_pred1)\n",
    "A= round(train_score1, 4)\n",
    "train_score1"
   ]
  },
  {
   "cell_type": "code",
   "execution_count": 16,
   "id": "fc48adf1-dcff-4c2e-8a90-c7ba383d6366",
   "metadata": {
    "colab": {
     "base_uri": "https://localhost:8080/"
    },
    "executionInfo": {
     "elapsed": 112034,
     "status": "ok",
     "timestamp": 1697812313557,
     "user": {
      "displayName": "Omkar Bajantri",
      "userId": "01388216537307988849"
     },
     "user_tz": -330
    },
    "id": "fc48adf1-dcff-4c2e-8a90-c7ba383d6366",
    "outputId": "6a477bd7-9464-471d-874a-826abfa71e80"
   },
   "outputs": [
    {
     "data": {
      "text/plain": [
       "array(['healthy', 'healthy', 'healthy', 'healthy', 'healthy', 'healthy',\n",
       "       'healthy', 'healthy', 'healthy', 'healthy', 'healthy', 'healthy',\n",
       "       'healthy', 'healthy', 'healthy', 'healthy', 'healthy', 'healthy',\n",
       "       'healthy', 'healthy', 'healthy', 'healthy', 'healthy', 'healthy',\n",
       "       'healthy', 'healthy', 'healthy', 'healthy', 'healthy', 'healthy',\n",
       "       'healthy', 'healthy', 'healthy', 'healthy', 'healthy', 'healthy',\n",
       "       'healthy', 'healthy', 'healthy', 'healthy', 'healthy', 'healthy',\n",
       "       'healthy', 'healthy', 'healthy', 'healthy', 'healthy', 'healthy',\n",
       "       'healthy', 'healthy', 'healthy', 'healthy', 'healthy', 'healthy',\n",
       "       'healthy', 'healthy', 'healthy', 'healthy', 'healthy', 'healthy',\n",
       "       'healthy', 'healthy', 'healthy', 'healthy', 'healthy', 'healthy',\n",
       "       'healthy', 'healthy', 'healthy', 'healthy', 'healthy', 'healthy',\n",
       "       'healthy', 'healthy', 'healthy', 'healthy', 'healthy', 'healthy',\n",
       "       'healthy', 'healthy', 'healthy', 'healthy', 'healthy', 'healthy',\n",
       "       'healthy', 'powdery mildew', 'powdery mildew', 'powdery mildew',\n",
       "       'powdery mildew', 'powdery mildew', 'powdery mildew',\n",
       "       'powdery mildew', 'powdery mildew', 'powdery mildew',\n",
       "       'powdery mildew', 'powdery mildew', 'powdery mildew',\n",
       "       'powdery mildew', 'powdery mildew', 'powdery mildew',\n",
       "       'powdery mildew', 'powdery mildew', 'powdery mildew',\n",
       "       'powdery mildew', 'powdery mildew', 'powdery mildew',\n",
       "       'powdery mildew', 'powdery mildew', 'powdery mildew',\n",
       "       'powdery mildew', 'powdery mildew', 'powdery mildew',\n",
       "       'powdery mildew', 'powdery mildew', 'powdery mildew',\n",
       "       'powdery mildew', 'powdery mildew', 'powdery mildew',\n",
       "       'powdery mildew', 'powdery mildew', 'powdery mildew',\n",
       "       'powdery mildew', 'powdery mildew', 'powdery mildew',\n",
       "       'powdery mildew', 'powdery mildew', 'powdery mildew',\n",
       "       'powdery mildew', 'powdery mildew', 'powdery mildew',\n",
       "       'powdery mildew', 'powdery mildew', 'powdery mildew',\n",
       "       'powdery mildew', 'powdery mildew', 'powdery mildew',\n",
       "       'powdery mildew', 'powdery mildew', 'powdery mildew',\n",
       "       'powdery mildew', 'powdery mildew', 'powdery mildew',\n",
       "       'powdery mildew', 'powdery mildew', 'powdery mildew',\n",
       "       'powdery mildew', 'powdery mildew', 'powdery mildew',\n",
       "       'powdery mildew', 'powdery mildew', 'powdery mildew',\n",
       "       'powdery mildew', 'powdery mildew', 'powdery mildew',\n",
       "       'powdery mildew', 'powdery mildew', 'powdery mildew',\n",
       "       'powdery mildew', 'powdery mildew', 'powdery mildew',\n",
       "       'powdery mildew', 'powdery mildew', 'powdery mildew',\n",
       "       'powdery mildew', 'powdery mildew', 'powdery mildew',\n",
       "       'powdery mildew', 'powdery mildew', 'powdery mildew',\n",
       "       'powdery mildew', 'powdery mildew', 'powdery mildew',\n",
       "       'powdery mildew', 'powdery mildew', 'powdery mildew',\n",
       "       'powdery mildew', 'powdery mildew', 'powdery mildew',\n",
       "       'powdery mildew', 'powdery mildew', 'powdery mildew',\n",
       "       'powdery mildew', 'powdery mildew', 'powdery mildew',\n",
       "       'powdery mildew', 'powdery mildew', 'powdery mildew',\n",
       "       'powdery mildew', 'powdery mildew', 'powdery mildew'], dtype='<U14')"
      ]
     },
     "execution_count": 16,
     "metadata": {},
     "output_type": "execute_result"
    }
   ],
   "source": [
    "pred1 = model1.predict(X_test)\n",
    "pred1"
   ]
  },
  {
   "cell_type": "code",
   "execution_count": 17,
   "id": "5fb34b38-e127-4f95-a100-937cc1c0a4cd",
   "metadata": {
    "colab": {
     "base_uri": "https://localhost:8080/"
    },
    "executionInfo": {
     "elapsed": 9,
     "status": "ok",
     "timestamp": 1697812313557,
     "user": {
      "displayName": "Omkar Bajantri",
      "userId": "01388216537307988849"
     },
     "user_tz": -330
    },
    "id": "5fb34b38-e127-4f95-a100-937cc1c0a4cd",
    "outputId": "1e0ab60e-fdf9-4f6d-fc37-c4f5aad6879b"
   },
   "outputs": [
    {
     "data": {
      "text/plain": [
       "1.0"
      ]
     },
     "execution_count": 17,
     "metadata": {},
     "output_type": "execute_result"
    }
   ],
   "source": [
    "score1=accuracy_score(y_test,pred1)\n",
    "a= round(score1, 4)\n",
    "score1"
   ]
  },
  {
   "cell_type": "code",
   "execution_count": 18,
   "id": "v91YXaAahqkY",
   "metadata": {
    "colab": {
     "base_uri": "https://localhost:8080/"
    },
    "executionInfo": {
     "elapsed": 6,
     "status": "ok",
     "timestamp": 1697812313557,
     "user": {
      "displayName": "Omkar Bajantri",
      "userId": "01388216537307988849"
     },
     "user_tz": -330
    },
    "id": "v91YXaAahqkY",
    "outputId": "7cc4f40e-76e4-4da8-ea30-ee92662accc4"
   },
   "outputs": [
    {
     "name": "stdout",
     "output_type": "stream",
     "text": [
      "Support vector Machine Confusion matrix: \n",
      "\n",
      " [[ 85   0]\n",
      " [  0 105]]\n"
     ]
    }
   ],
   "source": [
    "print(\"Support vector Machine Confusion matrix: \\n\\n\", confusion_matrix(y_test, pred1))"
   ]
  },
  {
   "cell_type": "code",
   "execution_count": 19,
   "id": "af60b24d-c639-4750-829d-f4d7c95cef78",
   "metadata": {
    "colab": {
     "base_uri": "https://localhost:8080/"
    },
    "executionInfo": {
     "elapsed": 111533,
     "status": "ok",
     "timestamp": 1697812425085,
     "user": {
      "displayName": "Omkar Bajantri",
      "userId": "01388216537307988849"
     },
     "user_tz": -330
    },
    "id": "af60b24d-c639-4750-829d-f4d7c95cef78",
    "outputId": "36d23cef-0c86-4e95-f163-ad9ea49176c9"
   },
   "outputs": [
    {
     "name": "stdout",
     "output_type": "stream",
     "text": [
      "Support vector Machine Classification report: \n",
      "\n",
      "                 precision    recall  f1-score   support\n",
      "\n",
      "       healthy       1.00      1.00      1.00        85\n",
      "powdery mildew       1.00      1.00      1.00       105\n",
      "\n",
      "      accuracy                           1.00       190\n",
      "     macro avg       1.00      1.00      1.00       190\n",
      "  weighted avg       1.00      1.00      1.00       190\n",
      "\n",
      "Test Accuracy: 100.0%\n"
     ]
    }
   ],
   "source": [
    "print(\"Support vector Machine Classification report: \\n\\n\", classification_report(y_test, pred1))\n",
    "print(\"Test Accuracy: {}%\".format(round(model1.score(X_test, y_test)*100, 2)))"
   ]
  },
  {
   "cell_type": "code",
   "execution_count": 20,
   "id": "80bf53b2-9a80-4bbf-8e2d-6d855e7335d4",
   "metadata": {
    "id": "80bf53b2-9a80-4bbf-8e2d-6d855e7335d4"
   },
   "outputs": [],
   "source": [
    "save_model(model1,fruit=fruit,location=\"/content/drive/MyDrive/saved\",filename=\"SVM\")"
   ]
  },
  {
   "cell_type": "markdown",
   "id": "p-BoWRukfy2g",
   "metadata": {
    "id": "p-BoWRukfy2g"
   },
   "source": [
    "# Model -2  Multi-layer Perceptron"
   ]
  },
  {
   "cell_type": "code",
   "execution_count": 39,
   "id": "dv3XtgI7ftaD",
   "metadata": {
    "colab": {
     "base_uri": "https://localhost:8080/",
     "height": 74
    },
    "executionInfo": {
     "elapsed": 1097408,
     "status": "ok",
     "timestamp": 1697813535406,
     "user": {
      "displayName": "Omkar Bajantri",
      "userId": "01388216537307988849"
     },
     "user_tz": -330
    },
    "id": "dv3XtgI7ftaD",
    "outputId": "5269d528-10ca-4b01-c637-c0c86f6c34f7"
   },
   "outputs": [
    {
     "data": {
      "text/plain": [
       "MLPClassifier()"
      ]
     },
     "execution_count": 39,
     "metadata": {},
     "output_type": "execute_result"
    }
   ],
   "source": [
    "from sklearn.neural_network import MLPClassifier\n",
    "\n",
    "model2 = MLPClassifier()\n",
    "model2.fit(X_train, y_train)"
   ]
  },
  {
   "cell_type": "code",
   "execution_count": 40,
   "id": "ahgUIiKSftWC",
   "metadata": {
    "colab": {
     "base_uri": "https://localhost:8080/"
    },
    "executionInfo": {
     "elapsed": 5191,
     "status": "ok",
     "timestamp": 1697813540581,
     "user": {
      "displayName": "Omkar Bajantri",
      "userId": "01388216537307988849"
     },
     "user_tz": -330
    },
    "id": "ahgUIiKSftWC",
    "outputId": "ef87f1b4-2d82-444b-ba67-d836303558b0"
   },
   "outputs": [
    {
     "data": {
      "text/plain": [
       "array(['healthy', 'healthy', 'healthy', ..., 'powdery mildew',\n",
       "       'powdery mildew', 'powdery mildew'], dtype='<U14')"
      ]
     },
     "execution_count": 40,
     "metadata": {},
     "output_type": "execute_result"
    }
   ],
   "source": [
    "train_pred2 = model2.predict(X_train)\n",
    "train_pred2"
   ]
  },
  {
   "cell_type": "code",
   "execution_count": 41,
   "id": "1gDgk-xXftTQ",
   "metadata": {
    "colab": {
     "base_uri": "https://localhost:8080/"
    },
    "executionInfo": {
     "elapsed": 16,
     "status": "ok",
     "timestamp": 1697813540581,
     "user": {
      "displayName": "Omkar Bajantri",
      "userId": "01388216537307988849"
     },
     "user_tz": -330
    },
    "id": "1gDgk-xXftTQ",
    "outputId": "19f94b81-9007-43bd-d23e-8976614f1165"
   },
   "outputs": [
    {
     "data": {
      "text/plain": [
       "0.9657933042212519"
      ]
     },
     "execution_count": 41,
     "metadata": {},
     "output_type": "execute_result"
    }
   ],
   "source": [
    "train_score2=accuracy_score(y_train,train_pred2)\n",
    "B= round(train_score2, 4)\n",
    "train_score2"
   ]
  },
  {
   "cell_type": "code",
   "execution_count": 42,
   "id": "hkRnRLp5ftQH",
   "metadata": {
    "colab": {
     "base_uri": "https://localhost:8080/"
    },
    "executionInfo": {
     "elapsed": 887,
     "status": "ok",
     "timestamp": 1697813541460,
     "user": {
      "displayName": "Omkar Bajantri",
      "userId": "01388216537307988849"
     },
     "user_tz": -330
    },
    "id": "hkRnRLp5ftQH",
    "outputId": "72ec88f2-2a59-4f77-ed77-96a5551160cc"
   },
   "outputs": [
    {
     "data": {
      "text/plain": [
       "array(['healthy', 'healthy', 'healthy', 'healthy', 'healthy', 'healthy',\n",
       "       'healthy', 'healthy', 'healthy', 'healthy', 'healthy', 'healthy',\n",
       "       'healthy', 'healthy', 'healthy', 'healthy', 'healthy', 'healthy',\n",
       "       'healthy', 'healthy', 'healthy', 'healthy', 'healthy', 'healthy',\n",
       "       'healthy', 'healthy', 'healthy', 'healthy', 'healthy', 'healthy',\n",
       "       'healthy', 'healthy', 'healthy', 'healthy', 'powdery mildew',\n",
       "       'healthy', 'healthy', 'healthy', 'healthy', 'powdery mildew',\n",
       "       'healthy', 'healthy', 'healthy', 'healthy', 'healthy', 'healthy',\n",
       "       'healthy', 'healthy', 'healthy', 'healthy', 'healthy', 'healthy',\n",
       "       'healthy', 'healthy', 'healthy', 'healthy', 'healthy', 'healthy',\n",
       "       'healthy', 'healthy', 'healthy', 'healthy', 'healthy', 'healthy',\n",
       "       'healthy', 'healthy', 'healthy', 'healthy', 'healthy', 'healthy',\n",
       "       'healthy', 'healthy', 'healthy', 'healthy', 'healthy', 'healthy',\n",
       "       'healthy', 'healthy', 'healthy', 'healthy', 'healthy', 'healthy',\n",
       "       'healthy', 'healthy', 'healthy', 'powdery mildew',\n",
       "       'powdery mildew', 'powdery mildew', 'powdery mildew',\n",
       "       'powdery mildew', 'powdery mildew', 'powdery mildew',\n",
       "       'powdery mildew', 'powdery mildew', 'powdery mildew',\n",
       "       'powdery mildew', 'powdery mildew', 'powdery mildew',\n",
       "       'powdery mildew', 'powdery mildew', 'powdery mildew',\n",
       "       'powdery mildew', 'powdery mildew', 'powdery mildew',\n",
       "       'powdery mildew', 'powdery mildew', 'powdery mildew',\n",
       "       'powdery mildew', 'powdery mildew', 'powdery mildew', 'healthy',\n",
       "       'powdery mildew', 'powdery mildew', 'powdery mildew',\n",
       "       'powdery mildew', 'powdery mildew', 'powdery mildew',\n",
       "       'powdery mildew', 'powdery mildew', 'powdery mildew',\n",
       "       'powdery mildew', 'powdery mildew', 'powdery mildew',\n",
       "       'powdery mildew', 'healthy', 'powdery mildew', 'powdery mildew',\n",
       "       'powdery mildew', 'powdery mildew', 'powdery mildew',\n",
       "       'powdery mildew', 'powdery mildew', 'powdery mildew', 'healthy',\n",
       "       'powdery mildew', 'powdery mildew', 'powdery mildew',\n",
       "       'powdery mildew', 'powdery mildew', 'powdery mildew',\n",
       "       'powdery mildew', 'powdery mildew', 'powdery mildew',\n",
       "       'powdery mildew', 'powdery mildew', 'powdery mildew',\n",
       "       'powdery mildew', 'powdery mildew', 'powdery mildew',\n",
       "       'powdery mildew', 'powdery mildew', 'powdery mildew',\n",
       "       'powdery mildew', 'powdery mildew', 'powdery mildew',\n",
       "       'powdery mildew', 'powdery mildew', 'powdery mildew',\n",
       "       'powdery mildew', 'powdery mildew', 'powdery mildew',\n",
       "       'powdery mildew', 'powdery mildew', 'powdery mildew',\n",
       "       'powdery mildew', 'powdery mildew', 'powdery mildew',\n",
       "       'powdery mildew', 'powdery mildew', 'powdery mildew',\n",
       "       'powdery mildew', 'powdery mildew', 'powdery mildew',\n",
       "       'powdery mildew', 'powdery mildew', 'powdery mildew',\n",
       "       'powdery mildew', 'powdery mildew', 'powdery mildew',\n",
       "       'powdery mildew', 'powdery mildew', 'powdery mildew',\n",
       "       'powdery mildew', 'powdery mildew', 'powdery mildew',\n",
       "       'powdery mildew', 'powdery mildew', 'powdery mildew',\n",
       "       'powdery mildew', 'powdery mildew'], dtype='<U14')"
      ]
     },
     "execution_count": 42,
     "metadata": {},
     "output_type": "execute_result"
    }
   ],
   "source": [
    "pred2 = model2.predict(X_test)\n",
    "pred2"
   ]
  },
  {
   "cell_type": "code",
   "execution_count": 43,
   "id": "QCj_xDRlftM4",
   "metadata": {
    "colab": {
     "base_uri": "https://localhost:8080/"
    },
    "executionInfo": {
     "elapsed": 23,
     "status": "ok",
     "timestamp": 1697813541460,
     "user": {
      "displayName": "Omkar Bajantri",
      "userId": "01388216537307988849"
     },
     "user_tz": -330
    },
    "id": "QCj_xDRlftM4",
    "outputId": "59cc74b0-314c-4135-9161-6351eee60de7"
   },
   "outputs": [
    {
     "data": {
      "text/plain": [
       "0.9736842105263158"
      ]
     },
     "execution_count": 43,
     "metadata": {},
     "output_type": "execute_result"
    }
   ],
   "source": [
    "score2=accuracy_score(y_test,pred2)\n",
    "b= round(score2, 4)\n",
    "score2"
   ]
  },
  {
   "cell_type": "code",
   "execution_count": 44,
   "id": "59H7uiK1h6_5",
   "metadata": {
    "colab": {
     "base_uri": "https://localhost:8080/"
    },
    "executionInfo": {
     "elapsed": 10,
     "status": "ok",
     "timestamp": 1697813541460,
     "user": {
      "displayName": "Omkar Bajantri",
      "userId": "01388216537307988849"
     },
     "user_tz": -330
    },
    "id": "59H7uiK1h6_5",
    "outputId": "9b16d199-6e96-4abc-c96e-8b99d37de095"
   },
   "outputs": [
    {
     "name": "stdout",
     "output_type": "stream",
     "text": [
      " Multi-layer Perceptron Confusion matrix: \n",
      "\n",
      " [[ 83   2]\n",
      " [  3 102]]\n"
     ]
    }
   ],
   "source": [
    "print(\" Multi-layer Perceptron Confusion matrix: \\n\\n\", confusion_matrix(y_test, pred2))"
   ]
  },
  {
   "cell_type": "code",
   "execution_count": 45,
   "id": "OZ0Gga1lftFQ",
   "metadata": {
    "colab": {
     "base_uri": "https://localhost:8080/"
    },
    "executionInfo": {
     "elapsed": 8,
     "status": "ok",
     "timestamp": 1697813541461,
     "user": {
      "displayName": "Omkar Bajantri",
      "userId": "01388216537307988849"
     },
     "user_tz": -330
    },
    "id": "OZ0Gga1lftFQ",
    "outputId": "be10add0-77ea-42ef-cd41-4910dd4bd7a5"
   },
   "outputs": [
    {
     "name": "stdout",
     "output_type": "stream",
     "text": [
      " Multi-layer Perceptron report: \n",
      "\n",
      "                 precision    recall  f1-score   support\n",
      "\n",
      "       healthy       0.97      0.98      0.97        85\n",
      "powdery mildew       0.98      0.97      0.98       105\n",
      "\n",
      "      accuracy                           0.97       190\n",
      "     macro avg       0.97      0.97      0.97       190\n",
      "  weighted avg       0.97      0.97      0.97       190\n",
      "\n",
      "Test Accuracy: 97.37%\n"
     ]
    }
   ],
   "source": [
    "print(\" Multi-layer Perceptron report: \\n\\n\", classification_report(y_test, pred2))\n",
    "print(\"Test Accuracy: {}%\".format(round(model2.score(X_test, y_test)*100, 2)))"
   ]
  },
  {
   "cell_type": "code",
   "execution_count": 46,
   "id": "b4cddfdc-543b-42db-ac62-2fd88230605e",
   "metadata": {
    "id": "b4cddfdc-543b-42db-ac62-2fd88230605e"
   },
   "outputs": [],
   "source": [
    "save_model(model2,fruit=fruit,location=\"/content/drive/MyDrive/saved\",filename=\"MLP\")"
   ]
  },
  {
   "cell_type": "markdown",
   "id": "dVvr04RyQcFO",
   "metadata": {
    "id": "dVvr04RyQcFO"
   },
   "source": [
    "# Model -3  AdaBoost"
   ]
  },
  {
   "cell_type": "code",
   "execution_count": 47,
   "id": "TQyCwVVqQV2r",
   "metadata": {
    "colab": {
     "base_uri": "https://localhost:8080/",
     "height": 74
    },
    "executionInfo": {
     "elapsed": 3710113,
     "status": "ok",
     "timestamp": 1697821251630,
     "user": {
      "displayName": "Omkar Bajantri",
      "userId": "01388216537307988849"
     },
     "user_tz": -330
    },
    "id": "TQyCwVVqQV2r",
    "outputId": "30c93881-d48a-4b41-d332-0deb2d305021"
   },
   "outputs": [
    {
     "data": {
      "text/plain": [
       "AdaBoostClassifier()"
      ]
     },
     "execution_count": 47,
     "metadata": {},
     "output_type": "execute_result"
    }
   ],
   "source": [
    "from sklearn.ensemble import AdaBoostClassifier\n",
    "\n",
    "model3 = AdaBoostClassifier()\n",
    "model3.fit(X_train, y_train)"
   ]
  },
  {
   "cell_type": "code",
   "execution_count": 48,
   "id": "gaWiAQ7zQVqX",
   "metadata": {
    "colab": {
     "base_uri": "https://localhost:8080/"
    },
    "executionInfo": {
     "elapsed": 68868,
     "status": "ok",
     "timestamp": 1697821320489,
     "user": {
      "displayName": "Omkar Bajantri",
      "userId": "01388216537307988849"
     },
     "user_tz": -330
    },
    "id": "gaWiAQ7zQVqX",
    "outputId": "243baa0d-1cf9-42a0-a89b-11105677c12b"
   },
   "outputs": [
    {
     "data": {
      "text/plain": [
       "array(['healthy', 'healthy', 'healthy', ..., 'powdery mildew',\n",
       "       'powdery mildew', 'powdery mildew'], dtype='<U14')"
      ]
     },
     "execution_count": 48,
     "metadata": {},
     "output_type": "execute_result"
    }
   ],
   "source": [
    "train_pred3 = model3.predict(X_train)\n",
    "train_pred3"
   ]
  },
  {
   "cell_type": "code",
   "execution_count": 49,
   "id": "3D1wrmZ7QVhu",
   "metadata": {
    "colab": {
     "base_uri": "https://localhost:8080/"
    },
    "executionInfo": {
     "elapsed": 7,
     "status": "ok",
     "timestamp": 1697821320489,
     "user": {
      "displayName": "Omkar Bajantri",
      "userId": "01388216537307988849"
     },
     "user_tz": -330
    },
    "id": "3D1wrmZ7QVhu",
    "outputId": "ad2f03f1-acc0-4782-8930-af53dc56ce9f"
   },
   "outputs": [
    {
     "data": {
      "text/plain": [
       "1.0"
      ]
     },
     "execution_count": 49,
     "metadata": {},
     "output_type": "execute_result"
    }
   ],
   "source": [
    "train_score3=accuracy_score(y_train,train_pred3)\n",
    "C= round(train_score3, 4)\n",
    "train_score3"
   ]
  },
  {
   "cell_type": "code",
   "execution_count": 50,
   "id": "R0fENCm-QVeR",
   "metadata": {
    "colab": {
     "base_uri": "https://localhost:8080/"
    },
    "executionInfo": {
     "elapsed": 9654,
     "status": "ok",
     "timestamp": 1697821330139,
     "user": {
      "displayName": "Omkar Bajantri",
      "userId": "01388216537307988849"
     },
     "user_tz": -330
    },
    "id": "R0fENCm-QVeR",
    "outputId": "016644bf-543d-4585-b088-d403703e362d"
   },
   "outputs": [
    {
     "data": {
      "text/plain": [
       "array(['healthy', 'healthy', 'healthy', 'healthy', 'healthy', 'healthy',\n",
       "       'healthy', 'healthy', 'healthy', 'healthy', 'healthy', 'healthy',\n",
       "       'healthy', 'healthy', 'healthy', 'healthy', 'healthy', 'healthy',\n",
       "       'healthy', 'healthy', 'healthy', 'healthy', 'healthy', 'healthy',\n",
       "       'healthy', 'healthy', 'healthy', 'healthy', 'healthy', 'healthy',\n",
       "       'healthy', 'healthy', 'healthy', 'healthy', 'healthy', 'healthy',\n",
       "       'healthy', 'healthy', 'healthy', 'healthy', 'healthy', 'healthy',\n",
       "       'healthy', 'healthy', 'healthy', 'healthy', 'healthy', 'healthy',\n",
       "       'healthy', 'healthy', 'healthy', 'healthy', 'healthy', 'healthy',\n",
       "       'healthy', 'healthy', 'healthy', 'healthy', 'healthy', 'healthy',\n",
       "       'healthy', 'healthy', 'healthy', 'healthy', 'healthy', 'healthy',\n",
       "       'healthy', 'healthy', 'healthy', 'healthy', 'healthy', 'healthy',\n",
       "       'healthy', 'healthy', 'healthy', 'healthy', 'healthy', 'healthy',\n",
       "       'healthy', 'healthy', 'healthy', 'healthy', 'healthy', 'healthy',\n",
       "       'healthy', 'powdery mildew', 'powdery mildew', 'powdery mildew',\n",
       "       'powdery mildew', 'powdery mildew', 'powdery mildew',\n",
       "       'powdery mildew', 'powdery mildew', 'powdery mildew',\n",
       "       'powdery mildew', 'powdery mildew', 'powdery mildew',\n",
       "       'powdery mildew', 'powdery mildew', 'powdery mildew',\n",
       "       'powdery mildew', 'powdery mildew', 'powdery mildew',\n",
       "       'powdery mildew', 'powdery mildew', 'powdery mildew',\n",
       "       'powdery mildew', 'powdery mildew', 'powdery mildew',\n",
       "       'powdery mildew', 'powdery mildew', 'powdery mildew',\n",
       "       'powdery mildew', 'powdery mildew', 'powdery mildew',\n",
       "       'powdery mildew', 'powdery mildew', 'powdery mildew',\n",
       "       'powdery mildew', 'powdery mildew', 'powdery mildew',\n",
       "       'powdery mildew', 'powdery mildew', 'powdery mildew',\n",
       "       'powdery mildew', 'powdery mildew', 'powdery mildew',\n",
       "       'powdery mildew', 'powdery mildew', 'powdery mildew',\n",
       "       'powdery mildew', 'powdery mildew', 'powdery mildew',\n",
       "       'powdery mildew', 'powdery mildew', 'powdery mildew',\n",
       "       'powdery mildew', 'powdery mildew', 'powdery mildew',\n",
       "       'powdery mildew', 'powdery mildew', 'powdery mildew',\n",
       "       'powdery mildew', 'powdery mildew', 'powdery mildew',\n",
       "       'powdery mildew', 'powdery mildew', 'powdery mildew',\n",
       "       'powdery mildew', 'powdery mildew', 'powdery mildew',\n",
       "       'powdery mildew', 'powdery mildew', 'powdery mildew',\n",
       "       'powdery mildew', 'powdery mildew', 'powdery mildew',\n",
       "       'powdery mildew', 'powdery mildew', 'powdery mildew',\n",
       "       'powdery mildew', 'powdery mildew', 'powdery mildew',\n",
       "       'powdery mildew', 'powdery mildew', 'powdery mildew',\n",
       "       'powdery mildew', 'powdery mildew', 'powdery mildew',\n",
       "       'powdery mildew', 'powdery mildew', 'powdery mildew',\n",
       "       'powdery mildew', 'powdery mildew', 'powdery mildew',\n",
       "       'powdery mildew', 'powdery mildew', 'powdery mildew',\n",
       "       'powdery mildew', 'powdery mildew', 'powdery mildew',\n",
       "       'powdery mildew', 'powdery mildew', 'powdery mildew',\n",
       "       'powdery mildew', 'powdery mildew', 'powdery mildew',\n",
       "       'powdery mildew', 'powdery mildew', 'powdery mildew'], dtype='<U14')"
      ]
     },
     "execution_count": 50,
     "metadata": {},
     "output_type": "execute_result"
    }
   ],
   "source": [
    "pred3 = model3.predict(X_test)\n",
    "pred3"
   ]
  },
  {
   "cell_type": "code",
   "execution_count": 51,
   "id": "Loe3dOZXQVZ2",
   "metadata": {
    "colab": {
     "base_uri": "https://localhost:8080/"
    },
    "executionInfo": {
     "elapsed": 18,
     "status": "ok",
     "timestamp": 1697821330140,
     "user": {
      "displayName": "Omkar Bajantri",
      "userId": "01388216537307988849"
     },
     "user_tz": -330
    },
    "id": "Loe3dOZXQVZ2",
    "outputId": "437a8270-55e0-4c96-80e7-64b7be6ef6ba"
   },
   "outputs": [
    {
     "data": {
      "text/plain": [
       "1.0"
      ]
     },
     "execution_count": 51,
     "metadata": {},
     "output_type": "execute_result"
    }
   ],
   "source": [
    "score3=accuracy_score(y_test,pred3)\n",
    "c= round(score3, 4)\n",
    "score3"
   ]
  },
  {
   "cell_type": "code",
   "execution_count": 52,
   "id": "q7cauAn3QVKd",
   "metadata": {
    "colab": {
     "base_uri": "https://localhost:8080/"
    },
    "executionInfo": {
     "elapsed": 15,
     "status": "ok",
     "timestamp": 1697821330140,
     "user": {
      "displayName": "Omkar Bajantri",
      "userId": "01388216537307988849"
     },
     "user_tz": -330
    },
    "id": "q7cauAn3QVKd",
    "outputId": "69782e33-6f5a-465a-ebc0-ca56c314b5b1"
   },
   "outputs": [
    {
     "name": "stdout",
     "output_type": "stream",
     "text": [
      " AdaBoost Confusion matrix: \n",
      "\n",
      " [[ 85   0]\n",
      " [  0 105]]\n"
     ]
    }
   ],
   "source": [
    "print(\" AdaBoost Confusion matrix: \\n\\n\", confusion_matrix(y_test, pred3))"
   ]
  },
  {
   "cell_type": "code",
   "execution_count": 53,
   "id": "YbkpB5SDQ7J9",
   "metadata": {
    "colab": {
     "base_uri": "https://localhost:8080/"
    },
    "executionInfo": {
     "elapsed": 9731,
     "status": "ok",
     "timestamp": 1697821339858,
     "user": {
      "displayName": "Omkar Bajantri",
      "userId": "01388216537307988849"
     },
     "user_tz": -330
    },
    "id": "YbkpB5SDQ7J9",
    "outputId": "4405664a-b447-4f69-fe53-07c62751f280"
   },
   "outputs": [
    {
     "name": "stdout",
     "output_type": "stream",
     "text": [
      " AdaBoost Classification report: \n",
      "\n",
      "                 precision    recall  f1-score   support\n",
      "\n",
      "       healthy       1.00      1.00      1.00        85\n",
      "powdery mildew       1.00      1.00      1.00       105\n",
      "\n",
      "      accuracy                           1.00       190\n",
      "     macro avg       1.00      1.00      1.00       190\n",
      "  weighted avg       1.00      1.00      1.00       190\n",
      "\n",
      "Test Accuracy: 100.0%\n"
     ]
    }
   ],
   "source": [
    "print(\" AdaBoost Classification report: \\n\\n\", classification_report(y_test, pred3))\n",
    "print(\"Test Accuracy: {}%\".format(round(model3.score(X_test, y_test)*100, 2)))"
   ]
  },
  {
   "cell_type": "code",
   "execution_count": 54,
   "id": "W3LQ4qKBQ68X",
   "metadata": {
    "id": "W3LQ4qKBQ68X"
   },
   "outputs": [],
   "source": [
    "save_model(model3,fruit=fruit,location=\"/content/drive/MyDrive/saved\",filename=\"Ada\")"
   ]
  },
  {
   "cell_type": "markdown",
   "id": "386970c2-f5de-4e8f-86f1-b5f90ada7495",
   "metadata": {
    "id": "386970c2-f5de-4e8f-86f1-b5f90ada7495"
   },
   "source": [
    "# Model -4 K-nearest Neighbors"
   ]
  },
  {
   "cell_type": "code",
   "execution_count": 55,
   "id": "5ae8d163-5673-4c9f-a714-d2fd463112a4",
   "metadata": {
    "colab": {
     "base_uri": "https://localhost:8080/",
     "height": 74
    },
    "executionInfo": {
     "elapsed": 9,
     "status": "ok",
     "timestamp": 1697821339859,
     "user": {
      "displayName": "Omkar Bajantri",
      "userId": "01388216537307988849"
     },
     "user_tz": -330
    },
    "id": "5ae8d163-5673-4c9f-a714-d2fd463112a4",
    "outputId": "6fb6572f-d098-4727-c0b1-dbb2601dd145"
   },
   "outputs": [
    {
     "data": {
      "text/plain": [
       "KNeighborsClassifier(n_neighbors=3)"
      ]
     },
     "execution_count": 55,
     "metadata": {},
     "output_type": "execute_result"
    }
   ],
   "source": [
    "from sklearn.neighbors import KNeighborsClassifier\n",
    "\n",
    "\n",
    "model4= KNeighborsClassifier(n_neighbors=3, metric='minkowski', p=2)\n",
    "model4.fit(X_train, y_train)\n"
   ]
  },
  {
   "cell_type": "code",
   "execution_count": 56,
   "id": "010fd78d-e732-4653-a8f0-24674628505c",
   "metadata": {
    "colab": {
     "base_uri": "https://localhost:8080/"
    },
    "executionInfo": {
     "elapsed": 54835,
     "status": "ok",
     "timestamp": 1697821394686,
     "user": {
      "displayName": "Omkar Bajantri",
      "userId": "01388216537307988849"
     },
     "user_tz": -330
    },
    "id": "010fd78d-e732-4653-a8f0-24674628505c",
    "outputId": "c11acd40-0a46-40ca-d09a-57ca3220e6aa"
   },
   "outputs": [
    {
     "data": {
      "text/plain": [
       "array(['healthy', 'healthy', 'healthy', ..., 'powdery mildew',\n",
       "       'powdery mildew', 'powdery mildew'], dtype='<U14')"
      ]
     },
     "execution_count": 56,
     "metadata": {},
     "output_type": "execute_result"
    }
   ],
   "source": [
    "train_pred4 = model4.predict(X_train)\n",
    "train_pred4"
   ]
  },
  {
   "cell_type": "code",
   "execution_count": 57,
   "id": "9a10644c-54a0-408d-9816-9dbcc19895e5",
   "metadata": {
    "colab": {
     "base_uri": "https://localhost:8080/"
    },
    "executionInfo": {
     "elapsed": 18,
     "status": "ok",
     "timestamp": 1697821394687,
     "user": {
      "displayName": "Omkar Bajantri",
      "userId": "01388216537307988849"
     },
     "user_tz": -330
    },
    "id": "9a10644c-54a0-408d-9816-9dbcc19895e5",
    "outputId": "83fc1d55-0205-4562-bc4a-bc3f31f9d884"
   },
   "outputs": [
    {
     "data": {
      "text/plain": [
       "0.9716157205240175"
      ]
     },
     "execution_count": 57,
     "metadata": {},
     "output_type": "execute_result"
    }
   ],
   "source": [
    "train_score4=accuracy_score(y_train,train_pred4)\n",
    "D= round(train_score4, 3)\n",
    "train_score4"
   ]
  },
  {
   "cell_type": "code",
   "execution_count": 58,
   "id": "5dc6ae3f-c8dd-4716-911e-d52a344a31d4",
   "metadata": {
    "colab": {
     "base_uri": "https://localhost:8080/"
    },
    "executionInfo": {
     "elapsed": 24498,
     "status": "ok",
     "timestamp": 1697821419171,
     "user": {
      "displayName": "Omkar Bajantri",
      "userId": "01388216537307988849"
     },
     "user_tz": -330
    },
    "id": "5dc6ae3f-c8dd-4716-911e-d52a344a31d4",
    "outputId": "a443dfbb-779b-49d5-cc8c-345836caefdc"
   },
   "outputs": [
    {
     "data": {
      "text/plain": [
       "array(['healthy', 'healthy', 'healthy', 'healthy', 'healthy', 'healthy',\n",
       "       'healthy', 'healthy', 'healthy', 'healthy', 'healthy', 'healthy',\n",
       "       'healthy', 'healthy', 'healthy', 'healthy', 'healthy', 'healthy',\n",
       "       'healthy', 'healthy', 'healthy', 'healthy', 'powdery mildew',\n",
       "       'healthy', 'healthy', 'healthy', 'healthy', 'healthy',\n",
       "       'powdery mildew', 'healthy', 'healthy', 'healthy', 'healthy',\n",
       "       'healthy', 'healthy', 'healthy', 'healthy', 'healthy', 'healthy',\n",
       "       'healthy', 'healthy', 'healthy', 'powdery mildew', 'healthy',\n",
       "       'healthy', 'healthy', 'healthy', 'powdery mildew', 'healthy',\n",
       "       'healthy', 'healthy', 'healthy', 'healthy', 'healthy', 'healthy',\n",
       "       'healthy', 'healthy', 'healthy', 'healthy', 'healthy', 'healthy',\n",
       "       'healthy', 'healthy', 'healthy', 'healthy', 'healthy', 'healthy',\n",
       "       'healthy', 'healthy', 'healthy', 'healthy', 'healthy', 'healthy',\n",
       "       'healthy', 'powdery mildew', 'healthy', 'healthy', 'healthy',\n",
       "       'healthy', 'healthy', 'healthy', 'healthy', 'healthy', 'healthy',\n",
       "       'healthy', 'powdery mildew', 'powdery mildew', 'powdery mildew',\n",
       "       'powdery mildew', 'powdery mildew', 'powdery mildew',\n",
       "       'powdery mildew', 'powdery mildew', 'powdery mildew',\n",
       "       'powdery mildew', 'powdery mildew', 'powdery mildew',\n",
       "       'powdery mildew', 'powdery mildew', 'powdery mildew',\n",
       "       'powdery mildew', 'powdery mildew', 'powdery mildew',\n",
       "       'powdery mildew', 'powdery mildew', 'powdery mildew',\n",
       "       'powdery mildew', 'powdery mildew', 'powdery mildew',\n",
       "       'powdery mildew', 'powdery mildew', 'powdery mildew',\n",
       "       'powdery mildew', 'powdery mildew', 'powdery mildew',\n",
       "       'powdery mildew', 'powdery mildew', 'powdery mildew',\n",
       "       'powdery mildew', 'powdery mildew', 'powdery mildew',\n",
       "       'powdery mildew', 'powdery mildew', 'powdery mildew',\n",
       "       'powdery mildew', 'powdery mildew', 'powdery mildew',\n",
       "       'powdery mildew', 'powdery mildew', 'powdery mildew',\n",
       "       'powdery mildew', 'powdery mildew', 'powdery mildew',\n",
       "       'powdery mildew', 'powdery mildew', 'powdery mildew',\n",
       "       'powdery mildew', 'powdery mildew', 'powdery mildew',\n",
       "       'powdery mildew', 'powdery mildew', 'powdery mildew',\n",
       "       'powdery mildew', 'powdery mildew', 'powdery mildew',\n",
       "       'powdery mildew', 'powdery mildew', 'powdery mildew',\n",
       "       'powdery mildew', 'powdery mildew', 'powdery mildew',\n",
       "       'powdery mildew', 'powdery mildew', 'powdery mildew',\n",
       "       'powdery mildew', 'powdery mildew', 'powdery mildew',\n",
       "       'powdery mildew', 'powdery mildew', 'powdery mildew',\n",
       "       'powdery mildew', 'powdery mildew', 'powdery mildew',\n",
       "       'powdery mildew', 'powdery mildew', 'powdery mildew',\n",
       "       'powdery mildew', 'powdery mildew', 'powdery mildew',\n",
       "       'powdery mildew', 'powdery mildew', 'powdery mildew',\n",
       "       'powdery mildew', 'powdery mildew', 'powdery mildew',\n",
       "       'powdery mildew', 'powdery mildew', 'powdery mildew',\n",
       "       'powdery mildew', 'powdery mildew', 'powdery mildew',\n",
       "       'powdery mildew', 'powdery mildew', 'powdery mildew',\n",
       "       'powdery mildew', 'powdery mildew', 'powdery mildew',\n",
       "       'powdery mildew', 'powdery mildew', 'powdery mildew'], dtype='<U14')"
      ]
     },
     "execution_count": 58,
     "metadata": {},
     "output_type": "execute_result"
    }
   ],
   "source": [
    "pred4= model4.predict(X_test)\n",
    "pred4"
   ]
  },
  {
   "cell_type": "code",
   "execution_count": 59,
   "id": "b13d1995-1152-49a3-9e46-1c0f719a407e",
   "metadata": {
    "colab": {
     "base_uri": "https://localhost:8080/"
    },
    "executionInfo": {
     "elapsed": 23,
     "status": "ok",
     "timestamp": 1697821419172,
     "user": {
      "displayName": "Omkar Bajantri",
      "userId": "01388216537307988849"
     },
     "user_tz": -330
    },
    "id": "b13d1995-1152-49a3-9e46-1c0f719a407e",
    "outputId": "327581a0-7ee4-4204-d821-8c3fe827650d"
   },
   "outputs": [
    {
     "data": {
      "text/plain": [
       "0.9736842105263158"
      ]
     },
     "execution_count": 59,
     "metadata": {},
     "output_type": "execute_result"
    }
   ],
   "source": [
    "score4=accuracy_score(y_test,pred4)\n",
    "d= round(score4, 4)\n",
    "score4"
   ]
  },
  {
   "cell_type": "code",
   "execution_count": 60,
   "id": "yb7-VUxZiP7I",
   "metadata": {
    "colab": {
     "base_uri": "https://localhost:8080/"
    },
    "executionInfo": {
     "elapsed": 21,
     "status": "ok",
     "timestamp": 1697821419172,
     "user": {
      "displayName": "Omkar Bajantri",
      "userId": "01388216537307988849"
     },
     "user_tz": -330
    },
    "id": "yb7-VUxZiP7I",
    "outputId": "e5a5e2b2-ee57-4355-ef01-4d026952fbc2"
   },
   "outputs": [
    {
     "name": "stdout",
     "output_type": "stream",
     "text": [
      "K-nearest Neighbors Confusion matrix: \n",
      "\n",
      " [[ 80   5]\n",
      " [  0 105]]\n"
     ]
    }
   ],
   "source": [
    "print(\"K-nearest Neighbors Confusion matrix: \\n\\n\", confusion_matrix(y_test, pred4))"
   ]
  },
  {
   "cell_type": "code",
   "execution_count": 61,
   "id": "7781c0cc-b25f-45fd-be8b-734d0ab8849d",
   "metadata": {
    "colab": {
     "base_uri": "https://localhost:8080/"
    },
    "executionInfo": {
     "elapsed": 16839,
     "status": "ok",
     "timestamp": 1697821435993,
     "user": {
      "displayName": "Omkar Bajantri",
      "userId": "01388216537307988849"
     },
     "user_tz": -330
    },
    "id": "7781c0cc-b25f-45fd-be8b-734d0ab8849d",
    "outputId": "42d02c09-d0a1-456c-9942-03308eb0468b"
   },
   "outputs": [
    {
     "name": "stdout",
     "output_type": "stream",
     "text": [
      "K-nearest Neighbors Classification report: \n",
      "\n",
      "                 precision    recall  f1-score   support\n",
      "\n",
      "       healthy       1.00      0.94      0.97        85\n",
      "powdery mildew       0.95      1.00      0.98       105\n",
      "\n",
      "      accuracy                           0.97       190\n",
      "     macro avg       0.98      0.97      0.97       190\n",
      "  weighted avg       0.97      0.97      0.97       190\n",
      "\n",
      "Test Accuracy: 97.37%\n"
     ]
    }
   ],
   "source": [
    "print(\"K-nearest Neighbors Classification report: \\n\\n\", classification_report(y_test, pred4))\n",
    "print(\"Test Accuracy: {}%\".format(round(model4.score(X_test, y_test)*100, 2)))"
   ]
  },
  {
   "cell_type": "code",
   "execution_count": 62,
   "id": "ab797aba-73b6-420b-b4c0-964493dad096",
   "metadata": {
    "id": "ab797aba-73b6-420b-b4c0-964493dad096"
   },
   "outputs": [],
   "source": [
    "save_model(model4,fruit=fruit,location=\"/content/drive/MyDrive/saved\",filename=\"KNN\")"
   ]
  },
  {
   "cell_type": "markdown",
   "id": "d9067b02-9152-4aed-92dc-37734f57b0bc",
   "metadata": {
    "id": "d9067b02-9152-4aed-92dc-37734f57b0bc"
   },
   "source": [
    "# Model -5 Random Forest"
   ]
  },
  {
   "cell_type": "code",
   "execution_count": 63,
   "id": "6ed5329c-e868-4ec6-80c9-4bd5491d93d2",
   "metadata": {
    "colab": {
     "base_uri": "https://localhost:8080/",
     "height": 92
    },
    "executionInfo": {
     "elapsed": 101858,
     "status": "ok",
     "timestamp": 1697821540847,
     "user": {
      "displayName": "Omkar Bajantri",
      "userId": "01388216537307988849"
     },
     "user_tz": -330
    },
    "id": "6ed5329c-e868-4ec6-80c9-4bd5491d93d2",
    "outputId": "75b2b21f-bcd5-4d9c-f932-32811dff32be"
   },
   "outputs": [
    {
     "name": "stderr",
     "output_type": "stream",
     "text": [
      "[Parallel(n_jobs=1)]: Using backend SequentialBackend with 1 concurrent workers.\n",
      "[Parallel(n_jobs=1)]: Done 150 out of 150 | elapsed:  1.1min finished\n"
     ]
    },
    {
     "data": {
      "text/plain": [
       "RandomForestClassifier(n_estimators=150, random_state=0, verbose=1)"
      ]
     },
     "execution_count": 63,
     "metadata": {},
     "output_type": "execute_result"
    }
   ],
   "source": [
    "from sklearn.ensemble import RandomForestClassifier\n",
    "\n",
    "model5= RandomForestClassifier(n_estimators= 150, criterion=\"gini\",verbose=1, random_state=0)\n",
    "model5.fit(X_train, y_train)"
   ]
  },
  {
   "cell_type": "code",
   "execution_count": 64,
   "id": "da67ac7f-32d4-4286-a0f8-baf20bc2087a",
   "metadata": {
    "colab": {
     "base_uri": "https://localhost:8080/"
    },
    "executionInfo": {
     "elapsed": 724,
     "status": "ok",
     "timestamp": 1697821541567,
     "user": {
      "displayName": "Omkar Bajantri",
      "userId": "01388216537307988849"
     },
     "user_tz": -330
    },
    "id": "da67ac7f-32d4-4286-a0f8-baf20bc2087a",
    "outputId": "cf37b31b-d7d6-4b0a-ad8c-a7d1c98d2ba3"
   },
   "outputs": [
    {
     "name": "stderr",
     "output_type": "stream",
     "text": [
      "[Parallel(n_jobs=1)]: Using backend SequentialBackend with 1 concurrent workers.\n",
      "[Parallel(n_jobs=1)]: Done 150 out of 150 | elapsed:    0.0s finished\n"
     ]
    },
    {
     "data": {
      "text/plain": [
       "array(['healthy', 'healthy', 'healthy', ..., 'powdery mildew',\n",
       "       'powdery mildew', 'powdery mildew'], dtype='<U14')"
      ]
     },
     "execution_count": 64,
     "metadata": {},
     "output_type": "execute_result"
    }
   ],
   "source": [
    "train_pred5 = model5.predict(X_train)\n",
    "train_pred5"
   ]
  },
  {
   "cell_type": "code",
   "execution_count": 65,
   "id": "10bb5329-12ba-4f2a-ab97-68e419f6a9c0",
   "metadata": {
    "colab": {
     "base_uri": "https://localhost:8080/"
    },
    "executionInfo": {
     "elapsed": 7,
     "status": "ok",
     "timestamp": 1697821541567,
     "user": {
      "displayName": "Omkar Bajantri",
      "userId": "01388216537307988849"
     },
     "user_tz": -330
    },
    "id": "10bb5329-12ba-4f2a-ab97-68e419f6a9c0",
    "outputId": "82e5bcbe-4e05-4d7d-d58b-3b4d2c6aa00e"
   },
   "outputs": [
    {
     "data": {
      "text/plain": [
       "1.0"
      ]
     },
     "execution_count": 65,
     "metadata": {},
     "output_type": "execute_result"
    }
   ],
   "source": [
    "train_score5=accuracy_score(y_train,train_pred5)\n",
    "E= round(train_score5, 4)\n",
    "train_score5"
   ]
  },
  {
   "cell_type": "code",
   "execution_count": 66,
   "id": "3b276d32-eb75-4bab-913c-30ccf6a054d2",
   "metadata": {
    "colab": {
     "base_uri": "https://localhost:8080/"
    },
    "executionInfo": {
     "elapsed": 720,
     "status": "ok",
     "timestamp": 1697821542284,
     "user": {
      "displayName": "Omkar Bajantri",
      "userId": "01388216537307988849"
     },
     "user_tz": -330
    },
    "id": "3b276d32-eb75-4bab-913c-30ccf6a054d2",
    "outputId": "22f8a9b7-6b86-45f3-8dc5-c0e38b10f156"
   },
   "outputs": [
    {
     "name": "stderr",
     "output_type": "stream",
     "text": [
      "[Parallel(n_jobs=1)]: Using backend SequentialBackend with 1 concurrent workers.\n",
      "[Parallel(n_jobs=1)]: Done 150 out of 150 | elapsed:    0.0s finished\n"
     ]
    },
    {
     "data": {
      "text/plain": [
       "array(['healthy', 'healthy', 'healthy', 'healthy', 'healthy', 'healthy',\n",
       "       'healthy', 'healthy', 'healthy', 'healthy', 'healthy', 'healthy',\n",
       "       'healthy', 'healthy', 'healthy', 'healthy', 'healthy', 'healthy',\n",
       "       'healthy', 'healthy', 'healthy', 'healthy', 'healthy', 'healthy',\n",
       "       'healthy', 'healthy', 'healthy', 'healthy', 'healthy', 'healthy',\n",
       "       'healthy', 'healthy', 'healthy', 'healthy', 'healthy', 'healthy',\n",
       "       'healthy', 'healthy', 'healthy', 'healthy', 'healthy', 'healthy',\n",
       "       'healthy', 'healthy', 'healthy', 'healthy', 'healthy', 'healthy',\n",
       "       'healthy', 'healthy', 'healthy', 'healthy', 'healthy', 'healthy',\n",
       "       'healthy', 'healthy', 'healthy', 'healthy', 'healthy', 'healthy',\n",
       "       'healthy', 'healthy', 'healthy', 'healthy', 'healthy', 'healthy',\n",
       "       'healthy', 'healthy', 'healthy', 'healthy', 'healthy', 'healthy',\n",
       "       'healthy', 'healthy', 'healthy', 'healthy', 'healthy', 'healthy',\n",
       "       'healthy', 'healthy', 'healthy', 'healthy', 'healthy', 'healthy',\n",
       "       'healthy', 'powdery mildew', 'powdery mildew', 'powdery mildew',\n",
       "       'powdery mildew', 'powdery mildew', 'powdery mildew',\n",
       "       'powdery mildew', 'powdery mildew', 'powdery mildew',\n",
       "       'powdery mildew', 'powdery mildew', 'powdery mildew',\n",
       "       'powdery mildew', 'powdery mildew', 'powdery mildew',\n",
       "       'powdery mildew', 'powdery mildew', 'powdery mildew',\n",
       "       'powdery mildew', 'powdery mildew', 'powdery mildew',\n",
       "       'powdery mildew', 'powdery mildew', 'powdery mildew',\n",
       "       'powdery mildew', 'powdery mildew', 'powdery mildew',\n",
       "       'powdery mildew', 'powdery mildew', 'powdery mildew',\n",
       "       'powdery mildew', 'powdery mildew', 'powdery mildew',\n",
       "       'powdery mildew', 'powdery mildew', 'powdery mildew',\n",
       "       'powdery mildew', 'powdery mildew', 'powdery mildew',\n",
       "       'powdery mildew', 'powdery mildew', 'powdery mildew',\n",
       "       'powdery mildew', 'powdery mildew', 'powdery mildew',\n",
       "       'powdery mildew', 'powdery mildew', 'powdery mildew',\n",
       "       'powdery mildew', 'powdery mildew', 'powdery mildew',\n",
       "       'powdery mildew', 'powdery mildew', 'powdery mildew',\n",
       "       'powdery mildew', 'powdery mildew', 'powdery mildew',\n",
       "       'powdery mildew', 'powdery mildew', 'powdery mildew',\n",
       "       'powdery mildew', 'powdery mildew', 'powdery mildew',\n",
       "       'powdery mildew', 'powdery mildew', 'powdery mildew',\n",
       "       'powdery mildew', 'powdery mildew', 'powdery mildew',\n",
       "       'powdery mildew', 'powdery mildew', 'powdery mildew',\n",
       "       'powdery mildew', 'powdery mildew', 'powdery mildew',\n",
       "       'powdery mildew', 'powdery mildew', 'powdery mildew',\n",
       "       'powdery mildew', 'powdery mildew', 'powdery mildew',\n",
       "       'powdery mildew', 'powdery mildew', 'powdery mildew',\n",
       "       'powdery mildew', 'powdery mildew', 'powdery mildew',\n",
       "       'powdery mildew', 'powdery mildew', 'powdery mildew',\n",
       "       'powdery mildew', 'powdery mildew', 'powdery mildew',\n",
       "       'powdery mildew', 'powdery mildew', 'powdery mildew',\n",
       "       'powdery mildew', 'powdery mildew', 'powdery mildew',\n",
       "       'powdery mildew', 'powdery mildew', 'powdery mildew',\n",
       "       'powdery mildew', 'powdery mildew', 'powdery mildew'], dtype='<U14')"
      ]
     },
     "execution_count": 66,
     "metadata": {},
     "output_type": "execute_result"
    }
   ],
   "source": [
    "pred5= model5.predict(X_test)\n",
    "pred5"
   ]
  },
  {
   "cell_type": "code",
   "execution_count": 67,
   "id": "67dd3a7b-fd31-4aca-af34-0850d73fe9a6",
   "metadata": {
    "colab": {
     "base_uri": "https://localhost:8080/"
    },
    "executionInfo": {
     "elapsed": 16,
     "status": "ok",
     "timestamp": 1697821542285,
     "user": {
      "displayName": "Omkar Bajantri",
      "userId": "01388216537307988849"
     },
     "user_tz": -330
    },
    "id": "67dd3a7b-fd31-4aca-af34-0850d73fe9a6",
    "outputId": "e016e434-de92-48b4-9b97-31edbd47dc77"
   },
   "outputs": [
    {
     "data": {
      "text/plain": [
       "1.0"
      ]
     },
     "execution_count": 67,
     "metadata": {},
     "output_type": "execute_result"
    }
   ],
   "source": [
    "score5=accuracy_score(y_test,pred5)\n",
    "e= round(score5, 4)\n",
    "score5"
   ]
  },
  {
   "cell_type": "code",
   "execution_count": 68,
   "id": "myXi1NKyiVWA",
   "metadata": {
    "colab": {
     "base_uri": "https://localhost:8080/"
    },
    "executionInfo": {
     "elapsed": 7,
     "status": "ok",
     "timestamp": 1697821542285,
     "user": {
      "displayName": "Omkar Bajantri",
      "userId": "01388216537307988849"
     },
     "user_tz": -330
    },
    "id": "myXi1NKyiVWA",
    "outputId": "41f706d8-d7f6-4381-cc5b-668b0575e37a"
   },
   "outputs": [
    {
     "name": "stdout",
     "output_type": "stream",
     "text": [
      "Random Forest Confusion matrix: \n",
      "\n",
      " [[ 85   0]\n",
      " [  0 105]]\n"
     ]
    }
   ],
   "source": [
    "print(\"Random Forest Confusion matrix: \\n\\n\", confusion_matrix(y_test, pred5))"
   ]
  },
  {
   "cell_type": "code",
   "execution_count": 69,
   "id": "def9efa2-fad2-4e9f-9575-4a0e91d70b85",
   "metadata": {
    "colab": {
     "base_uri": "https://localhost:8080/"
    },
    "executionInfo": {
     "elapsed": 5,
     "status": "ok",
     "timestamp": 1697821542285,
     "user": {
      "displayName": "Omkar Bajantri",
      "userId": "01388216537307988849"
     },
     "user_tz": -330
    },
    "id": "def9efa2-fad2-4e9f-9575-4a0e91d70b85",
    "outputId": "f8c8bb16-c39e-44e1-a784-3fd09e901db8"
   },
   "outputs": [
    {
     "name": "stdout",
     "output_type": "stream",
     "text": [
      " Random Forest  Classification report: \n",
      "\n",
      "                 precision    recall  f1-score   support\n",
      "\n",
      "       healthy       1.00      1.00      1.00        85\n",
      "powdery mildew       1.00      1.00      1.00       105\n",
      "\n",
      "      accuracy                           1.00       190\n",
      "     macro avg       1.00      1.00      1.00       190\n",
      "  weighted avg       1.00      1.00      1.00       190\n",
      "\n",
      "Test Accuracy: 100.0%\n"
     ]
    },
    {
     "name": "stderr",
     "output_type": "stream",
     "text": [
      "[Parallel(n_jobs=1)]: Using backend SequentialBackend with 1 concurrent workers.\n",
      "[Parallel(n_jobs=1)]: Done 150 out of 150 | elapsed:    0.0s finished\n"
     ]
    }
   ],
   "source": [
    "print(\" Random Forest  Classification report: \\n\\n\", classification_report(y_test, pred5))\n",
    "print(\"Test Accuracy: {}%\".format(round(model5.score(X_test, y_test)*100, 2)))"
   ]
  },
  {
   "cell_type": "code",
   "execution_count": 70,
   "id": "7fd6c051-af9d-4fe1-83d4-418631c7af60",
   "metadata": {
    "id": "7fd6c051-af9d-4fe1-83d4-418631c7af60"
   },
   "outputs": [],
   "source": [
    "save_model(model5,fruit=fruit,location=\"/content/drive/MyDrive/saved\",filename=\"RF\")"
   ]
  },
  {
   "cell_type": "markdown",
   "id": "34561624-f80f-4eb0-ab11-49097f4bc149",
   "metadata": {
    "id": "34561624-f80f-4eb0-ab11-49097f4bc149"
   },
   "source": [
    "# Model -6 Decision Tree"
   ]
  },
  {
   "cell_type": "code",
   "execution_count": 71,
   "id": "7f2809f3-cf4b-4c96-9486-34775c241888",
   "metadata": {
    "colab": {
     "base_uri": "https://localhost:8080/",
     "height": 74
    },
    "executionInfo": {
     "elapsed": 112746,
     "status": "ok",
     "timestamp": 1697821655028,
     "user": {
      "displayName": "Omkar Bajantri",
      "userId": "01388216537307988849"
     },
     "user_tz": -330
    },
    "id": "7f2809f3-cf4b-4c96-9486-34775c241888",
    "outputId": "27d3ee35-f9bb-4311-b1d5-cc11336bbb24"
   },
   "outputs": [
    {
     "data": {
      "text/plain": [
       "DecisionTreeClassifier(splitter='random')"
      ]
     },
     "execution_count": 71,
     "metadata": {},
     "output_type": "execute_result"
    }
   ],
   "source": [
    "from sklearn.tree import DecisionTreeClassifier\n",
    "\n",
    "model6= DecisionTreeClassifier(criterion='gini', splitter='random', min_samples_split=2, min_samples_leaf=1)\n",
    "model6.fit(X_train, y_train)"
   ]
  },
  {
   "cell_type": "code",
   "execution_count": 72,
   "id": "849ec1b8-0410-4a43-ba11-5b999266b37f",
   "metadata": {
    "colab": {
     "base_uri": "https://localhost:8080/"
    },
    "executionInfo": {
     "elapsed": 812,
     "status": "ok",
     "timestamp": 1697821655836,
     "user": {
      "displayName": "Omkar Bajantri",
      "userId": "01388216537307988849"
     },
     "user_tz": -330
    },
    "id": "849ec1b8-0410-4a43-ba11-5b999266b37f",
    "outputId": "18b90706-7861-4ee1-92ff-94c815e13a5b"
   },
   "outputs": [
    {
     "data": {
      "text/plain": [
       "array(['healthy', 'healthy', 'healthy', ..., 'powdery mildew',\n",
       "       'powdery mildew', 'powdery mildew'], dtype='<U14')"
      ]
     },
     "execution_count": 72,
     "metadata": {},
     "output_type": "execute_result"
    }
   ],
   "source": [
    "train_pred6 = model6.predict(X_train)\n",
    "train_pred6"
   ]
  },
  {
   "cell_type": "code",
   "execution_count": 73,
   "id": "be390c01-359f-4758-8882-43f6acfe3c0d",
   "metadata": {
    "colab": {
     "base_uri": "https://localhost:8080/"
    },
    "executionInfo": {
     "elapsed": 20,
     "status": "ok",
     "timestamp": 1697821655836,
     "user": {
      "displayName": "Omkar Bajantri",
      "userId": "01388216537307988849"
     },
     "user_tz": -330
    },
    "id": "be390c01-359f-4758-8882-43f6acfe3c0d",
    "outputId": "18f31372-a836-4dcb-fdae-e06300e7cc1a"
   },
   "outputs": [
    {
     "data": {
      "text/plain": [
       "1.0"
      ]
     },
     "execution_count": 73,
     "metadata": {},
     "output_type": "execute_result"
    }
   ],
   "source": [
    "train_score6=accuracy_score(y_train,train_pred6)\n",
    "F= round(train_score6, 4)\n",
    "train_score6"
   ]
  },
  {
   "cell_type": "code",
   "execution_count": 74,
   "id": "bb174ab4-c6f7-4ae0-9e1d-ec20cb27412d",
   "metadata": {
    "colab": {
     "base_uri": "https://localhost:8080/"
    },
    "executionInfo": {
     "elapsed": 17,
     "status": "ok",
     "timestamp": 1697821655837,
     "user": {
      "displayName": "Omkar Bajantri",
      "userId": "01388216537307988849"
     },
     "user_tz": -330
    },
    "id": "bb174ab4-c6f7-4ae0-9e1d-ec20cb27412d",
    "outputId": "d0f16cf8-16ba-4eca-8bbd-c2ef6c337683"
   },
   "outputs": [
    {
     "data": {
      "text/plain": [
       "array(['healthy', 'healthy', 'healthy', 'healthy', 'healthy', 'healthy',\n",
       "       'healthy', 'healthy', 'healthy', 'healthy', 'healthy', 'healthy',\n",
       "       'healthy', 'healthy', 'healthy', 'healthy', 'healthy', 'healthy',\n",
       "       'healthy', 'healthy', 'healthy', 'healthy', 'healthy', 'healthy',\n",
       "       'healthy', 'healthy', 'healthy', 'healthy', 'healthy', 'healthy',\n",
       "       'healthy', 'healthy', 'healthy', 'healthy', 'healthy', 'healthy',\n",
       "       'healthy', 'healthy', 'healthy', 'healthy', 'healthy', 'healthy',\n",
       "       'healthy', 'healthy', 'healthy', 'healthy', 'healthy', 'healthy',\n",
       "       'healthy', 'healthy', 'healthy', 'healthy', 'healthy', 'healthy',\n",
       "       'healthy', 'healthy', 'healthy', 'healthy', 'healthy', 'healthy',\n",
       "       'healthy', 'healthy', 'healthy', 'healthy', 'healthy', 'healthy',\n",
       "       'healthy', 'healthy', 'healthy', 'healthy', 'healthy', 'healthy',\n",
       "       'healthy', 'healthy', 'healthy', 'healthy', 'healthy', 'healthy',\n",
       "       'healthy', 'healthy', 'healthy', 'healthy', 'healthy', 'healthy',\n",
       "       'healthy', 'powdery mildew', 'powdery mildew', 'powdery mildew',\n",
       "       'powdery mildew', 'powdery mildew', 'powdery mildew',\n",
       "       'powdery mildew', 'powdery mildew', 'powdery mildew',\n",
       "       'powdery mildew', 'powdery mildew', 'powdery mildew',\n",
       "       'powdery mildew', 'powdery mildew', 'powdery mildew',\n",
       "       'powdery mildew', 'powdery mildew', 'powdery mildew',\n",
       "       'powdery mildew', 'powdery mildew', 'powdery mildew',\n",
       "       'powdery mildew', 'powdery mildew', 'powdery mildew',\n",
       "       'powdery mildew', 'powdery mildew', 'powdery mildew',\n",
       "       'powdery mildew', 'powdery mildew', 'powdery mildew',\n",
       "       'powdery mildew', 'powdery mildew', 'powdery mildew',\n",
       "       'powdery mildew', 'powdery mildew', 'powdery mildew',\n",
       "       'powdery mildew', 'powdery mildew', 'powdery mildew',\n",
       "       'powdery mildew', 'powdery mildew', 'powdery mildew',\n",
       "       'powdery mildew', 'powdery mildew', 'powdery mildew',\n",
       "       'powdery mildew', 'powdery mildew', 'powdery mildew',\n",
       "       'powdery mildew', 'powdery mildew', 'powdery mildew',\n",
       "       'powdery mildew', 'powdery mildew', 'powdery mildew',\n",
       "       'powdery mildew', 'powdery mildew', 'powdery mildew',\n",
       "       'powdery mildew', 'powdery mildew', 'powdery mildew',\n",
       "       'powdery mildew', 'powdery mildew', 'powdery mildew',\n",
       "       'powdery mildew', 'powdery mildew', 'powdery mildew',\n",
       "       'powdery mildew', 'powdery mildew', 'powdery mildew',\n",
       "       'powdery mildew', 'powdery mildew', 'powdery mildew',\n",
       "       'powdery mildew', 'powdery mildew', 'powdery mildew',\n",
       "       'powdery mildew', 'powdery mildew', 'powdery mildew',\n",
       "       'powdery mildew', 'powdery mildew', 'powdery mildew',\n",
       "       'powdery mildew', 'powdery mildew', 'powdery mildew',\n",
       "       'powdery mildew', 'powdery mildew', 'powdery mildew',\n",
       "       'powdery mildew', 'powdery mildew', 'powdery mildew',\n",
       "       'powdery mildew', 'powdery mildew', 'powdery mildew',\n",
       "       'powdery mildew', 'powdery mildew', 'powdery mildew',\n",
       "       'powdery mildew', 'powdery mildew', 'powdery mildew',\n",
       "       'powdery mildew', 'powdery mildew', 'powdery mildew',\n",
       "       'powdery mildew', 'powdery mildew', 'powdery mildew'], dtype='<U14')"
      ]
     },
     "execution_count": 74,
     "metadata": {},
     "output_type": "execute_result"
    }
   ],
   "source": [
    "pred6= model6.predict(X_test)\n",
    "pred6"
   ]
  },
  {
   "cell_type": "code",
   "execution_count": 75,
   "id": "a0499b95-5235-4050-9078-043f583feddf",
   "metadata": {
    "colab": {
     "base_uri": "https://localhost:8080/"
    },
    "executionInfo": {
     "elapsed": 14,
     "status": "ok",
     "timestamp": 1697821655837,
     "user": {
      "displayName": "Omkar Bajantri",
      "userId": "01388216537307988849"
     },
     "user_tz": -330
    },
    "id": "a0499b95-5235-4050-9078-043f583feddf",
    "outputId": "43bd9ee4-06f1-4e96-83a6-01efbb4940dd"
   },
   "outputs": [
    {
     "data": {
      "text/plain": [
       "1.0"
      ]
     },
     "execution_count": 75,
     "metadata": {},
     "output_type": "execute_result"
    }
   ],
   "source": [
    "score6=accuracy_score(y_test,pred6)\n",
    "f= round(score6, 4)\n",
    "score6"
   ]
  },
  {
   "cell_type": "code",
   "execution_count": 76,
   "id": "lxBm1zaIiZiO",
   "metadata": {
    "colab": {
     "base_uri": "https://localhost:8080/"
    },
    "executionInfo": {
     "elapsed": 10,
     "status": "ok",
     "timestamp": 1697821655837,
     "user": {
      "displayName": "Omkar Bajantri",
      "userId": "01388216537307988849"
     },
     "user_tz": -330
    },
    "id": "lxBm1zaIiZiO",
    "outputId": "805798cc-d48e-48d5-fe93-388267c6599a"
   },
   "outputs": [
    {
     "name": "stdout",
     "output_type": "stream",
     "text": [
      "Decision Tree Confusion matrix: \n",
      "\n",
      " [[ 85   0]\n",
      " [  0 105]]\n"
     ]
    }
   ],
   "source": [
    "print(\"Decision Tree Confusion matrix: \\n\\n\", confusion_matrix(y_test, pred6))"
   ]
  },
  {
   "cell_type": "code",
   "execution_count": 77,
   "id": "1dfce035-e467-4587-8e86-efe02a1f782e",
   "metadata": {
    "colab": {
     "base_uri": "https://localhost:8080/"
    },
    "executionInfo": {
     "elapsed": 8,
     "status": "ok",
     "timestamp": 1697821655837,
     "user": {
      "displayName": "Omkar Bajantri",
      "userId": "01388216537307988849"
     },
     "user_tz": -330
    },
    "id": "1dfce035-e467-4587-8e86-efe02a1f782e",
    "outputId": "557809e5-294a-4f5d-f42b-7ee953a50811"
   },
   "outputs": [
    {
     "name": "stdout",
     "output_type": "stream",
     "text": [
      "Decision Tree Classification report: \n",
      "\n",
      "                 precision    recall  f1-score   support\n",
      "\n",
      "       healthy       1.00      1.00      1.00        85\n",
      "powdery mildew       1.00      1.00      1.00       105\n",
      "\n",
      "      accuracy                           1.00       190\n",
      "     macro avg       1.00      1.00      1.00       190\n",
      "  weighted avg       1.00      1.00      1.00       190\n",
      "\n",
      "Test Accuracy: 100.0%\n"
     ]
    }
   ],
   "source": [
    "print(\"Decision Tree Classification report: \\n\\n\", classification_report(y_test, pred6))\n",
    "print(\"Test Accuracy: {}%\".format(round(model6.score(X_test, y_test)*100, 2)))"
   ]
  },
  {
   "cell_type": "code",
   "execution_count": 78,
   "id": "f28d2623-7ed7-496c-aeb1-9d17811ceb4b",
   "metadata": {
    "id": "f28d2623-7ed7-496c-aeb1-9d17811ceb4b"
   },
   "outputs": [],
   "source": [
    "save_model(model6,fruit=fruit,location=\"/content/drive/MyDrive/saved\",filename=\"DT\")"
   ]
  },
  {
   "cell_type": "markdown",
   "id": "80027ab4-b153-427f-b933-a372d7a30718",
   "metadata": {
    "id": "80027ab4-b153-427f-b933-a372d7a30718"
   },
   "source": [
    "# Comparision Using Box plot"
   ]
  },
  {
   "cell_type": "code",
   "execution_count": 79,
   "id": "03c5e3f6-1268-4cbe-b870-62eb19caa13a",
   "metadata": {
    "colab": {
     "base_uri": "https://localhost:8080/",
     "height": 670
    },
    "executionInfo": {
     "elapsed": 822,
     "status": "ok",
     "timestamp": 1697821656655,
     "user": {
      "displayName": "Omkar Bajantri",
      "userId": "01388216537307988849"
     },
     "user_tz": -330
    },
    "id": "03c5e3f6-1268-4cbe-b870-62eb19caa13a",
    "outputId": "d71da834-9963-4945-81e8-554a235b4f61"
   },
   "outputs": [
    {
     "data": {
      "image/png": "[encoded data removed]",
      "text/plain": [
       "<Figure size 1500x700 with 1 Axes>"
      ]
     },
     "metadata": {},
     "output_type": "display_data"
    },
    {
     "data": {
      "image/png": "[encoded data removed]",
      "text/plain": [
       "<Figure size 1500x700 with 1 Axes>"
      ]
     },
     "metadata": {},
     "output_type": "display_data"
    }
   ],
   "source": [
    "from matplotlib import pyplot as plt\n",
    "\n",
    "def labels(x,y):\n",
    "    for i in range(len(x)):\n",
    "        plt.text(i,y[i],y[i])\n",
    "\n",
    "if __name__ == '__main__':\n",
    "    x = ['SVM', 'MLP', 'AdaBoost', 'KNN', 'RF', 'DT']\n",
    "    y = [a, b, c, d, e,f]\n",
    "    Y = [A, B, C, D, E,F]\n",
    "\n",
    "    fig = plt.figure(figsize =(15, 7))\n",
    "    ax = plt.axes()\n",
    "    ax.set_facecolor(\"peachpuff\")\n",
    "    plt.bar(x, Y, width=0.4, color='lime')\n",
    "    labels(x, Y)\n",
    "    plt.xlabel('Models')\n",
    "    plt.ylabel(\"Acurracy In Training\")\n",
    "    plt.title('Algorithm Comparison Training')\n",
    "    plt.show()\n",
    "\n",
    "    fig = plt.figure(figsize =(15, 7))\n",
    "    ax = plt.axes()\n",
    "    labels(x, y)\n",
    "    ax.set_facecolor(\"peachpuff\")\n",
    "    plt.bar( x , y, width=0.4, color='lime')\n",
    "    plt.xlabel('Models')\n",
    "    plt.ylabel(\"Acurracy In Testing\")\n",
    "    plt.title('Algorithm Comparison Testing')\n",
    "    plt.show()\n",
    "\n"
   ]
  },
  {
   "cell_type": "code",
   "execution_count": null,
   "id": "umDAS6k2z9rD",
   "metadata": {
    "id": "umDAS6k2z9rD"
   },
   "outputs": [],
   "source": []
  }
 ],
 "metadata": {
  "colab": {
   "provenance": []
  },
  "kernelspec": {
   "display_name": "Python 3 (ipykernel)",
   "language": "python",
   "name": "python3"
  },
  "language_info": {
   "codemirror_mode": {
    "name": "ipython",
    "version": 3
   },
   "file_extension": ".py",
   "mimetype": "text/x-python",
   "name": "python",
   "nbconvert_exporter": "python",
   "pygments_lexer": "ipython3",
   "version": "3.7.5"
  }
 },
 "nbformat": 4,
 "nbformat_minor": 5
}
