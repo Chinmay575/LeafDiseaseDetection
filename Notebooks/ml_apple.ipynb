{
 "cells": [
  {
   "cell_type": "code",
   "execution_count": null,
   "id": "e13f4e54",
   "metadata": {},
   "outputs": [],
   "source": [
    "from google.colab import drive\n",
    "drive.mount('/content/drive')"
   ]
  },
  {
   "cell_type": "code",
   "execution_count": 1,
   "id": "8bdd0fff-1978-4699-bff7-6462a4ecff8d",
   "metadata": {
    "executionInfo": {
     "elapsed": 4,
     "status": "ok",
     "timestamp": 1697871183424,
     "user": {
      "displayName": "Omkar Bajantri",
      "userId": "01388216537307988849"
     },
     "user_tz": -330
    },
    "id": "8bdd0fff-1978-4699-bff7-6462a4ecff8d"
   },
   "outputs": [],
   "source": [
    "import os\n",
    "import numpy as np\n",
    "from PIL import Image"
   ]
  },
  {
   "cell_type": "markdown",
   "id": "7y3WRvYFa72S",
   "metadata": {
    "id": "7y3WRvYFa72S"
   },
   "source": [
    "# DataGenerator"
   ]
  },
  {
   "cell_type": "code",
   "execution_count": 2,
   "id": "fe76b895-dbee-4f7a-bfe3-da45da1aa499",
   "metadata": {
    "executionInfo": {
     "elapsed": 3,
     "status": "ok",
     "timestamp": 1697871183424,
     "user": {
      "displayName": "Omkar Bajantri",
      "userId": "01388216537307988849"
     },
     "user_tz": -330
    },
    "id": "fe76b895-dbee-4f7a-bfe3-da45da1aa499"
   },
   "outputs": [],
   "source": [
    "data_path = '/content/drive/MyDrive/DATASET/image data'\n",
    "fruit = 'apple'"
   ]
  },
  {
   "cell_type": "code",
   "execution_count": 3,
   "id": "7a8aa84e-1245-4ffe-976f-ca13377b502d",
   "metadata": {
    "executionInfo": {
     "elapsed": 2,
     "status": "ok",
     "timestamp": 1697871183424,
     "user": {
      "displayName": "Omkar Bajantri",
      "userId": "01388216537307988849"
     },
     "user_tz": -330
    },
    "id": "7a8aa84e-1245-4ffe-976f-ca13377b502d"
   },
   "outputs": [],
   "source": [
    "# Creating Train Data Path for a single Fruit\n",
    "train_data_path = os.path.join(data_path,\"train\",fruit)"
   ]
  },
  {
   "cell_type": "code",
   "execution_count": 4,
   "id": "2804c0a3-05e7-41c4-ab93-9ddd99ccaf5e",
   "metadata": {
    "executionInfo": {
     "elapsed": 3,
     "status": "ok",
     "timestamp": 1697871183425,
     "user": {
      "displayName": "Omkar Bajantri",
      "userId": "01388216537307988849"
     },
     "user_tz": -330
    },
    "id": "2804c0a3-05e7-41c4-ab93-9ddd99ccaf5e"
   },
   "outputs": [],
   "source": [
    "test_data_path = os.path.join(data_path,\"test\",fruit)"
   ]
  },
  {
   "cell_type": "code",
   "execution_count": 5,
   "id": "c84a8e93-f8ca-4096-bc32-bd6906fcb9ca",
   "metadata": {
    "executionInfo": {
     "elapsed": 3,
     "status": "ok",
     "timestamp": 1697871183425,
     "user": {
      "displayName": "Omkar Bajantri",
      "userId": "01388216537307988849"
     },
     "user_tz": -330
    },
    "id": "c84a8e93-f8ca-4096-bc32-bd6906fcb9ca"
   },
   "outputs": [],
   "source": [
    "def load_image_dataset(dataset_directory:str,img_height:int = 224,img_width:int = 224,flatten_image:bool = False):\n",
    "    \"\"\"\n",
    "        Params:\n",
    "        dataset_directory: path to your dataset directory,\n",
    "        img_height = standard height of image\n",
    "        img_width = standard width of image\n",
    "        flatten_image = False: Image will be returned with actual size\n",
    "                        True : Image will be flattened\n",
    "\n",
    "    \"\"\"\n",
    "\n",
    "    # Create empty lists to store the images and their corresponding labels\n",
    "    images = []\n",
    "    labels = []\n",
    "\n",
    "    # Iterate through the subdirectories (each subdirectory represents a class)\n",
    "    for class_name in os.listdir(dataset_directory):\n",
    "        class_dir = os.path.join(dataset_directory, class_name)\n",
    "        for image_name in os.listdir(class_dir):\n",
    "            image_path = os.path.join(class_dir, image_name)\n",
    "            image = Image.open(image_path)  # Open the image using PIL\n",
    "            image = image.resize((img_width, img_height))  # Resize the image to a desired size\n",
    "            image = np.array(image)  # Convert the image to a numpy array\n",
    "            images.append(image)\n",
    "            labels.append(class_name)\n",
    "\n",
    "    # Convert the lists to numpy arrays\n",
    "    images = np.array(images)\n",
    "    labels = np.array(labels)\n",
    "\n",
    "\n",
    "    if flatten_image: # flattening image i.e converting image into vector\n",
    "        images = images.reshape(images.shape[0],-1)\n",
    "\n",
    "    return images,labels\n"
   ]
  },
  {
   "cell_type": "code",
   "execution_count": 6,
   "id": "da894dc4-7091-4361-814b-4aa719f80768",
   "metadata": {
    "executionInfo": {
     "elapsed": 40202,
     "status": "ok",
     "timestamp": 1697871223624,
     "user": {
      "displayName": "Omkar Bajantri",
      "userId": "01388216537307988849"
     },
     "user_tz": -330
    },
    "id": "da894dc4-7091-4361-814b-4aa719f80768"
   },
   "outputs": [],
   "source": [
    "X_train,y_train = load_image_dataset(dataset_directory=train_data_path,flatten_image=True)"
   ]
  },
  {
   "cell_type": "code",
   "execution_count": 7,
   "id": "85c5305c-3bbe-4c9e-86ee-7e6cf1a1996f",
   "metadata": {
    "executionInfo": {
     "elapsed": 29620,
     "status": "ok",
     "timestamp": 1697871253239,
     "user": {
      "displayName": "Omkar Bajantri",
      "userId": "01388216537307988849"
     },
     "user_tz": -330
    },
    "id": "85c5305c-3bbe-4c9e-86ee-7e6cf1a1996f"
   },
   "outputs": [],
   "source": [
    "X_test,y_test =  load_image_dataset(dataset_directory=test_data_path,flatten_image=True)"
   ]
  },
  {
   "cell_type": "code",
   "execution_count": 8,
   "id": "d60017ac-d120-4a4b-9290-0d2794aa375e",
   "metadata": {
    "colab": {
     "base_uri": "https://localhost:8080/"
    },
    "executionInfo": {
     "elapsed": 17,
     "status": "ok",
     "timestamp": 1697871253240,
     "user": {
      "displayName": "Omkar Bajantri",
      "userId": "01388216537307988849"
     },
     "user_tz": -330
    },
    "id": "d60017ac-d120-4a4b-9290-0d2794aa375e",
    "outputId": "d083372d-f2b7-4760-8611-aa2ad64e1852"
   },
   "outputs": [
    {
     "data": {
      "text/plain": [
       "(2286, 150528)"
      ]
     },
     "execution_count": 8,
     "metadata": {},
     "output_type": "execute_result"
    }
   ],
   "source": [
    "X_train.shape"
   ]
  },
  {
   "cell_type": "code",
   "execution_count": 9,
   "id": "2703878a-b1ae-46c8-865f-d54aca678b1b",
   "metadata": {
    "colab": {
     "base_uri": "https://localhost:8080/"
    },
    "executionInfo": {
     "elapsed": 4,
     "status": "ok",
     "timestamp": 1697871253240,
     "user": {
      "displayName": "Omkar Bajantri",
      "userId": "01388216537307988849"
     },
     "user_tz": -330
    },
    "id": "2703878a-b1ae-46c8-865f-d54aca678b1b",
    "outputId": "93024d96-97c4-4f93-b66f-3d0a1e25a67f"
   },
   "outputs": [
    {
     "data": {
      "text/plain": [
       "(2286,)"
      ]
     },
     "execution_count": 9,
     "metadata": {},
     "output_type": "execute_result"
    }
   ],
   "source": [
    "y_train.shape"
   ]
  },
  {
   "cell_type": "code",
   "execution_count": 10,
   "id": "49b60e4d-7b3f-4c5b-a354-a29d51ca23e0",
   "metadata": {
    "executionInfo": {
     "elapsed": 3,
     "status": "ok",
     "timestamp": 1697871253240,
     "user": {
      "displayName": "Omkar Bajantri",
      "userId": "01388216537307988849"
     },
     "user_tz": -330
    },
    "id": "49b60e4d-7b3f-4c5b-a354-a29d51ca23e0"
   },
   "outputs": [],
   "source": [
    "import joblib\n",
    "\n",
    "def save_model(model,fruit:str,filename:str,location:str):\n",
    "\n",
    "    location = os.path.join(location,fruit)\n",
    "    if not os.path.isdir(location):\n",
    "        os.mkdir(location)\n",
    "\n",
    "    filename = os.path.join(location,filename+\".jblib\")\n",
    "\n",
    "    joblib.dump(model,filename=filename)"
   ]
  },
  {
   "cell_type": "code",
   "execution_count": 11,
   "id": "7t3J3fGThlUH",
   "metadata": {
    "executionInfo": {
     "elapsed": 703,
     "status": "ok",
     "timestamp": 1697871253940,
     "user": {
      "displayName": "Omkar Bajantri",
      "userId": "01388216537307988849"
     },
     "user_tz": -330
    },
    "id": "7t3J3fGThlUH"
   },
   "outputs": [],
   "source": [
    "from sklearn.metrics import classification_report, confusion_matrix"
   ]
  },
  {
   "cell_type": "code",
   "execution_count": 12,
   "id": "QItRE1ozjmHQ",
   "metadata": {
    "executionInfo": {
     "elapsed": 4,
     "status": "ok",
     "timestamp": 1697871253940,
     "user": {
      "displayName": "Omkar Bajantri",
      "userId": "01388216537307988849"
     },
     "user_tz": -330
    },
    "id": "QItRE1ozjmHQ"
   },
   "outputs": [],
   "source": [
    "from sklearn.metrics import accuracy_score"
   ]
  },
  {
   "cell_type": "markdown",
   "id": "5c6d797e-3b2c-486d-8b91-88e50fd4d0ec",
   "metadata": {
    "id": "5c6d797e-3b2c-486d-8b91-88e50fd4d0ec"
   },
   "source": [
    "# Model - 1 Support vector Machine"
   ]
  },
  {
   "cell_type": "code",
   "execution_count": 13,
   "id": "16704c50-cd0e-449a-946f-cfb6b9bca95c",
   "metadata": {
    "colab": {
     "base_uri": "https://localhost:8080/",
     "height": 74
    },
    "executionInfo": {
     "elapsed": 337346,
     "status": "ok",
     "timestamp": 1697871591283,
     "user": {
      "displayName": "Omkar Bajantri",
      "userId": "01388216537307988849"
     },
     "user_tz": -330
    },
    "id": "16704c50-cd0e-449a-946f-cfb6b9bca95c",
    "outputId": "52f32b7b-e521-4a14-aae9-0e062f48e2b8"
   },
   "outputs": [
    {
     "data": {
      "text/plain": [
       "SVC()"
      ]
     },
     "execution_count": 13,
     "metadata": {},
     "output_type": "execute_result"
    }
   ],
   "source": [
    "from sklearn.svm import SVC\n",
    "\n",
    "model1 = SVC()\n",
    "model1.fit(X_train, y_train)"
   ]
  },
  {
   "cell_type": "code",
   "execution_count": 14,
   "id": "f2cc3e35-82e1-4827-854e-30fbca984235",
   "metadata": {
    "colab": {
     "base_uri": "https://localhost:8080/"
    },
    "executionInfo": {
     "elapsed": 371226,
     "status": "ok",
     "timestamp": 1697871962502,
     "user": {
      "displayName": "Omkar Bajantri",
      "userId": "01388216537307988849"
     },
     "user_tz": -330
    },
    "id": "f2cc3e35-82e1-4827-854e-30fbca984235",
    "outputId": "e243b1dc-8ab8-4bfc-ba26-7aade275c83d"
   },
   "outputs": [
    {
     "data": {
      "text/plain": [
       "array(['apple scab', 'apple scab', 'apple scab', ..., 'healthy',\n",
       "       'healthy', 'healthy'], dtype='<U16')"
      ]
     },
     "execution_count": 14,
     "metadata": {},
     "output_type": "execute_result"
    }
   ],
   "source": [
    "train_pred1 = model1.predict(X_train)\n",
    "train_pred1"
   ]
  },
  {
   "cell_type": "code",
   "execution_count": 15,
   "id": "e86cb4f8-36b2-4ba6-a6fc-3db4dc3f5019",
   "metadata": {
    "colab": {
     "base_uri": "https://localhost:8080/"
    },
    "executionInfo": {
     "elapsed": 12,
     "status": "ok",
     "timestamp": 1697871962502,
     "user": {
      "displayName": "Omkar Bajantri",
      "userId": "01388216537307988849"
     },
     "user_tz": -330
    },
    "id": "e86cb4f8-36b2-4ba6-a6fc-3db4dc3f5019",
    "outputId": "68cbf5d4-9d89-4256-dddd-8a1b1a0278d6"
   },
   "outputs": [
    {
     "data": {
      "text/plain": [
       "0.9825021872265967"
      ]
     },
     "execution_count": 15,
     "metadata": {},
     "output_type": "execute_result"
    }
   ],
   "source": [
    "train_score1=accuracy_score(y_train,train_pred1)\n",
    "A= round(train_score1, 4)\n",
    "train_score1"
   ]
  },
  {
   "cell_type": "code",
   "execution_count": 16,
   "id": "fc48adf1-dcff-4c2e-8a90-c7ba383d6366",
   "metadata": {
    "colab": {
     "base_uri": "https://localhost:8080/"
    },
    "executionInfo": {
     "elapsed": 51171,
     "status": "ok",
     "timestamp": 1697872013666,
     "user": {
      "displayName": "Omkar Bajantri",
      "userId": "01388216537307988849"
     },
     "user_tz": -330
    },
    "id": "fc48adf1-dcff-4c2e-8a90-c7ba383d6366",
    "outputId": "4f7df685-b82b-437d-8649-09afad45c91c"
   },
   "outputs": [
    {
     "data": {
      "text/plain": [
       "array(['apple scab', 'apple scab', 'apple scab', 'apple scab',\n",
       "       'apple scab', 'apple scab', 'apple scab', 'apple scab',\n",
       "       'apple scab', 'healthy', 'apple scab', 'apple scab', 'apple scab',\n",
       "       'apple scab', 'apple scab', 'healthy', 'apple scab', 'apple scab',\n",
       "       'apple scab', 'healthy', 'apple scab', 'apple scab', 'apple scab',\n",
       "       'apple scab', 'apple scab', 'black rot', 'apple scab',\n",
       "       'apple scab', 'apple scab', 'apple scab', 'apple scab',\n",
       "       'apple scab', 'apple scab', 'apple scab', 'apple scab',\n",
       "       'apple scab', 'apple scab', 'apple scab', 'apple scab',\n",
       "       'apple scab', 'apple scab', 'apple scab', 'apple scab',\n",
       "       'apple scab', 'cedar apple rust', 'apple scab', 'apple scab',\n",
       "       'apple scab', 'apple scab', 'apple scab', 'apple scab',\n",
       "       'apple scab', 'apple scab', 'apple scab', 'apple scab',\n",
       "       'apple scab', 'apple scab', 'apple scab', 'apple scab',\n",
       "       'apple scab', 'apple scab', 'apple scab', 'apple scab',\n",
       "       'black rot', 'black rot', 'black rot', 'black rot', 'black rot',\n",
       "       'black rot', 'black rot', 'black rot', 'black rot', 'black rot',\n",
       "       'black rot', 'black rot', 'black rot', 'black rot', 'black rot',\n",
       "       'black rot', 'black rot', 'black rot', 'black rot', 'black rot',\n",
       "       'black rot', 'black rot', 'black rot', 'black rot', 'black rot',\n",
       "       'black rot', 'black rot', 'black rot', 'black rot', 'black rot',\n",
       "       'black rot', 'black rot', 'black rot', 'black rot', 'black rot',\n",
       "       'black rot', 'black rot', 'black rot', 'black rot', 'black rot',\n",
       "       'black rot', 'black rot', 'black rot', 'black rot', 'black rot',\n",
       "       'black rot', 'black rot', 'black rot', 'black rot', 'black rot',\n",
       "       'black rot', 'black rot', 'black rot', 'black rot', 'black rot',\n",
       "       'black rot', 'black rot', 'black rot', 'black rot', 'black rot',\n",
       "       'black rot', 'black rot', 'cedar apple rust', 'cedar apple rust',\n",
       "       'cedar apple rust', 'cedar apple rust', 'cedar apple rust',\n",
       "       'cedar apple rust', 'cedar apple rust', 'cedar apple rust',\n",
       "       'cedar apple rust', 'cedar apple rust', 'cedar apple rust',\n",
       "       'cedar apple rust', 'cedar apple rust', 'cedar apple rust',\n",
       "       'cedar apple rust', 'cedar apple rust', 'cedar apple rust',\n",
       "       'cedar apple rust', 'cedar apple rust', 'cedar apple rust',\n",
       "       'cedar apple rust', 'cedar apple rust', 'cedar apple rust',\n",
       "       'cedar apple rust', 'cedar apple rust', 'cedar apple rust',\n",
       "       'cedar apple rust', 'healthy', 'healthy', 'healthy', 'healthy',\n",
       "       'healthy', 'healthy', 'healthy', 'healthy', 'healthy', 'healthy',\n",
       "       'healthy', 'healthy', 'healthy', 'healthy', 'healthy', 'healthy',\n",
       "       'healthy', 'healthy', 'healthy', 'healthy', 'healthy', 'healthy',\n",
       "       'healthy', 'healthy', 'healthy', 'healthy', 'healthy', 'healthy',\n",
       "       'healthy', 'healthy', 'healthy', 'healthy', 'healthy', 'healthy',\n",
       "       'healthy', 'healthy', 'healthy', 'healthy', 'healthy', 'healthy',\n",
       "       'healthy', 'healthy', 'healthy', 'healthy', 'healthy', 'healthy',\n",
       "       'healthy', 'healthy', 'healthy', 'healthy', 'healthy', 'healthy',\n",
       "       'healthy', 'healthy', 'healthy', 'healthy', 'healthy', 'healthy',\n",
       "       'healthy', 'healthy', 'healthy', 'healthy', 'healthy', 'healthy',\n",
       "       'healthy', 'healthy', 'healthy', 'healthy', 'healthy', 'healthy',\n",
       "       'healthy', 'healthy', 'healthy', 'healthy', 'healthy', 'healthy',\n",
       "       'healthy', 'healthy', 'healthy', 'healthy', 'healthy', 'healthy',\n",
       "       'healthy', 'healthy', 'healthy', 'healthy', 'healthy', 'healthy',\n",
       "       'healthy', 'healthy', 'healthy', 'healthy', 'healthy', 'healthy',\n",
       "       'healthy', 'healthy', 'healthy', 'healthy', 'healthy', 'healthy',\n",
       "       'apple scab', 'healthy', 'healthy', 'healthy', 'healthy',\n",
       "       'healthy', 'healthy', 'healthy', 'healthy', 'healthy', 'healthy',\n",
       "       'healthy', 'healthy', 'healthy', 'healthy', 'healthy', 'healthy',\n",
       "       'healthy', 'healthy', 'healthy', 'healthy', 'healthy', 'healthy',\n",
       "       'healthy', 'healthy', 'healthy', 'healthy', 'healthy', 'healthy',\n",
       "       'healthy', 'healthy', 'healthy', 'healthy', 'healthy', 'healthy',\n",
       "       'healthy', 'healthy', 'healthy', 'healthy', 'healthy', 'healthy',\n",
       "       'healthy', 'healthy', 'healthy', 'healthy', 'healthy', 'healthy',\n",
       "       'healthy', 'healthy', 'healthy', 'healthy', 'healthy', 'healthy',\n",
       "       'healthy', 'healthy', 'healthy', 'healthy', 'healthy', 'healthy',\n",
       "       'healthy', 'healthy', 'healthy', 'healthy', 'healthy'],\n",
       "      dtype='<U16')"
      ]
     },
     "execution_count": 16,
     "metadata": {},
     "output_type": "execute_result"
    }
   ],
   "source": [
    "pred1 = model1.predict(X_test)\n",
    "pred1"
   ]
  },
  {
   "cell_type": "code",
   "execution_count": 17,
   "id": "5fb34b38-e127-4f95-a100-937cc1c0a4cd",
   "metadata": {
    "colab": {
     "base_uri": "https://localhost:8080/"
    },
    "executionInfo": {
     "elapsed": 40,
     "status": "ok",
     "timestamp": 1697872013667,
     "user": {
      "displayName": "Omkar Bajantri",
      "userId": "01388216537307988849"
     },
     "user_tz": -330
    },
    "id": "5fb34b38-e127-4f95-a100-937cc1c0a4cd",
    "outputId": "b3cf3336-ce91-4c77-e4bd-0de5b04a0490"
   },
   "outputs": [
    {
     "data": {
      "text/plain": [
       "0.9810126582278481"
      ]
     },
     "execution_count": 17,
     "metadata": {},
     "output_type": "execute_result"
    }
   ],
   "source": [
    "score1=accuracy_score(y_test,pred1)\n",
    "a= round(score1, 4)\n",
    "score1"
   ]
  },
  {
   "cell_type": "code",
   "execution_count": 18,
   "id": "v91YXaAahqkY",
   "metadata": {
    "colab": {
     "base_uri": "https://localhost:8080/"
    },
    "executionInfo": {
     "elapsed": 36,
     "status": "ok",
     "timestamp": 1697872013667,
     "user": {
      "displayName": "Omkar Bajantri",
      "userId": "01388216537307988849"
     },
     "user_tz": -330
    },
    "id": "v91YXaAahqkY",
    "outputId": "671a96b9-c57b-47c0-f4e2-df79d6d02f9c"
   },
   "outputs": [
    {
     "name": "stdout",
     "output_type": "stream",
     "text": [
      "Support vector Machine Confusion matrix: \n",
      "\n",
      " [[ 58   1   1   3]\n",
      " [  0  62   0   0]\n",
      " [  0   0  27   0]\n",
      " [  1   0   0 163]]\n"
     ]
    }
   ],
   "source": [
    "print(\"Support vector Machine Confusion matrix: \\n\\n\", confusion_matrix(y_test, pred1))"
   ]
  },
  {
   "cell_type": "code",
   "execution_count": 19,
   "id": "af60b24d-c639-4750-829d-f4d7c95cef78",
   "metadata": {
    "colab": {
     "base_uri": "https://localhost:8080/"
    },
    "executionInfo": {
     "elapsed": 51543,
     "status": "ok",
     "timestamp": 1697872065178,
     "user": {
      "displayName": "Omkar Bajantri",
      "userId": "01388216537307988849"
     },
     "user_tz": -330
    },
    "id": "af60b24d-c639-4750-829d-f4d7c95cef78",
    "outputId": "5085066f-c1ee-44c8-81b5-aa743b6555b6"
   },
   "outputs": [
    {
     "name": "stdout",
     "output_type": "stream",
     "text": [
      "Support vector Machine Classification report: \n",
      "\n",
      "                   precision    recall  f1-score   support\n",
      "\n",
      "      apple scab       0.98      0.92      0.95        63\n",
      "       black rot       0.98      1.00      0.99        62\n",
      "cedar apple rust       0.96      1.00      0.98        27\n",
      "         healthy       0.98      0.99      0.99       164\n",
      "\n",
      "        accuracy                           0.98       316\n",
      "       macro avg       0.98      0.98      0.98       316\n",
      "    weighted avg       0.98      0.98      0.98       316\n",
      "\n",
      "Test Accuracy: 98.1%\n"
     ]
    }
   ],
   "source": [
    "print(\"Support vector Machine Classification report: \\n\\n\", classification_report(y_test, pred1))\n",
    "print(\"Test Accuracy: {}%\".format(round(model1.score(X_test, y_test)*100, 2)))"
   ]
  },
  {
   "cell_type": "code",
   "execution_count": 20,
   "id": "80bf53b2-9a80-4bbf-8e2d-6d855e7335d4",
   "metadata": {
    "executionInfo": {
     "elapsed": 9598,
     "status": "ok",
     "timestamp": 1697872074770,
     "user": {
      "displayName": "Omkar Bajantri",
      "userId": "01388216537307988849"
     },
     "user_tz": -330
    },
    "id": "80bf53b2-9a80-4bbf-8e2d-6d855e7335d4"
   },
   "outputs": [],
   "source": [
    "save_model(model1,fruit=fruit,location=\"/content/drive/MyDrive/saved\",filename=\"SVM\")"
   ]
  },
  {
   "cell_type": "markdown",
   "id": "p-BoWRukfy2g",
   "metadata": {
    "id": "p-BoWRukfy2g"
   },
   "source": [
    "# Model -2  Multi-layer Perceptron"
   ]
  },
  {
   "cell_type": "code",
   "execution_count": 21,
   "id": "dv3XtgI7ftaD",
   "metadata": {
    "colab": {
     "base_uri": "https://localhost:8080/",
     "height": 74
    },
    "executionInfo": {
     "elapsed": 821106,
     "status": "ok",
     "timestamp": 1697872895850,
     "user": {
      "displayName": "Omkar Bajantri",
      "userId": "01388216537307988849"
     },
     "user_tz": -330
    },
    "id": "dv3XtgI7ftaD",
    "outputId": "f624e9d4-a640-4c3a-ebd2-024233fb1889"
   },
   "outputs": [
    {
     "data": {
      "text/plain": [
       "MLPClassifier()"
      ]
     },
     "execution_count": 21,
     "metadata": {},
     "output_type": "execute_result"
    }
   ],
   "source": [
    "from sklearn.neural_network import MLPClassifier\n",
    "\n",
    "model2 = MLPClassifier()\n",
    "model2.fit(X_train, y_train)"
   ]
  },
  {
   "cell_type": "code",
   "execution_count": 22,
   "id": "ahgUIiKSftWC",
   "metadata": {
    "colab": {
     "base_uri": "https://localhost:8080/"
    },
    "executionInfo": {
     "elapsed": 5267,
     "status": "ok",
     "timestamp": 1697872901111,
     "user": {
      "displayName": "Omkar Bajantri",
      "userId": "01388216537307988849"
     },
     "user_tz": -330
    },
    "id": "ahgUIiKSftWC",
    "outputId": "f3f410f9-3f2c-4a76-d765-19a4adfa25f5"
   },
   "outputs": [
    {
     "data": {
      "text/plain": [
       "array(['apple scab', 'apple scab', 'apple scab', ..., 'healthy',\n",
       "       'healthy', 'healthy'], dtype='<U16')"
      ]
     },
     "execution_count": 22,
     "metadata": {},
     "output_type": "execute_result"
    }
   ],
   "source": [
    "train_pred2 = model2.predict(X_train)\n",
    "train_pred2"
   ]
  },
  {
   "cell_type": "code",
   "execution_count": 23,
   "id": "1gDgk-xXftTQ",
   "metadata": {
    "colab": {
     "base_uri": "https://localhost:8080/"
    },
    "executionInfo": {
     "elapsed": 14,
     "status": "ok",
     "timestamp": 1697872901112,
     "user": {
      "displayName": "Omkar Bajantri",
      "userId": "01388216537307988849"
     },
     "user_tz": -330
    },
    "id": "1gDgk-xXftTQ",
    "outputId": "a0c99b92-6077-41f6-917e-93d4a1bc4d97"
   },
   "outputs": [
    {
     "data": {
      "text/plain": [
       "0.9221347331583553"
      ]
     },
     "execution_count": 23,
     "metadata": {},
     "output_type": "execute_result"
    }
   ],
   "source": [
    "train_score2=accuracy_score(y_train,train_pred2)\n",
    "B= round(train_score2, 4)\n",
    "train_score2"
   ]
  },
  {
   "cell_type": "code",
   "execution_count": 24,
   "id": "hkRnRLp5ftQH",
   "metadata": {
    "colab": {
     "base_uri": "https://localhost:8080/"
    },
    "executionInfo": {
     "elapsed": 722,
     "status": "ok",
     "timestamp": 1697872901823,
     "user": {
      "displayName": "Omkar Bajantri",
      "userId": "01388216537307988849"
     },
     "user_tz": -330
    },
    "id": "hkRnRLp5ftQH",
    "outputId": "dc4e7302-cde3-4ea4-83e4-482e00827fc8"
   },
   "outputs": [
    {
     "data": {
      "text/plain": [
       "array(['apple scab', 'apple scab', 'apple scab', 'apple scab',\n",
       "       'apple scab', 'apple scab', 'apple scab', 'apple scab',\n",
       "       'apple scab', 'healthy', 'apple scab', 'apple scab', 'apple scab',\n",
       "       'apple scab', 'apple scab', 'apple scab', 'apple scab',\n",
       "       'apple scab', 'apple scab', 'healthy', 'apple scab', 'apple scab',\n",
       "       'apple scab', 'apple scab', 'apple scab', 'black rot',\n",
       "       'apple scab', 'apple scab', 'apple scab', 'apple scab',\n",
       "       'apple scab', 'healthy', 'apple scab', 'apple scab', 'apple scab',\n",
       "       'healthy', 'apple scab', 'apple scab', 'apple scab', 'apple scab',\n",
       "       'apple scab', 'apple scab', 'apple scab', 'apple scab',\n",
       "       'apple scab', 'apple scab', 'apple scab', 'apple scab',\n",
       "       'apple scab', 'apple scab', 'apple scab', 'apple scab',\n",
       "       'apple scab', 'apple scab', 'apple scab', 'healthy', 'apple scab',\n",
       "       'apple scab', 'apple scab', 'apple scab', 'apple scab',\n",
       "       'apple scab', 'apple scab', 'black rot', 'black rot', 'black rot',\n",
       "       'black rot', 'black rot', 'black rot', 'black rot', 'black rot',\n",
       "       'black rot', 'black rot', 'black rot', 'black rot', 'black rot',\n",
       "       'black rot', 'black rot', 'black rot', 'black rot', 'black rot',\n",
       "       'black rot', 'black rot', 'black rot', 'black rot', 'black rot',\n",
       "       'black rot', 'black rot', 'black rot', 'black rot', 'black rot',\n",
       "       'black rot', 'black rot', 'black rot', 'black rot', 'black rot',\n",
       "       'black rot', 'black rot', 'black rot', 'black rot', 'black rot',\n",
       "       'black rot', 'apple scab', 'black rot', 'black rot', 'black rot',\n",
       "       'black rot', 'black rot', 'apple scab', 'black rot', 'black rot',\n",
       "       'healthy', 'black rot', 'black rot', 'black rot', 'black rot',\n",
       "       'black rot', 'black rot', 'black rot', 'black rot', 'black rot',\n",
       "       'black rot', 'black rot', 'black rot', 'black rot',\n",
       "       'cedar apple rust', 'cedar apple rust', 'cedar apple rust',\n",
       "       'cedar apple rust', 'cedar apple rust', 'apple scab', 'black rot',\n",
       "       'cedar apple rust', 'black rot', 'cedar apple rust',\n",
       "       'cedar apple rust', 'cedar apple rust', 'healthy',\n",
       "       'cedar apple rust', 'apple scab', 'apple scab', 'cedar apple rust',\n",
       "       'black rot', 'cedar apple rust', 'cedar apple rust',\n",
       "       'cedar apple rust', 'cedar apple rust', 'cedar apple rust',\n",
       "       'cedar apple rust', 'black rot', 'cedar apple rust',\n",
       "       'cedar apple rust', 'healthy', 'healthy', 'healthy', 'healthy',\n",
       "       'healthy', 'healthy', 'healthy', 'healthy', 'healthy', 'healthy',\n",
       "       'healthy', 'healthy', 'healthy', 'healthy', 'healthy', 'healthy',\n",
       "       'healthy', 'healthy', 'healthy', 'healthy', 'healthy',\n",
       "       'apple scab', 'healthy', 'healthy', 'healthy', 'healthy',\n",
       "       'healthy', 'healthy', 'healthy', 'healthy', 'healthy', 'healthy',\n",
       "       'healthy', 'healthy', 'healthy', 'healthy', 'healthy', 'healthy',\n",
       "       'healthy', 'healthy', 'healthy', 'healthy', 'healthy', 'healthy',\n",
       "       'healthy', 'healthy', 'healthy', 'healthy', 'healthy', 'healthy',\n",
       "       'healthy', 'healthy', 'healthy', 'healthy', 'healthy', 'healthy',\n",
       "       'healthy', 'healthy', 'healthy', 'healthy', 'healthy', 'healthy',\n",
       "       'healthy', 'healthy', 'apple scab', 'healthy', 'healthy',\n",
       "       'healthy', 'healthy', 'healthy', 'healthy', 'healthy', 'healthy',\n",
       "       'healthy', 'healthy', 'healthy', 'healthy', 'healthy', 'healthy',\n",
       "       'healthy', 'healthy', 'healthy', 'healthy', 'healthy', 'healthy',\n",
       "       'healthy', 'healthy', 'healthy', 'black rot', 'healthy', 'healthy',\n",
       "       'apple scab', 'healthy', 'healthy', 'healthy', 'healthy',\n",
       "       'healthy', 'healthy', 'healthy', 'healthy', 'healthy', 'healthy',\n",
       "       'healthy', 'healthy', 'healthy', 'healthy', 'healthy', 'healthy',\n",
       "       'healthy', 'healthy', 'apple scab', 'healthy', 'healthy',\n",
       "       'healthy', 'healthy', 'healthy', 'healthy', 'healthy', 'healthy',\n",
       "       'healthy', 'healthy', 'healthy', 'healthy', 'healthy', 'healthy',\n",
       "       'healthy', 'healthy', 'healthy', 'healthy', 'healthy', 'healthy',\n",
       "       'healthy', 'healthy', 'healthy', 'healthy', 'healthy', 'healthy',\n",
       "       'healthy', 'healthy', 'healthy', 'healthy', 'healthy', 'healthy',\n",
       "       'healthy', 'healthy', 'healthy', 'healthy', 'healthy', 'healthy',\n",
       "       'healthy', 'healthy', 'healthy', 'apple scab', 'healthy',\n",
       "       'healthy', 'healthy', 'healthy', 'healthy', 'healthy', 'healthy',\n",
       "       'healthy', 'healthy', 'healthy', 'healthy'], dtype='<U16')"
      ]
     },
     "execution_count": 24,
     "metadata": {},
     "output_type": "execute_result"
    }
   ],
   "source": [
    "pred2 = model2.predict(X_test)\n",
    "pred2"
   ]
  },
  {
   "cell_type": "code",
   "execution_count": 25,
   "id": "QCj_xDRlftM4",
   "metadata": {
    "colab": {
     "base_uri": "https://localhost:8080/"
    },
    "executionInfo": {
     "elapsed": 7,
     "status": "ok",
     "timestamp": 1697872901823,
     "user": {
      "displayName": "Omkar Bajantri",
      "userId": "01388216537307988849"
     },
     "user_tz": -330
    },
    "id": "QCj_xDRlftM4",
    "outputId": "bf02d66e-b85a-47c5-f214-8377cc8aef9a"
   },
   "outputs": [
    {
     "data": {
      "text/plain": [
       "0.9272151898734177"
      ]
     },
     "execution_count": 25,
     "metadata": {},
     "output_type": "execute_result"
    }
   ],
   "source": [
    "score2=accuracy_score(y_test,pred2)\n",
    "b= round(score2, 4)\n",
    "score2"
   ]
  },
  {
   "cell_type": "code",
   "execution_count": 26,
   "id": "59H7uiK1h6_5",
   "metadata": {
    "colab": {
     "base_uri": "https://localhost:8080/"
    },
    "executionInfo": {
     "elapsed": 3,
     "status": "ok",
     "timestamp": 1697872901823,
     "user": {
      "displayName": "Omkar Bajantri",
      "userId": "01388216537307988849"
     },
     "user_tz": -330
    },
    "id": "59H7uiK1h6_5",
    "outputId": "d0e41d7d-1dfe-4527-8b46-c662d34005d1"
   },
   "outputs": [
    {
     "name": "stdout",
     "output_type": "stream",
     "text": [
      " Multi-layer Perceptron Confusion matrix: \n",
      "\n",
      " [[ 57   1   0   5]\n",
      " [  2  59   0   1]\n",
      " [  3   4  19   1]\n",
      " [  5   1   0 158]]\n"
     ]
    }
   ],
   "source": [
    "print(\" Multi-layer Perceptron Confusion matrix: \\n\\n\", confusion_matrix(y_test, pred2))"
   ]
  },
  {
   "cell_type": "code",
   "execution_count": 27,
   "id": "OZ0Gga1lftFQ",
   "metadata": {
    "colab": {
     "base_uri": "https://localhost:8080/"
    },
    "executionInfo": {
     "elapsed": 1040,
     "status": "ok",
     "timestamp": 1697872902861,
     "user": {
      "displayName": "Omkar Bajantri",
      "userId": "01388216537307988849"
     },
     "user_tz": -330
    },
    "id": "OZ0Gga1lftFQ",
    "outputId": "c6de3020-9f83-4914-ef56-6f98962ff4f9"
   },
   "outputs": [
    {
     "name": "stdout",
     "output_type": "stream",
     "text": [
      " Multi-layer Perceptron report: \n",
      "\n",
      "                   precision    recall  f1-score   support\n",
      "\n",
      "      apple scab       0.85      0.90      0.88        63\n",
      "       black rot       0.91      0.95      0.93        62\n",
      "cedar apple rust       1.00      0.70      0.83        27\n",
      "         healthy       0.96      0.96      0.96       164\n",
      "\n",
      "        accuracy                           0.93       316\n",
      "       macro avg       0.93      0.88      0.90       316\n",
      "    weighted avg       0.93      0.93      0.93       316\n",
      "\n",
      "Test Accuracy: 92.72%\n"
     ]
    }
   ],
   "source": [
    "print(\" Multi-layer Perceptron report: \\n\\n\", classification_report(y_test, pred2))\n",
    "print(\"Test Accuracy: {}%\".format(round(model2.score(X_test, y_test)*100, 2)))"
   ]
  },
  {
   "cell_type": "code",
   "execution_count": 28,
   "id": "b4cddfdc-543b-42db-ac62-2fd88230605e",
   "metadata": {
    "executionInfo": {
     "elapsed": 3416,
     "status": "ok",
     "timestamp": 1697872906273,
     "user": {
      "displayName": "Omkar Bajantri",
      "userId": "01388216537307988849"
     },
     "user_tz": -330
    },
    "id": "b4cddfdc-543b-42db-ac62-2fd88230605e"
   },
   "outputs": [],
   "source": [
    "save_model(model2,fruit=fruit,location=\"/content/drive/MyDrive/saved\",filename=\"MLP\")"
   ]
  },
  {
   "cell_type": "markdown",
   "id": "dVvr04RyQcFO",
   "metadata": {
    "id": "dVvr04RyQcFO"
   },
   "source": [
    "# Model -3  AdaBoost"
   ]
  },
  {
   "cell_type": "code",
   "execution_count": 29,
   "id": "TQyCwVVqQV2r",
   "metadata": {
    "colab": {
     "base_uri": "https://localhost:8080/",
     "height": 74
    },
    "executionInfo": {
     "elapsed": 4409331,
     "status": "ok",
     "timestamp": 1697877315575,
     "user": {
      "displayName": "Omkar Bajantri",
      "userId": "01388216537307988849"
     },
     "user_tz": -330
    },
    "id": "TQyCwVVqQV2r",
    "outputId": "0cfdef0b-c763-4d94-b124-a629b7edb0f2"
   },
   "outputs": [
    {
     "data": {
      "text/plain": [
       "AdaBoostClassifier()"
      ]
     },
     "execution_count": 29,
     "metadata": {},
     "output_type": "execute_result"
    }
   ],
   "source": [
    "from sklearn.ensemble import AdaBoostClassifier\n",
    "\n",
    "model3 = AdaBoostClassifier()\n",
    "model3.fit(X_train, y_train)"
   ]
  },
  {
   "cell_type": "code",
   "execution_count": 30,
   "id": "gaWiAQ7zQVqX",
   "metadata": {
    "colab": {
     "base_uri": "https://localhost:8080/"
    },
    "executionInfo": {
     "elapsed": 85305,
     "status": "ok",
     "timestamp": 1697877400876,
     "user": {
      "displayName": "Omkar Bajantri",
      "userId": "01388216537307988849"
     },
     "user_tz": -330
    },
    "id": "gaWiAQ7zQVqX",
    "outputId": "0ca75f98-4e26-4664-ec4d-9aabdce72149"
   },
   "outputs": [
    {
     "data": {
      "text/plain": [
       "array(['apple scab', 'apple scab', 'apple scab', ..., 'healthy',\n",
       "       'healthy', 'healthy'], dtype='<U16')"
      ]
     },
     "execution_count": 30,
     "metadata": {},
     "output_type": "execute_result"
    }
   ],
   "source": [
    "train_pred3 = model3.predict(X_train)\n",
    "train_pred3"
   ]
  },
  {
   "cell_type": "code",
   "execution_count": 31,
   "id": "3D1wrmZ7QVhu",
   "metadata": {
    "colab": {
     "base_uri": "https://localhost:8080/"
    },
    "executionInfo": {
     "elapsed": 15,
     "status": "ok",
     "timestamp": 1697877400877,
     "user": {
      "displayName": "Omkar Bajantri",
      "userId": "01388216537307988849"
     },
     "user_tz": -330
    },
    "id": "3D1wrmZ7QVhu",
    "outputId": "91e6a4c9-ffbd-400f-e85b-5c042ceb2709"
   },
   "outputs": [
    {
     "data": {
      "text/plain": [
       "0.7659667541557306"
      ]
     },
     "execution_count": 31,
     "metadata": {},
     "output_type": "execute_result"
    }
   ],
   "source": [
    "train_score3=accuracy_score(y_train,train_pred3)\n",
    "C= round(train_score3, 4)\n",
    "train_score3"
   ]
  },
  {
   "cell_type": "code",
   "execution_count": 32,
   "id": "R0fENCm-QVeR",
   "metadata": {
    "colab": {
     "base_uri": "https://localhost:8080/"
    },
    "executionInfo": {
     "elapsed": 11308,
     "status": "ok",
     "timestamp": 1697877412174,
     "user": {
      "displayName": "Omkar Bajantri",
      "userId": "01388216537307988849"
     },
     "user_tz": -330
    },
    "id": "R0fENCm-QVeR",
    "outputId": "ae433b39-9bcc-4395-8277-67c9a9660714"
   },
   "outputs": [
    {
     "data": {
      "text/plain": [
       "array(['apple scab', 'apple scab', 'healthy', 'apple scab', 'apple scab',\n",
       "       'apple scab', 'healthy', 'apple scab', 'healthy', 'healthy',\n",
       "       'healthy', 'apple scab', 'healthy', 'healthy', 'apple scab',\n",
       "       'apple scab', 'apple scab', 'healthy', 'healthy', 'healthy',\n",
       "       'healthy', 'apple scab', 'apple scab', 'apple scab', 'healthy',\n",
       "       'healthy', 'healthy', 'apple scab', 'apple scab', 'apple scab',\n",
       "       'apple scab', 'healthy', 'healthy', 'apple scab', 'apple scab',\n",
       "       'apple scab', 'apple scab', 'apple scab', 'apple scab', 'healthy',\n",
       "       'apple scab', 'cedar apple rust', 'apple scab', 'apple scab',\n",
       "       'apple scab', 'apple scab', 'apple scab', 'healthy', 'healthy',\n",
       "       'healthy', 'apple scab', 'apple scab', 'apple scab', 'apple scab',\n",
       "       'apple scab', 'healthy', 'apple scab', 'healthy', 'healthy',\n",
       "       'apple scab', 'apple scab', 'healthy', 'apple scab', 'black rot',\n",
       "       'black rot', 'black rot', 'black rot', 'black rot', 'black rot',\n",
       "       'healthy', 'black rot', 'black rot', 'black rot', 'black rot',\n",
       "       'black rot', 'black rot', 'black rot', 'black rot', 'healthy',\n",
       "       'black rot', 'black rot', 'black rot', 'healthy', 'black rot',\n",
       "       'black rot', 'black rot', 'black rot', 'black rot', 'black rot',\n",
       "       'black rot', 'black rot', 'black rot', 'black rot', 'black rot',\n",
       "       'black rot', 'black rot', 'black rot', 'black rot', 'healthy',\n",
       "       'black rot', 'black rot', 'black rot', 'apple scab', 'black rot',\n",
       "       'black rot', 'black rot', 'healthy', 'black rot', 'black rot',\n",
       "       'black rot', 'black rot', 'healthy', 'black rot', 'black rot',\n",
       "       'healthy', 'black rot', 'black rot', 'black rot', 'healthy',\n",
       "       'black rot', 'black rot', 'black rot', 'black rot', 'healthy',\n",
       "       'healthy', 'cedar apple rust', 'cedar apple rust', 'apple scab',\n",
       "       'healthy', 'cedar apple rust', 'cedar apple rust',\n",
       "       'cedar apple rust', 'healthy', 'cedar apple rust',\n",
       "       'cedar apple rust', 'healthy', 'apple scab', 'cedar apple rust',\n",
       "       'cedar apple rust', 'healthy', 'healthy', 'cedar apple rust',\n",
       "       'healthy', 'cedar apple rust', 'cedar apple rust',\n",
       "       'cedar apple rust', 'cedar apple rust', 'cedar apple rust',\n",
       "       'cedar apple rust', 'healthy', 'cedar apple rust',\n",
       "       'cedar apple rust', 'healthy', 'healthy', 'healthy', 'healthy',\n",
       "       'healthy', 'healthy', 'healthy', 'healthy', 'healthy', 'healthy',\n",
       "       'healthy', 'healthy', 'apple scab', 'healthy', 'healthy',\n",
       "       'healthy', 'healthy', 'healthy', 'healthy', 'healthy', 'healthy',\n",
       "       'healthy', 'healthy', 'healthy', 'apple scab', 'healthy',\n",
       "       'healthy', 'healthy', 'healthy', 'apple scab', 'healthy',\n",
       "       'healthy', 'healthy', 'healthy', 'healthy', 'healthy', 'healthy',\n",
       "       'healthy', 'healthy', 'healthy', 'healthy', 'healthy', 'healthy',\n",
       "       'healthy', 'healthy', 'apple scab', 'healthy', 'healthy',\n",
       "       'healthy', 'healthy', 'healthy', 'healthy', 'healthy', 'healthy',\n",
       "       'healthy', 'healthy', 'apple scab', 'healthy', 'healthy',\n",
       "       'apple scab', 'healthy', 'healthy', 'healthy', 'healthy',\n",
       "       'healthy', 'healthy', 'healthy', 'healthy', 'healthy',\n",
       "       'apple scab', 'healthy', 'healthy', 'cedar apple rust',\n",
       "       'apple scab', 'healthy', 'healthy', 'healthy', 'healthy',\n",
       "       'healthy', 'black rot', 'healthy', 'apple scab', 'healthy',\n",
       "       'healthy', 'healthy', 'healthy', 'healthy', 'healthy', 'healthy',\n",
       "       'healthy', 'healthy', 'apple scab', 'apple scab', 'healthy',\n",
       "       'healthy', 'healthy', 'healthy', 'healthy', 'healthy', 'healthy',\n",
       "       'apple scab', 'healthy', 'healthy', 'healthy', 'cedar apple rust',\n",
       "       'healthy', 'healthy', 'apple scab', 'apple scab', 'apple scab',\n",
       "       'apple scab', 'apple scab', 'healthy', 'healthy', 'apple scab',\n",
       "       'healthy', 'apple scab', 'apple scab', 'healthy', 'apple scab',\n",
       "       'healthy', 'healthy', 'healthy', 'healthy', 'healthy', 'healthy',\n",
       "       'apple scab', 'healthy', 'healthy', 'healthy', 'apple scab',\n",
       "       'healthy', 'healthy', 'healthy', 'healthy', 'healthy', 'healthy',\n",
       "       'healthy', 'healthy', 'healthy', 'healthy', 'healthy', 'healthy',\n",
       "       'healthy', 'healthy', 'healthy', 'healthy', 'healthy', 'healthy',\n",
       "       'apple scab', 'healthy', 'healthy', 'healthy', 'apple scab',\n",
       "       'healthy', 'healthy', 'healthy', 'healthy', 'healthy', 'healthy',\n",
       "       'healthy', 'healthy', 'healthy', 'healthy'], dtype='<U16')"
      ]
     },
     "execution_count": 32,
     "metadata": {},
     "output_type": "execute_result"
    }
   ],
   "source": [
    "pred3 = model3.predict(X_test)\n",
    "pred3"
   ]
  },
  {
   "cell_type": "code",
   "execution_count": 33,
   "id": "Loe3dOZXQVZ2",
   "metadata": {
    "colab": {
     "base_uri": "https://localhost:8080/"
    },
    "executionInfo": {
     "elapsed": 17,
     "status": "ok",
     "timestamp": 1697877412174,
     "user": {
      "displayName": "Omkar Bajantri",
      "userId": "01388216537307988849"
     },
     "user_tz": -330
    },
    "id": "Loe3dOZXQVZ2",
    "outputId": "66f3b957-3fa5-4605-8922-a061e2534a9e"
   },
   "outputs": [
    {
     "data": {
      "text/plain": [
       "0.7689873417721519"
      ]
     },
     "execution_count": 33,
     "metadata": {},
     "output_type": "execute_result"
    }
   ],
   "source": [
    "score3=accuracy_score(y_test,pred3)\n",
    "c= round(score3, 4)\n",
    "score3"
   ]
  },
  {
   "cell_type": "code",
   "execution_count": 34,
   "id": "q7cauAn3QVKd",
   "metadata": {
    "colab": {
     "base_uri": "https://localhost:8080/"
    },
    "executionInfo": {
     "elapsed": 15,
     "status": "ok",
     "timestamp": 1697877412175,
     "user": {
      "displayName": "Omkar Bajantri",
      "userId": "01388216537307988849"
     },
     "user_tz": -330
    },
    "id": "q7cauAn3QVKd",
    "outputId": "330e38f8-9991-44a6-fd26-2a0316906809"
   },
   "outputs": [
    {
     "name": "stdout",
     "output_type": "stream",
     "text": [
      " AdaBoost Confusion matrix: \n",
      "\n",
      " [[ 38   0   1  24]\n",
      " [  1  51   0  10]\n",
      " [  2   0  18   7]\n",
      " [ 25   1   2 136]]\n"
     ]
    }
   ],
   "source": [
    "print(\" AdaBoost Confusion matrix: \\n\\n\", confusion_matrix(y_test, pred3))"
   ]
  },
  {
   "cell_type": "code",
   "execution_count": 35,
   "id": "YbkpB5SDQ7J9",
   "metadata": {
    "colab": {
     "base_uri": "https://localhost:8080/"
    },
    "executionInfo": {
     "elapsed": 11639,
     "status": "ok",
     "timestamp": 1697877423801,
     "user": {
      "displayName": "Omkar Bajantri",
      "userId": "01388216537307988849"
     },
     "user_tz": -330
    },
    "id": "YbkpB5SDQ7J9",
    "outputId": "ea98b213-a6fd-4a50-df70-e8ee2b2a6285"
   },
   "outputs": [
    {
     "name": "stdout",
     "output_type": "stream",
     "text": [
      " AdaBoost Classification report: \n",
      "\n",
      "                   precision    recall  f1-score   support\n",
      "\n",
      "      apple scab       0.58      0.60      0.59        63\n",
      "       black rot       0.98      0.82      0.89        62\n",
      "cedar apple rust       0.86      0.67      0.75        27\n",
      "         healthy       0.77      0.83      0.80       164\n",
      "\n",
      "        accuracy                           0.77       316\n",
      "       macro avg       0.80      0.73      0.76       316\n",
      "    weighted avg       0.78      0.77      0.77       316\n",
      "\n",
      "Test Accuracy: 76.9%\n"
     ]
    }
   ],
   "source": [
    "print(\" AdaBoost Classification report: \\n\\n\", classification_report(y_test, pred3))\n",
    "print(\"Test Accuracy: {}%\".format(round(model3.score(X_test, y_test)*100, 2)))"
   ]
  },
  {
   "cell_type": "code",
   "execution_count": 36,
   "id": "W3LQ4qKBQ68X",
   "metadata": {
    "executionInfo": {
     "elapsed": 8,
     "status": "ok",
     "timestamp": 1697877423801,
     "user": {
      "displayName": "Omkar Bajantri",
      "userId": "01388216537307988849"
     },
     "user_tz": -330
    },
    "id": "W3LQ4qKBQ68X"
   },
   "outputs": [],
   "source": [
    "save_model(model3,fruit=fruit,location=\"/content/drive/MyDrive/saved\",filename=\"Ada\")"
   ]
  },
  {
   "cell_type": "markdown",
   "id": "386970c2-f5de-4e8f-86f1-b5f90ada7495",
   "metadata": {
    "id": "386970c2-f5de-4e8f-86f1-b5f90ada7495"
   },
   "source": [
    "# Model -4 K-nearest Neighbors"
   ]
  },
  {
   "cell_type": "code",
   "execution_count": 37,
   "id": "5ae8d163-5673-4c9f-a714-d2fd463112a4",
   "metadata": {
    "colab": {
     "base_uri": "https://localhost:8080/",
     "height": 74
    },
    "executionInfo": {
     "elapsed": 6,
     "status": "ok",
     "timestamp": 1697877423801,
     "user": {
      "displayName": "Omkar Bajantri",
      "userId": "01388216537307988849"
     },
     "user_tz": -330
    },
    "id": "5ae8d163-5673-4c9f-a714-d2fd463112a4",
    "outputId": "b5597a73-7b7c-4563-f579-e5e164caa8e0"
   },
   "outputs": [
    {
     "data": {
      "text/plain": [
       "KNeighborsClassifier(n_neighbors=3)"
      ]
     },
     "execution_count": 37,
     "metadata": {},
     "output_type": "execute_result"
    }
   ],
   "source": [
    "from sklearn.neighbors import KNeighborsClassifier\n",
    "\n",
    "\n",
    "model4= KNeighborsClassifier(n_neighbors=3, metric='minkowski', p=2)\n",
    "model4.fit(X_train, y_train)\n"
   ]
  },
  {
   "cell_type": "code",
   "execution_count": 38,
   "id": "010fd78d-e732-4653-a8f0-24674628505c",
   "metadata": {
    "colab": {
     "base_uri": "https://localhost:8080/"
    },
    "executionInfo": {
     "elapsed": 32471,
     "status": "ok",
     "timestamp": 1697877456268,
     "user": {
      "displayName": "Omkar Bajantri",
      "userId": "01388216537307988849"
     },
     "user_tz": -330
    },
    "id": "010fd78d-e732-4653-a8f0-24674628505c",
    "outputId": "253ed217-5fb7-42e0-ef54-2d54c854f1d1"
   },
   "outputs": [
    {
     "data": {
      "text/plain": [
       "array(['apple scab', 'apple scab', 'apple scab', ..., 'healthy',\n",
       "       'healthy', 'healthy'], dtype='<U16')"
      ]
     },
     "execution_count": 38,
     "metadata": {},
     "output_type": "execute_result"
    }
   ],
   "source": [
    "train_pred4 = model4.predict(X_train)\n",
    "train_pred4"
   ]
  },
  {
   "cell_type": "code",
   "execution_count": 39,
   "id": "9a10644c-54a0-408d-9816-9dbcc19895e5",
   "metadata": {
    "colab": {
     "base_uri": "https://localhost:8080/"
    },
    "executionInfo": {
     "elapsed": 15,
     "status": "ok",
     "timestamp": 1697877456268,
     "user": {
      "displayName": "Omkar Bajantri",
      "userId": "01388216537307988849"
     },
     "user_tz": -330
    },
    "id": "9a10644c-54a0-408d-9816-9dbcc19895e5",
    "outputId": "5c9612b2-4c9f-4acf-a1ef-95c0b62cdcf0"
   },
   "outputs": [
    {
     "data": {
      "text/plain": [
       "0.8906386701662292"
      ]
     },
     "execution_count": 39,
     "metadata": {},
     "output_type": "execute_result"
    }
   ],
   "source": [
    "train_score4=accuracy_score(y_train,train_pred4)\n",
    "D= round(train_score4, 3)\n",
    "train_score4"
   ]
  },
  {
   "cell_type": "code",
   "execution_count": 40,
   "id": "5dc6ae3f-c8dd-4716-911e-d52a344a31d4",
   "metadata": {
    "colab": {
     "base_uri": "https://localhost:8080/"
    },
    "executionInfo": {
     "elapsed": 10507,
     "status": "ok",
     "timestamp": 1697877466763,
     "user": {
      "displayName": "Omkar Bajantri",
      "userId": "01388216537307988849"
     },
     "user_tz": -330
    },
    "id": "5dc6ae3f-c8dd-4716-911e-d52a344a31d4",
    "outputId": "ec28fea8-194b-4d56-e5a1-c7b9efe96d74"
   },
   "outputs": [
    {
     "data": {
      "text/plain": [
       "array(['apple scab', 'cedar apple rust', 'healthy', 'apple scab',\n",
       "       'apple scab', 'apple scab', 'apple scab', 'apple scab',\n",
       "       'apple scab', 'healthy', 'apple scab', 'apple scab', 'healthy',\n",
       "       'healthy', 'apple scab', 'healthy', 'apple scab', 'apple scab',\n",
       "       'apple scab', 'healthy', 'apple scab', 'apple scab', 'apple scab',\n",
       "       'apple scab', 'apple scab', 'apple scab', 'apple scab',\n",
       "       'apple scab', 'apple scab', 'apple scab', 'apple scab',\n",
       "       'apple scab', 'apple scab', 'apple scab', 'apple scab',\n",
       "       'apple scab', 'apple scab', 'apple scab', 'apple scab',\n",
       "       'apple scab', 'apple scab', 'apple scab', 'cedar apple rust',\n",
       "       'cedar apple rust', 'cedar apple rust', 'apple scab', 'apple scab',\n",
       "       'apple scab', 'apple scab', 'apple scab', 'apple scab',\n",
       "       'apple scab', 'apple scab', 'apple scab', 'apple scab',\n",
       "       'apple scab', 'apple scab', 'healthy', 'apple scab', 'apple scab',\n",
       "       'apple scab', 'cedar apple rust', 'apple scab', 'black rot',\n",
       "       'cedar apple rust', 'black rot', 'healthy', 'black rot',\n",
       "       'black rot', 'black rot', 'black rot', 'black rot', 'black rot',\n",
       "       'black rot', 'healthy', 'black rot', 'black rot', 'black rot',\n",
       "       'black rot', 'cedar apple rust', 'cedar apple rust', 'black rot',\n",
       "       'black rot', 'black rot', 'healthy', 'black rot', 'black rot',\n",
       "       'black rot', 'black rot', 'black rot', 'healthy', 'healthy',\n",
       "       'black rot', 'black rot', 'apple scab', 'black rot', 'black rot',\n",
       "       'black rot', 'black rot', 'black rot', 'black rot', 'black rot',\n",
       "       'healthy', 'black rot', 'cedar apple rust', 'black rot',\n",
       "       'black rot', 'black rot', 'apple scab', 'black rot', 'healthy',\n",
       "       'healthy', 'cedar apple rust', 'black rot', 'cedar apple rust',\n",
       "       'black rot', 'black rot', 'healthy', 'cedar apple rust',\n",
       "       'black rot', 'cedar apple rust', 'black rot', 'black rot',\n",
       "       'cedar apple rust', 'cedar apple rust', 'cedar apple rust',\n",
       "       'cedar apple rust', 'cedar apple rust', 'cedar apple rust',\n",
       "       'cedar apple rust', 'cedar apple rust', 'cedar apple rust',\n",
       "       'cedar apple rust', 'healthy', 'cedar apple rust',\n",
       "       'cedar apple rust', 'cedar apple rust', 'cedar apple rust',\n",
       "       'cedar apple rust', 'cedar apple rust', 'cedar apple rust',\n",
       "       'cedar apple rust', 'cedar apple rust', 'cedar apple rust',\n",
       "       'cedar apple rust', 'healthy', 'cedar apple rust',\n",
       "       'cedar apple rust', 'cedar apple rust', 'cedar apple rust',\n",
       "       'cedar apple rust', 'cedar apple rust', 'healthy', 'healthy',\n",
       "       'healthy', 'healthy', 'healthy', 'healthy', 'apple scab',\n",
       "       'healthy', 'healthy', 'healthy', 'healthy', 'healthy', 'healthy',\n",
       "       'healthy', 'healthy', 'healthy', 'healthy', 'apple scab',\n",
       "       'healthy', 'healthy', 'healthy', 'healthy', 'healthy', 'healthy',\n",
       "       'healthy', 'healthy', 'healthy', 'healthy', 'healthy', 'healthy',\n",
       "       'healthy', 'healthy', 'healthy', 'healthy', 'healthy', 'healthy',\n",
       "       'healthy', 'healthy', 'healthy', 'healthy', 'apple scab',\n",
       "       'healthy', 'healthy', 'healthy', 'healthy', 'healthy', 'healthy',\n",
       "       'healthy', 'healthy', 'healthy', 'healthy', 'healthy', 'healthy',\n",
       "       'healthy', 'healthy', 'healthy', 'healthy', 'healthy', 'healthy',\n",
       "       'healthy', 'healthy', 'healthy', 'healthy', 'healthy', 'healthy',\n",
       "       'healthy', 'healthy', 'healthy', 'healthy', 'apple scab',\n",
       "       'healthy', 'healthy', 'healthy', 'healthy', 'healthy', 'healthy',\n",
       "       'healthy', 'healthy', 'healthy', 'healthy', 'healthy', 'healthy',\n",
       "       'healthy', 'healthy', 'apple scab', 'healthy', 'healthy',\n",
       "       'healthy', 'healthy', 'healthy', 'healthy', 'apple scab',\n",
       "       'healthy', 'healthy', 'healthy', 'apple scab', 'healthy',\n",
       "       'healthy', 'healthy', 'healthy', 'apple scab', 'healthy',\n",
       "       'healthy', 'healthy', 'healthy', 'healthy', 'healthy', 'healthy',\n",
       "       'healthy', 'healthy', 'healthy', 'healthy', 'healthy', 'healthy',\n",
       "       'healthy', 'healthy', 'healthy', 'healthy', 'healthy', 'healthy',\n",
       "       'healthy', 'healthy', 'healthy', 'healthy', 'healthy', 'healthy',\n",
       "       'healthy', 'healthy', 'healthy', 'healthy', 'healthy', 'healthy',\n",
       "       'healthy', 'healthy', 'healthy', 'healthy', 'healthy', 'healthy',\n",
       "       'healthy', 'healthy', 'healthy', 'healthy', 'healthy', 'healthy',\n",
       "       'healthy', 'healthy', 'healthy', 'apple scab', 'healthy',\n",
       "       'healthy', 'healthy', 'healthy', 'healthy', 'healthy', 'healthy',\n",
       "       'healthy', 'healthy', 'healthy', 'healthy', 'healthy', 'healthy',\n",
       "       'healthy', 'healthy', 'healthy'], dtype='<U16')"
      ]
     },
     "execution_count": 40,
     "metadata": {},
     "output_type": "execute_result"
    }
   ],
   "source": [
    "pred4= model4.predict(X_test)\n",
    "pred4"
   ]
  },
  {
   "cell_type": "code",
   "execution_count": 41,
   "id": "b13d1995-1152-49a3-9e46-1c0f719a407e",
   "metadata": {
    "colab": {
     "base_uri": "https://localhost:8080/"
    },
    "executionInfo": {
     "elapsed": 17,
     "status": "ok",
     "timestamp": 1697877466763,
     "user": {
      "displayName": "Omkar Bajantri",
      "userId": "01388216537307988849"
     },
     "user_tz": -330
    },
    "id": "b13d1995-1152-49a3-9e46-1c0f719a407e",
    "outputId": "5d293d39-e4ca-40b3-f011-0317ca16f174"
   },
   "outputs": [
    {
     "data": {
      "text/plain": [
       "0.8607594936708861"
      ]
     },
     "execution_count": 41,
     "metadata": {},
     "output_type": "execute_result"
    }
   ],
   "source": [
    "score4=accuracy_score(y_test,pred4)\n",
    "d= round(score4, 4)\n",
    "score4"
   ]
  },
  {
   "cell_type": "code",
   "execution_count": 42,
   "id": "yb7-VUxZiP7I",
   "metadata": {
    "colab": {
     "base_uri": "https://localhost:8080/"
    },
    "executionInfo": {
     "elapsed": 13,
     "status": "ok",
     "timestamp": 1697877466763,
     "user": {
      "displayName": "Omkar Bajantri",
      "userId": "01388216537307988849"
     },
     "user_tz": -330
    },
    "id": "yb7-VUxZiP7I",
    "outputId": "4a0f5096-daa5-4baa-b404-8d214b9dbe1c"
   },
   "outputs": [
    {
     "name": "stdout",
     "output_type": "stream",
     "text": [
      "K-nearest Neighbors Confusion matrix: \n",
      "\n",
      " [[ 51   0   5   7]\n",
      " [  2  41  10   9]\n",
      " [  0   0  25   2]\n",
      " [  9   0   0 155]]\n"
     ]
    }
   ],
   "source": [
    "print(\"K-nearest Neighbors Confusion matrix: \\n\\n\", confusion_matrix(y_test, pred4))"
   ]
  },
  {
   "cell_type": "code",
   "execution_count": 43,
   "id": "7781c0cc-b25f-45fd-be8b-734d0ab8849d",
   "metadata": {
    "colab": {
     "base_uri": "https://localhost:8080/"
    },
    "executionInfo": {
     "elapsed": 11822,
     "status": "ok",
     "timestamp": 1697877478574,
     "user": {
      "displayName": "Omkar Bajantri",
      "userId": "01388216537307988849"
     },
     "user_tz": -330
    },
    "id": "7781c0cc-b25f-45fd-be8b-734d0ab8849d",
    "outputId": "59dc1b47-14fe-4d27-d5d4-1d50909ff27a"
   },
   "outputs": [
    {
     "name": "stdout",
     "output_type": "stream",
     "text": [
      "K-nearest Neighbors Classification report: \n",
      "\n",
      "                   precision    recall  f1-score   support\n",
      "\n",
      "      apple scab       0.82      0.81      0.82        63\n",
      "       black rot       1.00      0.66      0.80        62\n",
      "cedar apple rust       0.62      0.93      0.75        27\n",
      "         healthy       0.90      0.95      0.92       164\n",
      "\n",
      "        accuracy                           0.86       316\n",
      "       macro avg       0.84      0.84      0.82       316\n",
      "    weighted avg       0.88      0.86      0.86       316\n",
      "\n",
      "Test Accuracy: 86.08%\n"
     ]
    }
   ],
   "source": [
    "print(\"K-nearest Neighbors Classification report: \\n\\n\", classification_report(y_test, pred4))\n",
    "print(\"Test Accuracy: {}%\".format(round(model4.score(X_test, y_test)*100, 2)))"
   ]
  },
  {
   "cell_type": "code",
   "execution_count": 44,
   "id": "ab797aba-73b6-420b-b4c0-964493dad096",
   "metadata": {
    "executionInfo": {
     "elapsed": 1851,
     "status": "ok",
     "timestamp": 1697877480409,
     "user": {
      "displayName": "Omkar Bajantri",
      "userId": "01388216537307988849"
     },
     "user_tz": -330
    },
    "id": "ab797aba-73b6-420b-b4c0-964493dad096"
   },
   "outputs": [],
   "source": [
    "save_model(model4,fruit=fruit,location=\"/content/drive/MyDrive/saved\",filename=\"KNN\")"
   ]
  },
  {
   "cell_type": "markdown",
   "id": "d9067b02-9152-4aed-92dc-37734f57b0bc",
   "metadata": {
    "id": "d9067b02-9152-4aed-92dc-37734f57b0bc"
   },
   "source": [
    "# Model -5 Random Forest"
   ]
  },
  {
   "cell_type": "code",
   "execution_count": 45,
   "id": "6ed5329c-e868-4ec6-80c9-4bd5491d93d2",
   "metadata": {
    "colab": {
     "base_uri": "https://localhost:8080/",
     "height": 92
    },
    "executionInfo": {
     "elapsed": 98546,
     "status": "ok",
     "timestamp": 1697877578952,
     "user": {
      "displayName": "Omkar Bajantri",
      "userId": "01388216537307988849"
     },
     "user_tz": -330
    },
    "id": "6ed5329c-e868-4ec6-80c9-4bd5491d93d2",
    "outputId": "eabc32c3-1004-4bc7-fe63-63cbaa55755f"
   },
   "outputs": [
    {
     "name": "stderr",
     "output_type": "stream",
     "text": [
      "[Parallel(n_jobs=1)]: Using backend SequentialBackend with 1 concurrent workers.\n",
      "[Parallel(n_jobs=1)]: Done 150 out of 150 | elapsed:  1.2min finished\n"
     ]
    },
    {
     "data": {
      "text/plain": [
       "RandomForestClassifier(n_estimators=150, random_state=0, verbose=1)"
      ]
     },
     "execution_count": 45,
     "metadata": {},
     "output_type": "execute_result"
    }
   ],
   "source": [
    "from sklearn.ensemble import RandomForestClassifier\n",
    "\n",
    "model5= RandomForestClassifier(n_estimators= 150, criterion=\"gini\",verbose=1, random_state=0)\n",
    "model5.fit(X_train, y_train)"
   ]
  },
  {
   "cell_type": "code",
   "execution_count": 46,
   "id": "da67ac7f-32d4-4286-a0f8-baf20bc2087a",
   "metadata": {
    "colab": {
     "base_uri": "https://localhost:8080/"
    },
    "executionInfo": {
     "elapsed": 708,
     "status": "ok",
     "timestamp": 1697877579655,
     "user": {
      "displayName": "Omkar Bajantri",
      "userId": "01388216537307988849"
     },
     "user_tz": -330
    },
    "id": "da67ac7f-32d4-4286-a0f8-baf20bc2087a",
    "outputId": "92df2946-623e-404f-85ac-71eaac335af1"
   },
   "outputs": [
    {
     "name": "stderr",
     "output_type": "stream",
     "text": [
      "[Parallel(n_jobs=1)]: Using backend SequentialBackend with 1 concurrent workers.\n",
      "[Parallel(n_jobs=1)]: Done 150 out of 150 | elapsed:    0.1s finished\n"
     ]
    },
    {
     "data": {
      "text/plain": [
       "array(['apple scab', 'apple scab', 'apple scab', ..., 'healthy',\n",
       "       'healthy', 'healthy'], dtype='<U16')"
      ]
     },
     "execution_count": 46,
     "metadata": {},
     "output_type": "execute_result"
    }
   ],
   "source": [
    "train_pred5 = model5.predict(X_train)\n",
    "train_pred5"
   ]
  },
  {
   "cell_type": "code",
   "execution_count": 47,
   "id": "10bb5329-12ba-4f2a-ab97-68e419f6a9c0",
   "metadata": {
    "colab": {
     "base_uri": "https://localhost:8080/"
    },
    "executionInfo": {
     "elapsed": 14,
     "status": "ok",
     "timestamp": 1697877579656,
     "user": {
      "displayName": "Omkar Bajantri",
      "userId": "01388216537307988849"
     },
     "user_tz": -330
    },
    "id": "10bb5329-12ba-4f2a-ab97-68e419f6a9c0",
    "outputId": "2e755396-8f7d-43cd-e3ba-a7cb7e58df03"
   },
   "outputs": [
    {
     "data": {
      "text/plain": [
       "1.0"
      ]
     },
     "execution_count": 47,
     "metadata": {},
     "output_type": "execute_result"
    }
   ],
   "source": [
    "train_score5=accuracy_score(y_train,train_pred5)\n",
    "E= round(train_score5, 4)\n",
    "train_score5"
   ]
  },
  {
   "cell_type": "code",
   "execution_count": 48,
   "id": "3b276d32-eb75-4bab-913c-30ccf6a054d2",
   "metadata": {
    "colab": {
     "base_uri": "https://localhost:8080/"
    },
    "executionInfo": {
     "elapsed": 11,
     "status": "ok",
     "timestamp": 1697877579656,
     "user": {
      "displayName": "Omkar Bajantri",
      "userId": "01388216537307988849"
     },
     "user_tz": -330
    },
    "id": "3b276d32-eb75-4bab-913c-30ccf6a054d2",
    "outputId": "e5bb8de0-7349-4099-882f-c0545186eddc"
   },
   "outputs": [
    {
     "name": "stderr",
     "output_type": "stream",
     "text": [
      "[Parallel(n_jobs=1)]: Using backend SequentialBackend with 1 concurrent workers.\n",
      "[Parallel(n_jobs=1)]: Done 150 out of 150 | elapsed:    0.0s finished\n"
     ]
    },
    {
     "data": {
      "text/plain": [
       "array(['apple scab', 'apple scab', 'apple scab', 'apple scab',\n",
       "       'apple scab', 'apple scab', 'apple scab', 'apple scab',\n",
       "       'apple scab', 'apple scab', 'apple scab', 'apple scab',\n",
       "       'apple scab', 'apple scab', 'apple scab', 'apple scab',\n",
       "       'apple scab', 'apple scab', 'apple scab', 'apple scab',\n",
       "       'apple scab', 'apple scab', 'apple scab', 'apple scab',\n",
       "       'apple scab', 'apple scab', 'apple scab', 'apple scab',\n",
       "       'apple scab', 'apple scab', 'apple scab', 'apple scab',\n",
       "       'apple scab', 'apple scab', 'apple scab', 'apple scab',\n",
       "       'apple scab', 'apple scab', 'apple scab', 'apple scab',\n",
       "       'apple scab', 'apple scab', 'apple scab', 'apple scab',\n",
       "       'apple scab', 'apple scab', 'apple scab', 'apple scab',\n",
       "       'apple scab', 'apple scab', 'apple scab', 'apple scab',\n",
       "       'apple scab', 'apple scab', 'apple scab', 'apple scab',\n",
       "       'apple scab', 'apple scab', 'apple scab', 'apple scab',\n",
       "       'apple scab', 'apple scab', 'apple scab', 'black rot', 'black rot',\n",
       "       'black rot', 'black rot', 'black rot', 'black rot', 'black rot',\n",
       "       'black rot', 'black rot', 'black rot', 'black rot', 'black rot',\n",
       "       'black rot', 'black rot', 'black rot', 'black rot', 'black rot',\n",
       "       'black rot', 'black rot', 'black rot', 'black rot', 'black rot',\n",
       "       'black rot', 'black rot', 'black rot', 'black rot', 'black rot',\n",
       "       'black rot', 'black rot', 'black rot', 'black rot', 'black rot',\n",
       "       'black rot', 'black rot', 'black rot', 'black rot', 'black rot',\n",
       "       'black rot', 'black rot', 'black rot', 'black rot', 'black rot',\n",
       "       'black rot', 'black rot', 'black rot', 'black rot', 'black rot',\n",
       "       'black rot', 'black rot', 'black rot', 'black rot', 'black rot',\n",
       "       'black rot', 'black rot', 'black rot', 'black rot', 'black rot',\n",
       "       'black rot', 'black rot', 'black rot', 'black rot', 'black rot',\n",
       "       'cedar apple rust', 'cedar apple rust', 'cedar apple rust',\n",
       "       'cedar apple rust', 'cedar apple rust', 'cedar apple rust',\n",
       "       'cedar apple rust', 'cedar apple rust', 'cedar apple rust',\n",
       "       'cedar apple rust', 'cedar apple rust', 'cedar apple rust',\n",
       "       'cedar apple rust', 'cedar apple rust', 'cedar apple rust',\n",
       "       'cedar apple rust', 'cedar apple rust', 'cedar apple rust',\n",
       "       'cedar apple rust', 'cedar apple rust', 'cedar apple rust',\n",
       "       'cedar apple rust', 'cedar apple rust', 'cedar apple rust',\n",
       "       'cedar apple rust', 'cedar apple rust', 'cedar apple rust',\n",
       "       'healthy', 'healthy', 'healthy', 'healthy', 'healthy', 'healthy',\n",
       "       'healthy', 'healthy', 'healthy', 'healthy', 'healthy', 'healthy',\n",
       "       'healthy', 'healthy', 'healthy', 'healthy', 'healthy', 'healthy',\n",
       "       'healthy', 'healthy', 'healthy', 'healthy', 'healthy', 'healthy',\n",
       "       'healthy', 'healthy', 'healthy', 'healthy', 'healthy', 'healthy',\n",
       "       'healthy', 'healthy', 'healthy', 'healthy', 'healthy', 'healthy',\n",
       "       'healthy', 'healthy', 'healthy', 'healthy', 'healthy', 'healthy',\n",
       "       'healthy', 'healthy', 'healthy', 'healthy', 'healthy', 'healthy',\n",
       "       'healthy', 'healthy', 'healthy', 'healthy', 'healthy', 'healthy',\n",
       "       'healthy', 'healthy', 'healthy', 'healthy', 'healthy', 'healthy',\n",
       "       'healthy', 'healthy', 'healthy', 'healthy', 'healthy', 'healthy',\n",
       "       'healthy', 'healthy', 'healthy', 'healthy', 'healthy', 'healthy',\n",
       "       'healthy', 'healthy', 'healthy', 'healthy', 'healthy', 'healthy',\n",
       "       'healthy', 'healthy', 'healthy', 'healthy', 'healthy', 'healthy',\n",
       "       'healthy', 'healthy', 'healthy', 'healthy', 'healthy', 'healthy',\n",
       "       'healthy', 'healthy', 'healthy', 'healthy', 'healthy', 'healthy',\n",
       "       'healthy', 'healthy', 'healthy', 'healthy', 'healthy', 'healthy',\n",
       "       'healthy', 'healthy', 'healthy', 'healthy', 'healthy', 'healthy',\n",
       "       'healthy', 'healthy', 'healthy', 'healthy', 'healthy', 'healthy',\n",
       "       'healthy', 'healthy', 'healthy', 'healthy', 'healthy', 'healthy',\n",
       "       'healthy', 'healthy', 'healthy', 'healthy', 'healthy', 'healthy',\n",
       "       'healthy', 'healthy', 'healthy', 'healthy', 'healthy', 'healthy',\n",
       "       'healthy', 'healthy', 'healthy', 'healthy', 'healthy', 'healthy',\n",
       "       'healthy', 'healthy', 'healthy', 'healthy', 'healthy', 'healthy',\n",
       "       'healthy', 'healthy', 'healthy', 'healthy', 'healthy', 'healthy',\n",
       "       'healthy', 'healthy', 'healthy', 'healthy', 'healthy', 'healthy',\n",
       "       'healthy', 'healthy', 'healthy', 'healthy', 'healthy', 'healthy',\n",
       "       'healthy', 'healthy'], dtype='<U16')"
      ]
     },
     "execution_count": 48,
     "metadata": {},
     "output_type": "execute_result"
    }
   ],
   "source": [
    "pred5= model5.predict(X_test)\n",
    "pred5"
   ]
  },
  {
   "cell_type": "code",
   "execution_count": 49,
   "id": "67dd3a7b-fd31-4aca-af34-0850d73fe9a6",
   "metadata": {
    "colab": {
     "base_uri": "https://localhost:8080/"
    },
    "executionInfo": {
     "elapsed": 9,
     "status": "ok",
     "timestamp": 1697877579656,
     "user": {
      "displayName": "Omkar Bajantri",
      "userId": "01388216537307988849"
     },
     "user_tz": -330
    },
    "id": "67dd3a7b-fd31-4aca-af34-0850d73fe9a6",
    "outputId": "b6cc6185-3a38-4afb-e7a0-06787acce886"
   },
   "outputs": [
    {
     "data": {
      "text/plain": [
       "1.0"
      ]
     },
     "execution_count": 49,
     "metadata": {},
     "output_type": "execute_result"
    }
   ],
   "source": [
    "score5=accuracy_score(y_test,pred5)\n",
    "e= round(score5, 4)\n",
    "score5"
   ]
  },
  {
   "cell_type": "code",
   "execution_count": 50,
   "id": "myXi1NKyiVWA",
   "metadata": {
    "colab": {
     "base_uri": "https://localhost:8080/"
    },
    "executionInfo": {
     "elapsed": 6,
     "status": "ok",
     "timestamp": 1697877579656,
     "user": {
      "displayName": "Omkar Bajantri",
      "userId": "01388216537307988849"
     },
     "user_tz": -330
    },
    "id": "myXi1NKyiVWA",
    "outputId": "76dabbab-01f8-4fd9-b1a0-e37d2bec1dbc"
   },
   "outputs": [
    {
     "name": "stdout",
     "output_type": "stream",
     "text": [
      "Random Forest Confusion matrix: \n",
      "\n",
      " [[ 63   0   0   0]\n",
      " [  0  62   0   0]\n",
      " [  0   0  27   0]\n",
      " [  0   0   0 164]]\n"
     ]
    }
   ],
   "source": [
    "print(\"Random Forest Confusion matrix: \\n\\n\", confusion_matrix(y_test, pred5))"
   ]
  },
  {
   "cell_type": "code",
   "execution_count": 51,
   "id": "def9efa2-fad2-4e9f-9575-4a0e91d70b85",
   "metadata": {
    "colab": {
     "base_uri": "https://localhost:8080/"
    },
    "executionInfo": {
     "elapsed": 5,
     "status": "ok",
     "timestamp": 1697877579656,
     "user": {
      "displayName": "Omkar Bajantri",
      "userId": "01388216537307988849"
     },
     "user_tz": -330
    },
    "id": "def9efa2-fad2-4e9f-9575-4a0e91d70b85",
    "outputId": "e37deb42-8f54-441c-fb01-70fe6a432978"
   },
   "outputs": [
    {
     "name": "stdout",
     "output_type": "stream",
     "text": [
      " Random Forest  Classification report: \n",
      "\n",
      "                   precision    recall  f1-score   support\n",
      "\n",
      "      apple scab       1.00      1.00      1.00        63\n",
      "       black rot       1.00      1.00      1.00        62\n",
      "cedar apple rust       1.00      1.00      1.00        27\n",
      "         healthy       1.00      1.00      1.00       164\n",
      "\n",
      "        accuracy                           1.00       316\n",
      "       macro avg       1.00      1.00      1.00       316\n",
      "    weighted avg       1.00      1.00      1.00       316\n",
      "\n",
      "Test Accuracy: 100.0%\n"
     ]
    },
    {
     "name": "stderr",
     "output_type": "stream",
     "text": [
      "[Parallel(n_jobs=1)]: Using backend SequentialBackend with 1 concurrent workers.\n",
      "[Parallel(n_jobs=1)]: Done 150 out of 150 | elapsed:    0.0s finished\n"
     ]
    }
   ],
   "source": [
    "print(\" Random Forest  Classification report: \\n\\n\", classification_report(y_test, pred5))\n",
    "print(\"Test Accuracy: {}%\".format(round(model5.score(X_test, y_test)*100, 2)))"
   ]
  },
  {
   "cell_type": "code",
   "execution_count": 52,
   "id": "7fd6c051-af9d-4fe1-83d4-418631c7af60",
   "metadata": {
    "executionInfo": {
     "elapsed": 421,
     "status": "ok",
     "timestamp": 1697877580074,
     "user": {
      "displayName": "Omkar Bajantri",
      "userId": "01388216537307988849"
     },
     "user_tz": -330
    },
    "id": "7fd6c051-af9d-4fe1-83d4-418631c7af60"
   },
   "outputs": [],
   "source": [
    "save_model(model5,fruit=fruit,location=\"/content/drive/MyDrive/saved\",filename=\"RF\")"
   ]
  },
  {
   "cell_type": "markdown",
   "id": "34561624-f80f-4eb0-ab11-49097f4bc149",
   "metadata": {
    "id": "34561624-f80f-4eb0-ab11-49097f4bc149"
   },
   "source": [
    "# Model -6 Decision Tree"
   ]
  },
  {
   "cell_type": "code",
   "execution_count": 53,
   "id": "7f2809f3-cf4b-4c96-9486-34775c241888",
   "metadata": {
    "colab": {
     "base_uri": "https://localhost:8080/",
     "height": 74
    },
    "executionInfo": {
     "elapsed": 75459,
     "status": "ok",
     "timestamp": 1697877655530,
     "user": {
      "displayName": "Omkar Bajantri",
      "userId": "01388216537307988849"
     },
     "user_tz": -330
    },
    "id": "7f2809f3-cf4b-4c96-9486-34775c241888",
    "outputId": "0f06cb2b-2dd5-485e-a120-be11ebd9c51f"
   },
   "outputs": [
    {
     "data": {
      "text/plain": [
       "DecisionTreeClassifier(splitter='random')"
      ]
     },
     "execution_count": 53,
     "metadata": {},
     "output_type": "execute_result"
    }
   ],
   "source": [
    "from sklearn.tree import DecisionTreeClassifier\n",
    "\n",
    "model6= DecisionTreeClassifier(criterion='gini', splitter='random', min_samples_split=2, min_samples_leaf=1)\n",
    "model6.fit(X_train, y_train)"
   ]
  },
  {
   "cell_type": "code",
   "execution_count": 54,
   "id": "849ec1b8-0410-4a43-ba11-5b999266b37f",
   "metadata": {
    "colab": {
     "base_uri": "https://localhost:8080/"
    },
    "executionInfo": {
     "elapsed": 1421,
     "status": "ok",
     "timestamp": 1697877656944,
     "user": {
      "displayName": "Omkar Bajantri",
      "userId": "01388216537307988849"
     },
     "user_tz": -330
    },
    "id": "849ec1b8-0410-4a43-ba11-5b999266b37f",
    "outputId": "f60b7180-52f1-4807-d126-6bc78a402c76"
   },
   "outputs": [
    {
     "data": {
      "text/plain": [
       "array(['apple scab', 'apple scab', 'apple scab', ..., 'healthy',\n",
       "       'healthy', 'healthy'], dtype='<U16')"
      ]
     },
     "execution_count": 54,
     "metadata": {},
     "output_type": "execute_result"
    }
   ],
   "source": [
    "train_pred6 = model6.predict(X_train)\n",
    "train_pred6"
   ]
  },
  {
   "cell_type": "code",
   "execution_count": 55,
   "id": "be390c01-359f-4758-8882-43f6acfe3c0d",
   "metadata": {
    "colab": {
     "base_uri": "https://localhost:8080/"
    },
    "executionInfo": {
     "elapsed": 11,
     "status": "ok",
     "timestamp": 1697877656944,
     "user": {
      "displayName": "Omkar Bajantri",
      "userId": "01388216537307988849"
     },
     "user_tz": -330
    },
    "id": "be390c01-359f-4758-8882-43f6acfe3c0d",
    "outputId": "e601d0dd-8d8c-4b2d-9696-465bc6fc137a"
   },
   "outputs": [
    {
     "data": {
      "text/plain": [
       "1.0"
      ]
     },
     "execution_count": 55,
     "metadata": {},
     "output_type": "execute_result"
    }
   ],
   "source": [
    "train_score6=accuracy_score(y_train,train_pred6)\n",
    "F= round(train_score6, 4)\n",
    "train_score6"
   ]
  },
  {
   "cell_type": "code",
   "execution_count": 56,
   "id": "bb174ab4-c6f7-4ae0-9e1d-ec20cb27412d",
   "metadata": {
    "colab": {
     "base_uri": "https://localhost:8080/"
    },
    "executionInfo": {
     "elapsed": 10,
     "status": "ok",
     "timestamp": 1697877656945,
     "user": {
      "displayName": "Omkar Bajantri",
      "userId": "01388216537307988849"
     },
     "user_tz": -330
    },
    "id": "bb174ab4-c6f7-4ae0-9e1d-ec20cb27412d",
    "outputId": "714671db-0ff3-4d23-8757-7accea6a1ee6"
   },
   "outputs": [
    {
     "data": {
      "text/plain": [
       "array(['apple scab', 'apple scab', 'apple scab', 'apple scab',\n",
       "       'apple scab', 'apple scab', 'apple scab', 'apple scab',\n",
       "       'apple scab', 'apple scab', 'apple scab', 'apple scab',\n",
       "       'apple scab', 'apple scab', 'apple scab', 'apple scab',\n",
       "       'apple scab', 'apple scab', 'apple scab', 'apple scab',\n",
       "       'apple scab', 'apple scab', 'apple scab', 'apple scab',\n",
       "       'apple scab', 'apple scab', 'apple scab', 'apple scab',\n",
       "       'apple scab', 'apple scab', 'apple scab', 'apple scab',\n",
       "       'apple scab', 'apple scab', 'apple scab', 'apple scab',\n",
       "       'apple scab', 'apple scab', 'apple scab', 'apple scab',\n",
       "       'apple scab', 'apple scab', 'apple scab', 'apple scab',\n",
       "       'apple scab', 'apple scab', 'apple scab', 'apple scab',\n",
       "       'apple scab', 'apple scab', 'apple scab', 'apple scab',\n",
       "       'apple scab', 'apple scab', 'apple scab', 'apple scab',\n",
       "       'apple scab', 'apple scab', 'apple scab', 'apple scab',\n",
       "       'apple scab', 'apple scab', 'apple scab', 'black rot', 'black rot',\n",
       "       'black rot', 'black rot', 'black rot', 'black rot', 'black rot',\n",
       "       'black rot', 'black rot', 'black rot', 'black rot', 'black rot',\n",
       "       'black rot', 'black rot', 'black rot', 'black rot', 'black rot',\n",
       "       'black rot', 'black rot', 'black rot', 'black rot', 'black rot',\n",
       "       'black rot', 'black rot', 'black rot', 'black rot', 'black rot',\n",
       "       'black rot', 'black rot', 'black rot', 'black rot', 'black rot',\n",
       "       'black rot', 'black rot', 'black rot', 'black rot', 'black rot',\n",
       "       'black rot', 'black rot', 'black rot', 'black rot', 'black rot',\n",
       "       'black rot', 'black rot', 'black rot', 'black rot', 'black rot',\n",
       "       'black rot', 'black rot', 'black rot', 'black rot', 'black rot',\n",
       "       'black rot', 'black rot', 'black rot', 'black rot', 'black rot',\n",
       "       'black rot', 'black rot', 'black rot', 'black rot', 'black rot',\n",
       "       'cedar apple rust', 'cedar apple rust', 'cedar apple rust',\n",
       "       'cedar apple rust', 'cedar apple rust', 'cedar apple rust',\n",
       "       'cedar apple rust', 'cedar apple rust', 'cedar apple rust',\n",
       "       'cedar apple rust', 'cedar apple rust', 'cedar apple rust',\n",
       "       'cedar apple rust', 'cedar apple rust', 'cedar apple rust',\n",
       "       'cedar apple rust', 'cedar apple rust', 'cedar apple rust',\n",
       "       'cedar apple rust', 'cedar apple rust', 'cedar apple rust',\n",
       "       'cedar apple rust', 'cedar apple rust', 'cedar apple rust',\n",
       "       'cedar apple rust', 'cedar apple rust', 'cedar apple rust',\n",
       "       'healthy', 'healthy', 'healthy', 'healthy', 'healthy', 'healthy',\n",
       "       'healthy', 'healthy', 'healthy', 'healthy', 'healthy', 'healthy',\n",
       "       'healthy', 'healthy', 'healthy', 'healthy', 'healthy', 'healthy',\n",
       "       'healthy', 'healthy', 'healthy', 'healthy', 'healthy', 'healthy',\n",
       "       'healthy', 'healthy', 'healthy', 'healthy', 'healthy', 'healthy',\n",
       "       'healthy', 'healthy', 'healthy', 'healthy', 'healthy', 'healthy',\n",
       "       'healthy', 'healthy', 'healthy', 'healthy', 'healthy', 'healthy',\n",
       "       'healthy', 'healthy', 'healthy', 'healthy', 'healthy', 'healthy',\n",
       "       'healthy', 'healthy', 'healthy', 'healthy', 'healthy', 'healthy',\n",
       "       'healthy', 'healthy', 'healthy', 'healthy', 'healthy', 'healthy',\n",
       "       'healthy', 'healthy', 'healthy', 'healthy', 'healthy', 'healthy',\n",
       "       'healthy', 'healthy', 'healthy', 'healthy', 'healthy', 'healthy',\n",
       "       'healthy', 'healthy', 'healthy', 'healthy', 'healthy', 'healthy',\n",
       "       'healthy', 'healthy', 'healthy', 'healthy', 'healthy', 'healthy',\n",
       "       'healthy', 'healthy', 'healthy', 'healthy', 'healthy', 'healthy',\n",
       "       'healthy', 'healthy', 'healthy', 'healthy', 'healthy', 'healthy',\n",
       "       'healthy', 'healthy', 'healthy', 'healthy', 'healthy', 'healthy',\n",
       "       'healthy', 'healthy', 'healthy', 'healthy', 'healthy', 'healthy',\n",
       "       'healthy', 'healthy', 'healthy', 'healthy', 'healthy', 'healthy',\n",
       "       'healthy', 'healthy', 'healthy', 'healthy', 'healthy', 'healthy',\n",
       "       'healthy', 'healthy', 'healthy', 'healthy', 'healthy', 'healthy',\n",
       "       'healthy', 'healthy', 'healthy', 'healthy', 'healthy', 'healthy',\n",
       "       'healthy', 'healthy', 'healthy', 'healthy', 'healthy', 'healthy',\n",
       "       'healthy', 'healthy', 'healthy', 'healthy', 'healthy', 'healthy',\n",
       "       'healthy', 'healthy', 'healthy', 'healthy', 'healthy', 'healthy',\n",
       "       'healthy', 'healthy', 'healthy', 'healthy', 'healthy', 'healthy',\n",
       "       'healthy', 'healthy', 'healthy', 'healthy', 'healthy', 'healthy',\n",
       "       'healthy', 'healthy'], dtype='<U16')"
      ]
     },
     "execution_count": 56,
     "metadata": {},
     "output_type": "execute_result"
    }
   ],
   "source": [
    "pred6= model6.predict(X_test)\n",
    "pred6"
   ]
  },
  {
   "cell_type": "code",
   "execution_count": 57,
   "id": "a0499b95-5235-4050-9078-043f583feddf",
   "metadata": {
    "colab": {
     "base_uri": "https://localhost:8080/"
    },
    "executionInfo": {
     "elapsed": 8,
     "status": "ok",
     "timestamp": 1697877656945,
     "user": {
      "displayName": "Omkar Bajantri",
      "userId": "01388216537307988849"
     },
     "user_tz": -330
    },
    "id": "a0499b95-5235-4050-9078-043f583feddf",
    "outputId": "c2d32585-6b91-4942-a538-3580eab03661"
   },
   "outputs": [
    {
     "data": {
      "text/plain": [
       "1.0"
      ]
     },
     "execution_count": 57,
     "metadata": {},
     "output_type": "execute_result"
    }
   ],
   "source": [
    "score6=accuracy_score(y_test,pred6)\n",
    "f= round(score6, 4)\n",
    "score6"
   ]
  },
  {
   "cell_type": "code",
   "execution_count": 58,
   "id": "lxBm1zaIiZiO",
   "metadata": {
    "colab": {
     "base_uri": "https://localhost:8080/"
    },
    "executionInfo": {
     "elapsed": 5,
     "status": "ok",
     "timestamp": 1697877656945,
     "user": {
      "displayName": "Omkar Bajantri",
      "userId": "01388216537307988849"
     },
     "user_tz": -330
    },
    "id": "lxBm1zaIiZiO",
    "outputId": "2745bfec-2bf7-4744-dd79-3ffe2e98f625"
   },
   "outputs": [
    {
     "name": "stdout",
     "output_type": "stream",
     "text": [
      "Decision Tree Confusion matrix: \n",
      "\n",
      " [[ 63   0   0   0]\n",
      " [  0  62   0   0]\n",
      " [  0   0  27   0]\n",
      " [  0   0   0 164]]\n"
     ]
    }
   ],
   "source": [
    "print(\"Decision Tree Confusion matrix: \\n\\n\", confusion_matrix(y_test, pred6))"
   ]
  },
  {
   "cell_type": "code",
   "execution_count": 59,
   "id": "1dfce035-e467-4587-8e86-efe02a1f782e",
   "metadata": {
    "colab": {
     "base_uri": "https://localhost:8080/"
    },
    "executionInfo": {
     "elapsed": 4,
     "status": "ok",
     "timestamp": 1697877656945,
     "user": {
      "displayName": "Omkar Bajantri",
      "userId": "01388216537307988849"
     },
     "user_tz": -330
    },
    "id": "1dfce035-e467-4587-8e86-efe02a1f782e",
    "outputId": "2120da67-74f1-49f6-f00b-2235e4e9a266"
   },
   "outputs": [
    {
     "name": "stdout",
     "output_type": "stream",
     "text": [
      "Decision Tree Classification report: \n",
      "\n",
      "                   precision    recall  f1-score   support\n",
      "\n",
      "      apple scab       1.00      1.00      1.00        63\n",
      "       black rot       1.00      1.00      1.00        62\n",
      "cedar apple rust       1.00      1.00      1.00        27\n",
      "         healthy       1.00      1.00      1.00       164\n",
      "\n",
      "        accuracy                           1.00       316\n",
      "       macro avg       1.00      1.00      1.00       316\n",
      "    weighted avg       1.00      1.00      1.00       316\n",
      "\n",
      "Test Accuracy: 100.0%\n"
     ]
    }
   ],
   "source": [
    "print(\"Decision Tree Classification report: \\n\\n\", classification_report(y_test, pred6))\n",
    "print(\"Test Accuracy: {}%\".format(round(model6.score(X_test, y_test)*100, 2)))"
   ]
  },
  {
   "cell_type": "code",
   "execution_count": 60,
   "id": "f28d2623-7ed7-496c-aeb1-9d17811ceb4b",
   "metadata": {
    "executionInfo": {
     "elapsed": 3,
     "status": "ok",
     "timestamp": 1697877656945,
     "user": {
      "displayName": "Omkar Bajantri",
      "userId": "01388216537307988849"
     },
     "user_tz": -330
    },
    "id": "f28d2623-7ed7-496c-aeb1-9d17811ceb4b"
   },
   "outputs": [],
   "source": [
    "save_model(model6,fruit=fruit,location=\"/content/drive/MyDrive/saved\",filename=\"DT\")"
   ]
  },
  {
   "cell_type": "markdown",
   "id": "80027ab4-b153-427f-b933-a372d7a30718",
   "metadata": {
    "id": "80027ab4-b153-427f-b933-a372d7a30718"
   },
   "source": [
    "# Comparision Using Box plot"
   ]
  },
  {
   "cell_type": "code",
   "execution_count": 61,
   "id": "03c5e3f6-1268-4cbe-b870-62eb19caa13a",
   "metadata": {
    "colab": {
     "base_uri": "https://localhost:8080/",
     "height": 670
    },
    "executionInfo": {
     "elapsed": 2263,
     "status": "ok",
     "timestamp": 1697877659205,
     "user": {
      "displayName": "Omkar Bajantri",
      "userId": "01388216537307988849"
     },
     "user_tz": -330
    },
    "id": "03c5e3f6-1268-4cbe-b870-62eb19caa13a",
    "outputId": "989b4e58-7380-4b9d-85b3-67bf35b2fb8b"
   },
   "outputs": [
    {
     "data": {
      "image/png": "[encoded data removed]",
      "text/plain": [
       "<Figure size 1500x700 with 1 Axes>"
      ]
     },
     "metadata": {},
     "output_type": "display_data"
    },
    {
     "data": {
      "image/png": "[encoded data removed]",
      "text/plain": [
       "<Figure size 1500x700 with 1 Axes>"
      ]
     },
     "metadata": {},
     "output_type": "display_data"
    }
   ],
   "source": [
    "from matplotlib import pyplot as plt\n",
    "\n",
    "def labels(x,y):\n",
    "    for i in range(len(x)):\n",
    "        plt.text(i,y[i],y[i])\n",
    "\n",
    "if __name__ == '__main__':\n",
    "    x = ['SVM', 'MLP', 'AdaBoost', 'KNN', 'RF', 'DT']\n",
    "    y = [a, b, c, d, e,f]\n",
    "    Y = [A, B, C, D, E,F]\n",
    "\n",
    "    fig = plt.figure(figsize =(15, 7))\n",
    "    ax = plt.axes()\n",
    "    ax.set_facecolor(\"peachpuff\")\n",
    "    plt.bar(x, Y, width=0.4, color='lime')\n",
    "    labels(x, Y)\n",
    "    plt.xlabel('Models')\n",
    "    plt.ylabel(\"Acurracy In Training\")\n",
    "    plt.title('Algorithm Comparison Training')\n",
    "    plt.show()\n",
    "\n",
    "    fig = plt.figure(figsize =(15, 7))\n",
    "    ax = plt.axes()\n",
    "    labels(x, y)\n",
    "    ax.set_facecolor(\"peachpuff\")\n",
    "    plt.bar( x , y, width=0.4, color='lime')\n",
    "    plt.xlabel('Models')\n",
    "    plt.ylabel(\"Acurracy In Testing\")\n",
    "    plt.title('Algorithm Comparison Testing')\n",
    "    plt.show()\n",
    "\n"
   ]
  },
  {
   "cell_type": "code",
   "execution_count": null,
   "id": "umDAS6k2z9rD",
   "metadata": {
    "executionInfo": {
     "elapsed": 13,
     "status": "ok",
     "timestamp": 1697877659205,
     "user": {
      "displayName": "Omkar Bajantri",
      "userId": "01388216537307988849"
     },
     "user_tz": -330
    },
    "id": "umDAS6k2z9rD"
   },
   "outputs": [],
   "source": []
  }
 ],
 "metadata": {
  "colab": {
   "gpuType": "T4",
   "provenance": []
  },
  "kernelspec": {
   "display_name": "Python 3 (ipykernel)",
   "language": "python",
   "name": "python3"
  },
  "language_info": {
   "codemirror_mode": {
    "name": "ipython",
    "version": 3
   },
   "file_extension": ".py",
   "mimetype": "text/x-python",
   "name": "python",
   "nbconvert_exporter": "python",
   "pygments_lexer": "ipython3",
   "version": "3.7.5"
  }
 },
 "nbformat": 4,
 "nbformat_minor": 5
}
