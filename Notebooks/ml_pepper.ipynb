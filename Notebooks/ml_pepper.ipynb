{
 "cells": [
  {
   "cell_type": "code",
   "execution_count": null,
   "id": "fb018452",
   "metadata": {},
   "outputs": [],
   "source": [
    "from google.colab import drive\n",
    "drive.mount('/content/drive')"
   ]
  },
  {
   "cell_type": "code",
   "execution_count": 8,
   "id": "708c16b7",
   "metadata": {
    "executionInfo": {
     "elapsed": 585,
     "status": "ok",
     "timestamp": 1697884168196,
     "user": {
      "displayName": "Omkar Bajantri",
      "userId": "01388216537307988849"
     },
     "user_tz": -330
    },
    "id": "8bdd0fff-1978-4699-bff7-6462a4ecff8d"
   },
   "outputs": [],
   "source": [
    "import os\n",
    "import numpy as np\n",
    "from PIL import Image"
   ]
  },
  {
   "cell_type": "markdown",
   "id": "4293e29a",
   "metadata": {
    "id": "7y3WRvYFa72S"
   },
   "source": [
    "# DataGenerator"
   ]
  },
  {
   "cell_type": "code",
   "execution_count": 9,
   "id": "e4be258a",
   "metadata": {
    "executionInfo": {
     "elapsed": 4,
     "status": "ok",
     "timestamp": 1697884170848,
     "user": {
      "displayName": "Omkar Bajantri",
      "userId": "01388216537307988849"
     },
     "user_tz": -330
    },
    "id": "fe76b895-dbee-4f7a-bfe3-da45da1aa499"
   },
   "outputs": [],
   "source": [
    "data_path ='/content/drive/MyDrive/DATASET/image data'\n",
    "fruit = 'pepper'"
   ]
  },
  {
   "cell_type": "code",
   "execution_count": 10,
   "id": "4e27f36e",
   "metadata": {
    "executionInfo": {
     "elapsed": 4,
     "status": "ok",
     "timestamp": 1697884172639,
     "user": {
      "displayName": "Omkar Bajantri",
      "userId": "01388216537307988849"
     },
     "user_tz": -330
    },
    "id": "7a8aa84e-1245-4ffe-976f-ca13377b502d"
   },
   "outputs": [],
   "source": [
    "# Creating Train Data Path for a single Fruit\n",
    "train_data_path = os.path.join(data_path,\"train\",fruit)"
   ]
  },
  {
   "cell_type": "code",
   "execution_count": 11,
   "id": "148405b9",
   "metadata": {
    "executionInfo": {
     "elapsed": 805,
     "status": "ok",
     "timestamp": 1697884174112,
     "user": {
      "displayName": "Omkar Bajantri",
      "userId": "01388216537307988849"
     },
     "user_tz": -330
    },
    "id": "2804c0a3-05e7-41c4-ab93-9ddd99ccaf5e"
   },
   "outputs": [],
   "source": [
    "test_data_path = os.path.join(data_path,\"test\",fruit)"
   ]
  },
  {
   "cell_type": "code",
   "execution_count": 12,
   "id": "cd393efc",
   "metadata": {
    "executionInfo": {
     "elapsed": 2,
     "status": "ok",
     "timestamp": 1697884175660,
     "user": {
      "displayName": "Omkar Bajantri",
      "userId": "01388216537307988849"
     },
     "user_tz": -330
    },
    "id": "c84a8e93-f8ca-4096-bc32-bd6906fcb9ca"
   },
   "outputs": [],
   "source": [
    "def load_image_dataset(dataset_directory:str,img_height:int = 224,img_width:int = 224,flatten_image:bool = False):\n",
    "    \"\"\"\n",
    "        Params:\n",
    "        dataset_directory: path to your dataset directory,\n",
    "        img_height = standard height of image\n",
    "        img_width = standard width of image\n",
    "        flatten_image = False: Image will be returned with actual size\n",
    "                        True : Image will be flattened\n",
    "\n",
    "    \"\"\"\n",
    "\n",
    "    # Create empty lists to store the images and their corresponding labels\n",
    "    images = []\n",
    "    labels = []\n",
    "\n",
    "    # Iterate through the subdirectories (each subdirectory represents a class)\n",
    "    for class_name in os.listdir(dataset_directory):\n",
    "        class_dir = os.path.join(dataset_directory, class_name)\n",
    "        for image_name in os.listdir(class_dir):\n",
    "            image_path = os.path.join(class_dir, image_name)\n",
    "            image = Image.open(image_path)  # Open the image using PIL\n",
    "            image = image.resize((img_width, img_height))  # Resize the image to a desired size\n",
    "            image = np.array(image)  # Convert the image to a numpy array\n",
    "            images.append(image)\n",
    "            labels.append(class_name)\n",
    "\n",
    "    # Convert the lists to numpy arrays\n",
    "    images = np.array(images)\n",
    "    labels = np.array(labels)\n",
    "\n",
    "\n",
    "    if flatten_image: # flattening image i.e converting image into vector\n",
    "        images = images.reshape(images.shape[0],-1)\n",
    "\n",
    "    return images,labels\n"
   ]
  },
  {
   "cell_type": "code",
   "execution_count": 13,
   "id": "f9de14b6",
   "metadata": {
    "executionInfo": {
     "elapsed": 9456,
     "status": "ok",
     "timestamp": 1697884187200,
     "user": {
      "displayName": "Omkar Bajantri",
      "userId": "01388216537307988849"
     },
     "user_tz": -330
    },
    "id": "da894dc4-7091-4361-814b-4aa719f80768"
   },
   "outputs": [],
   "source": [
    "X_train,y_train = load_image_dataset(dataset_directory=train_data_path,flatten_image=True)"
   ]
  },
  {
   "cell_type": "code",
   "execution_count": 14,
   "id": "73ef50c8",
   "metadata": {
    "executionInfo": {
     "elapsed": 825,
     "status": "ok",
     "timestamp": 1697884188024,
     "user": {
      "displayName": "Omkar Bajantri",
      "userId": "01388216537307988849"
     },
     "user_tz": -330
    },
    "id": "85c5305c-3bbe-4c9e-86ee-7e6cf1a1996f"
   },
   "outputs": [],
   "source": [
    "X_test,y_test =  load_image_dataset(dataset_directory=test_data_path,flatten_image=True)"
   ]
  },
  {
   "cell_type": "code",
   "execution_count": 15,
   "id": "42bdedc1",
   "metadata": {
    "colab": {
     "base_uri": "https://localhost:8080/"
    },
    "executionInfo": {
     "elapsed": 6,
     "status": "ok",
     "timestamp": 1697884188024,
     "user": {
      "displayName": "Omkar Bajantri",
      "userId": "01388216537307988849"
     },
     "user_tz": -330
    },
    "id": "d60017ac-d120-4a4b-9290-0d2794aa375e",
    "outputId": "0ce31312-6ae3-4a75-dec3-af9bd649d043"
   },
   "outputs": [
    {
     "data": {
      "text/plain": [
       "(1784, 150528)"
      ]
     },
     "execution_count": 15,
     "metadata": {},
     "output_type": "execute_result"
    }
   ],
   "source": [
    "X_train.shape"
   ]
  },
  {
   "cell_type": "code",
   "execution_count": 16,
   "id": "eeddb2f1",
   "metadata": {
    "colab": {
     "base_uri": "https://localhost:8080/"
    },
    "executionInfo": {
     "elapsed": 5,
     "status": "ok",
     "timestamp": 1697884188024,
     "user": {
      "displayName": "Omkar Bajantri",
      "userId": "01388216537307988849"
     },
     "user_tz": -330
    },
    "id": "2703878a-b1ae-46c8-865f-d54aca678b1b",
    "outputId": "f6ea7be9-5bb2-4411-9d9c-0abfbf196e86"
   },
   "outputs": [
    {
     "data": {
      "text/plain": [
       "(1784,)"
      ]
     },
     "execution_count": 16,
     "metadata": {},
     "output_type": "execute_result"
    }
   ],
   "source": [
    "y_train.shape"
   ]
  },
  {
   "cell_type": "code",
   "execution_count": 17,
   "id": "6d84e205",
   "metadata": {
    "executionInfo": {
     "elapsed": 4,
     "status": "ok",
     "timestamp": 1697884188025,
     "user": {
      "displayName": "Omkar Bajantri",
      "userId": "01388216537307988849"
     },
     "user_tz": -330
    },
    "id": "49b60e4d-7b3f-4c5b-a354-a29d51ca23e0"
   },
   "outputs": [],
   "source": [
    "import joblib\n",
    "\n",
    "def save_model(model,fruit:str,filename:str,location:str):\n",
    "\n",
    "    location = os.path.join(location,fruit)\n",
    "    if not os.path.isdir(location):\n",
    "        os.mkdir(location)\n",
    "\n",
    "    filename = os.path.join(location,filename+\".jblib\")\n",
    "\n",
    "    joblib.dump(model,filename=filename)"
   ]
  },
  {
   "cell_type": "code",
   "execution_count": 18,
   "id": "d59a8975",
   "metadata": {
    "executionInfo": {
     "elapsed": 4,
     "status": "ok",
     "timestamp": 1697884188025,
     "user": {
      "displayName": "Omkar Bajantri",
      "userId": "01388216537307988849"
     },
     "user_tz": -330
    },
    "id": "7t3J3fGThlUH"
   },
   "outputs": [],
   "source": [
    "from sklearn.metrics import classification_report, confusion_matrix"
   ]
  },
  {
   "cell_type": "code",
   "execution_count": 19,
   "id": "06cfa5ff",
   "metadata": {
    "executionInfo": {
     "elapsed": 4,
     "status": "ok",
     "timestamp": 1697884188025,
     "user": {
      "displayName": "Omkar Bajantri",
      "userId": "01388216537307988849"
     },
     "user_tz": -330
    },
    "id": "QItRE1ozjmHQ"
   },
   "outputs": [],
   "source": [
    "from sklearn.metrics import accuracy_score"
   ]
  },
  {
   "cell_type": "markdown",
   "id": "e102f603",
   "metadata": {
    "id": "5c6d797e-3b2c-486d-8b91-88e50fd4d0ec"
   },
   "source": [
    "# Model - 1 Support vector Machine"
   ]
  },
  {
   "cell_type": "code",
   "execution_count": 20,
   "id": "0ae5bc6d",
   "metadata": {
    "colab": {
     "base_uri": "https://localhost:8080/",
     "height": 74
    },
    "executionInfo": {
     "elapsed": 277978,
     "status": "ok",
     "timestamp": 1697882223428,
     "user": {
      "displayName": "Omkar Bajantri",
      "userId": "01388216537307988849"
     },
     "user_tz": -330
    },
    "id": "16704c50-cd0e-449a-946f-cfb6b9bca95c",
    "outputId": "a64376a3-9f16-40ca-eaed-07b7cba51799"
   },
   "outputs": [
    {
     "data": {
      "text/plain": [
       "SVC()"
      ]
     },
     "execution_count": 20,
     "metadata": {},
     "output_type": "execute_result"
    }
   ],
   "source": [
    "from sklearn.svm import SVC\n",
    "\n",
    "model1 = SVC()\n",
    "model1.fit(X_train, y_train)"
   ]
  },
  {
   "cell_type": "code",
   "execution_count": 21,
   "id": "6fd20315",
   "metadata": {
    "colab": {
     "base_uri": "https://localhost:8080/"
    },
    "executionInfo": {
     "elapsed": 562577,
     "status": "ok",
     "timestamp": 1697882785997,
     "user": {
      "displayName": "Omkar Bajantri",
      "userId": "01388216537307988849"
     },
     "user_tz": -330
    },
    "id": "f2cc3e35-82e1-4827-854e-30fbca984235",
    "outputId": "9cee616f-4182-4a4a-8c1b-8967b3cf0c05"
   },
   "outputs": [
    {
     "data": {
      "text/plain": [
       "array(['bacterial spot', 'bacterial spot', 'bacterial spot', ...,\n",
       "       'healthy', 'healthy', 'healthy'], dtype='<U14')"
      ]
     },
     "execution_count": 21,
     "metadata": {},
     "output_type": "execute_result"
    }
   ],
   "source": [
    "train_pred1 = model1.predict(X_train)\n",
    "train_pred1"
   ]
  },
  {
   "cell_type": "code",
   "execution_count": 22,
   "id": "34f6e37f",
   "metadata": {
    "colab": {
     "base_uri": "https://localhost:8080/"
    },
    "executionInfo": {
     "elapsed": 11,
     "status": "ok",
     "timestamp": 1697882785998,
     "user": {
      "displayName": "Omkar Bajantri",
      "userId": "01388216537307988849"
     },
     "user_tz": -330
    },
    "id": "e86cb4f8-36b2-4ba6-a6fc-3db4dc3f5019",
    "outputId": "c06faa90-374a-4279-ca83-4594c24181bd"
   },
   "outputs": [
    {
     "data": {
      "text/plain": [
       "0.975896860986547"
      ]
     },
     "execution_count": 22,
     "metadata": {},
     "output_type": "execute_result"
    }
   ],
   "source": [
    "train_score1=accuracy_score(y_train,train_pred1)\n",
    "A= round(train_score1, 4)\n",
    "train_score1"
   ]
  },
  {
   "cell_type": "code",
   "execution_count": 23,
   "id": "46c04750",
   "metadata": {
    "colab": {
     "base_uri": "https://localhost:8080/"
    },
    "executionInfo": {
     "elapsed": 75720,
     "status": "ok",
     "timestamp": 1697882861712,
     "user": {
      "displayName": "Omkar Bajantri",
      "userId": "01388216537307988849"
     },
     "user_tz": -330
    },
    "id": "fc48adf1-dcff-4c2e-8a90-c7ba383d6366",
    "outputId": "dca90c79-002f-4b7a-ac7f-aeb93e85df7d"
   },
   "outputs": [
    {
     "data": {
      "text/plain": [
       "array(['bacterial spot', 'bacterial spot', 'bacterial spot',\n",
       "       'bacterial spot', 'bacterial spot', 'bacterial spot',\n",
       "       'bacterial spot', 'bacterial spot', 'healthy', 'bacterial spot',\n",
       "       'bacterial spot', 'bacterial spot', 'bacterial spot',\n",
       "       'bacterial spot', 'bacterial spot', 'bacterial spot',\n",
       "       'bacterial spot', 'bacterial spot', 'bacterial spot',\n",
       "       'bacterial spot', 'bacterial spot', 'bacterial spot',\n",
       "       'bacterial spot', 'bacterial spot', 'healthy', 'bacterial spot',\n",
       "       'bacterial spot', 'bacterial spot', 'bacterial spot',\n",
       "       'bacterial spot', 'bacterial spot', 'bacterial spot',\n",
       "       'bacterial spot', 'bacterial spot', 'bacterial spot',\n",
       "       'bacterial spot', 'bacterial spot', 'bacterial spot',\n",
       "       'bacterial spot', 'bacterial spot', 'bacterial spot',\n",
       "       'bacterial spot', 'bacterial spot', 'bacterial spot',\n",
       "       'bacterial spot', 'bacterial spot', 'bacterial spot',\n",
       "       'bacterial spot', 'bacterial spot', 'bacterial spot',\n",
       "       'bacterial spot', 'bacterial spot', 'bacterial spot',\n",
       "       'bacterial spot', 'bacterial spot', 'bacterial spot',\n",
       "       'bacterial spot', 'bacterial spot', 'bacterial spot',\n",
       "       'bacterial spot', 'bacterial spot', 'bacterial spot',\n",
       "       'bacterial spot', 'bacterial spot', 'bacterial spot',\n",
       "       'bacterial spot', 'bacterial spot', 'bacterial spot',\n",
       "       'bacterial spot', 'healthy', 'bacterial spot', 'bacterial spot',\n",
       "       'bacterial spot', 'bacterial spot', 'bacterial spot',\n",
       "       'bacterial spot', 'bacterial spot', 'bacterial spot',\n",
       "       'bacterial spot', 'healthy', 'bacterial spot', 'healthy',\n",
       "       'bacterial spot', 'bacterial spot', 'bacterial spot',\n",
       "       'bacterial spot', 'bacterial spot', 'bacterial spot',\n",
       "       'bacterial spot', 'bacterial spot', 'bacterial spot',\n",
       "       'bacterial spot', 'bacterial spot', 'bacterial spot',\n",
       "       'bacterial spot', 'bacterial spot', 'healthy', 'bacterial spot',\n",
       "       'bacterial spot', 'healthy', 'healthy', 'healthy', 'healthy',\n",
       "       'healthy', 'healthy', 'healthy', 'healthy', 'healthy', 'healthy',\n",
       "       'healthy', 'healthy', 'healthy', 'healthy', 'healthy', 'healthy',\n",
       "       'healthy', 'healthy', 'healthy', 'healthy', 'healthy', 'healthy',\n",
       "       'healthy', 'healthy', 'healthy', 'healthy', 'healthy', 'healthy',\n",
       "       'healthy', 'healthy', 'healthy', 'healthy', 'healthy', 'healthy',\n",
       "       'healthy', 'healthy', 'healthy', 'healthy', 'healthy', 'healthy',\n",
       "       'healthy', 'healthy', 'healthy', 'bacterial spot', 'healthy',\n",
       "       'healthy', 'healthy', 'healthy', 'healthy', 'healthy', 'healthy',\n",
       "       'healthy', 'healthy', 'healthy', 'healthy', 'healthy', 'healthy',\n",
       "       'healthy', 'healthy', 'healthy', 'healthy', 'healthy', 'healthy',\n",
       "       'healthy', 'healthy', 'healthy', 'healthy', 'healthy', 'healthy',\n",
       "       'healthy', 'healthy', 'healthy', 'healthy', 'healthy', 'healthy',\n",
       "       'healthy', 'healthy', 'healthy', 'healthy', 'healthy', 'healthy',\n",
       "       'healthy', 'healthy', 'healthy', 'healthy', 'healthy', 'healthy',\n",
       "       'healthy', 'healthy', 'healthy', 'healthy', 'healthy', 'healthy',\n",
       "       'healthy', 'healthy', 'healthy', 'healthy', 'healthy', 'healthy',\n",
       "       'healthy', 'healthy', 'healthy', 'healthy', 'healthy', 'healthy',\n",
       "       'healthy', 'healthy', 'healthy', 'healthy', 'healthy', 'healthy',\n",
       "       'healthy', 'healthy', 'healthy', 'healthy', 'healthy', 'healthy',\n",
       "       'healthy', 'healthy', 'healthy', 'healthy', 'healthy', 'healthy',\n",
       "       'healthy', 'healthy', 'healthy', 'healthy', 'healthy', 'healthy',\n",
       "       'healthy', 'healthy', 'healthy', 'healthy', 'healthy', 'healthy',\n",
       "       'healthy', 'healthy', 'healthy', 'healthy', 'healthy', 'healthy',\n",
       "       'healthy', 'healthy', 'healthy', 'healthy', 'healthy', 'healthy'],\n",
       "      dtype='<U14')"
      ]
     },
     "execution_count": 23,
     "metadata": {},
     "output_type": "execute_result"
    }
   ],
   "source": [
    "pred1 = model1.predict(X_test)\n",
    "pred1"
   ]
  },
  {
   "cell_type": "code",
   "execution_count": 24,
   "id": "7a97aad9",
   "metadata": {
    "colab": {
     "base_uri": "https://localhost:8080/"
    },
    "executionInfo": {
     "elapsed": 48,
     "status": "ok",
     "timestamp": 1697882861713,
     "user": {
      "displayName": "Omkar Bajantri",
      "userId": "01388216537307988849"
     },
     "user_tz": -330
    },
    "id": "5fb34b38-e127-4f95-a100-937cc1c0a4cd",
    "outputId": "1002de83-ad8c-4722-bb0d-54e582b415be"
   },
   "outputs": [
    {
     "data": {
      "text/plain": [
       "0.9715447154471545"
      ]
     },
     "execution_count": 24,
     "metadata": {},
     "output_type": "execute_result"
    }
   ],
   "source": [
    "score1=accuracy_score(y_test,pred1)\n",
    "a= round(score1, 4)\n",
    "score1"
   ]
  },
  {
   "cell_type": "code",
   "execution_count": 25,
   "id": "bec40dce",
   "metadata": {
    "colab": {
     "base_uri": "https://localhost:8080/"
    },
    "executionInfo": {
     "elapsed": 42,
     "status": "ok",
     "timestamp": 1697882861713,
     "user": {
      "displayName": "Omkar Bajantri",
      "userId": "01388216537307988849"
     },
     "user_tz": -330
    },
    "id": "v91YXaAahqkY",
    "outputId": "de0105b5-bf03-4b07-a5a4-33adadf480b4"
   },
   "outputs": [
    {
     "name": "stdout",
     "output_type": "stream",
     "text": [
      "Support vector Machine Confusion matrix: \n",
      "\n",
      " [[ 93   6]\n",
      " [  1 146]]\n"
     ]
    }
   ],
   "source": [
    "print(\"Support vector Machine Confusion matrix: \\n\\n\", confusion_matrix(y_test, pred1))"
   ]
  },
  {
   "cell_type": "code",
   "execution_count": 26,
   "id": "ac4af6a8",
   "metadata": {
    "colab": {
     "base_uri": "https://localhost:8080/"
    },
    "executionInfo": {
     "elapsed": 73942,
     "status": "ok",
     "timestamp": 1697882935616,
     "user": {
      "displayName": "Omkar Bajantri",
      "userId": "01388216537307988849"
     },
     "user_tz": -330
    },
    "id": "af60b24d-c639-4750-829d-f4d7c95cef78",
    "outputId": "16d901cb-6799-4342-f6cb-ae5d1f59234e"
   },
   "outputs": [
    {
     "name": "stdout",
     "output_type": "stream",
     "text": [
      "Support vector Machine Classification report: \n",
      "\n",
      "                 precision    recall  f1-score   support\n",
      "\n",
      "bacterial spot       0.99      0.94      0.96        99\n",
      "       healthy       0.96      0.99      0.98       147\n",
      "\n",
      "      accuracy                           0.97       246\n",
      "     macro avg       0.97      0.97      0.97       246\n",
      "  weighted avg       0.97      0.97      0.97       246\n",
      "\n",
      "Test Accuracy: 97.15%\n"
     ]
    }
   ],
   "source": [
    "print(\"Support vector Machine Classification report: \\n\\n\", classification_report(y_test, pred1))\n",
    "print(\"Test Accuracy: {}%\".format(round(model1.score(X_test, y_test)*100, 2)))"
   ]
  },
  {
   "cell_type": "code",
   "execution_count": 27,
   "id": "ee075025",
   "metadata": {
    "executionInfo": {
     "elapsed": 7608,
     "status": "ok",
     "timestamp": 1697882943217,
     "user": {
      "displayName": "Omkar Bajantri",
      "userId": "01388216537307988849"
     },
     "user_tz": -330
    },
    "id": "80bf53b2-9a80-4bbf-8e2d-6d855e7335d4"
   },
   "outputs": [],
   "source": [
    "save_model(model1,fruit=fruit,location=\"/content/drive/MyDrive/saved\",filename=\"SVM\")"
   ]
  },
  {
   "cell_type": "markdown",
   "id": "65800f93",
   "metadata": {
    "id": "p-BoWRukfy2g"
   },
   "source": [
    "# Model -2  Multi-layer Perceptron"
   ]
  },
  {
   "cell_type": "code",
   "execution_count": 28,
   "id": "28a41b29",
   "metadata": {
    "colab": {
     "base_uri": "https://localhost:8080/",
     "height": 74
    },
    "executionInfo": {
     "elapsed": 507737,
     "status": "ok",
     "timestamp": 1697883450921,
     "user": {
      "displayName": "Omkar Bajantri",
      "userId": "01388216537307988849"
     },
     "user_tz": -330
    },
    "id": "dv3XtgI7ftaD",
    "outputId": "c67697a6-5af5-4f9f-f5f6-236fea4a2353"
   },
   "outputs": [
    {
     "data": {
      "text/plain": [
       "MLPClassifier()"
      ]
     },
     "execution_count": 28,
     "metadata": {},
     "output_type": "execute_result"
    }
   ],
   "source": [
    "from sklearn.neural_network import MLPClassifier\n",
    "\n",
    "model2 = MLPClassifier()\n",
    "model2.fit(X_train, y_train)"
   ]
  },
  {
   "cell_type": "code",
   "execution_count": 29,
   "id": "15cd7251",
   "metadata": {
    "colab": {
     "base_uri": "https://localhost:8080/"
    },
    "executionInfo": {
     "elapsed": 2887,
     "status": "ok",
     "timestamp": 1697883453801,
     "user": {
      "displayName": "Omkar Bajantri",
      "userId": "01388216537307988849"
     },
     "user_tz": -330
    },
    "id": "ahgUIiKSftWC",
    "outputId": "ac431dbb-959c-4fc9-cdc4-af0295534eaa"
   },
   "outputs": [
    {
     "data": {
      "text/plain": [
       "array(['bacterial spot', 'bacterial spot', 'bacterial spot', ...,\n",
       "       'healthy', 'healthy', 'healthy'], dtype='<U14')"
      ]
     },
     "execution_count": 29,
     "metadata": {},
     "output_type": "execute_result"
    }
   ],
   "source": [
    "train_pred2 = model2.predict(X_train)\n",
    "train_pred2"
   ]
  },
  {
   "cell_type": "code",
   "execution_count": 30,
   "id": "bfff9ff5",
   "metadata": {
    "colab": {
     "base_uri": "https://localhost:8080/"
    },
    "executionInfo": {
     "elapsed": 54,
     "status": "ok",
     "timestamp": 1697883453801,
     "user": {
      "displayName": "Omkar Bajantri",
      "userId": "01388216537307988849"
     },
     "user_tz": -330
    },
    "id": "1gDgk-xXftTQ",
    "outputId": "f625d85d-17f9-477d-e489-b15024061579"
   },
   "outputs": [
    {
     "data": {
      "text/plain": [
       "0.9501121076233184"
      ]
     },
     "execution_count": 30,
     "metadata": {},
     "output_type": "execute_result"
    }
   ],
   "source": [
    "train_score2=accuracy_score(y_train,train_pred2)\n",
    "B= round(train_score2, 4)\n",
    "train_score2"
   ]
  },
  {
   "cell_type": "code",
   "execution_count": 31,
   "id": "fce72f14",
   "metadata": {
    "colab": {
     "base_uri": "https://localhost:8080/"
    },
    "executionInfo": {
     "elapsed": 50,
     "status": "ok",
     "timestamp": 1697883453801,
     "user": {
      "displayName": "Omkar Bajantri",
      "userId": "01388216537307988849"
     },
     "user_tz": -330
    },
    "id": "hkRnRLp5ftQH",
    "outputId": "546d823a-65a2-4e9b-91d0-6e9430b3acd7"
   },
   "outputs": [
    {
     "data": {
      "text/plain": [
       "array(['bacterial spot', 'bacterial spot', 'bacterial spot',\n",
       "       'bacterial spot', 'bacterial spot', 'bacterial spot',\n",
       "       'bacterial spot', 'bacterial spot', 'bacterial spot',\n",
       "       'bacterial spot', 'bacterial spot', 'bacterial spot',\n",
       "       'bacterial spot', 'bacterial spot', 'bacterial spot',\n",
       "       'bacterial spot', 'bacterial spot', 'bacterial spot',\n",
       "       'bacterial spot', 'bacterial spot', 'bacterial spot',\n",
       "       'bacterial spot', 'bacterial spot', 'bacterial spot',\n",
       "       'bacterial spot', 'bacterial spot', 'bacterial spot',\n",
       "       'bacterial spot', 'bacterial spot', 'bacterial spot',\n",
       "       'bacterial spot', 'healthy', 'bacterial spot', 'bacterial spot',\n",
       "       'bacterial spot', 'bacterial spot', 'bacterial spot',\n",
       "       'bacterial spot', 'bacterial spot', 'bacterial spot',\n",
       "       'bacterial spot', 'bacterial spot', 'bacterial spot',\n",
       "       'bacterial spot', 'bacterial spot', 'bacterial spot', 'healthy',\n",
       "       'bacterial spot', 'bacterial spot', 'bacterial spot',\n",
       "       'bacterial spot', 'bacterial spot', 'bacterial spot',\n",
       "       'bacterial spot', 'bacterial spot', 'bacterial spot',\n",
       "       'bacterial spot', 'bacterial spot', 'bacterial spot',\n",
       "       'bacterial spot', 'bacterial spot', 'bacterial spot',\n",
       "       'bacterial spot', 'bacterial spot', 'bacterial spot',\n",
       "       'bacterial spot', 'bacterial spot', 'bacterial spot',\n",
       "       'bacterial spot', 'healthy', 'bacterial spot', 'bacterial spot',\n",
       "       'bacterial spot', 'bacterial spot', 'bacterial spot',\n",
       "       'bacterial spot', 'bacterial spot', 'bacterial spot',\n",
       "       'bacterial spot', 'bacterial spot', 'bacterial spot',\n",
       "       'bacterial spot', 'bacterial spot', 'bacterial spot',\n",
       "       'bacterial spot', 'bacterial spot', 'bacterial spot',\n",
       "       'bacterial spot', 'bacterial spot', 'bacterial spot',\n",
       "       'bacterial spot', 'bacterial spot', 'bacterial spot',\n",
       "       'bacterial spot', 'bacterial spot', 'bacterial spot', 'healthy',\n",
       "       'bacterial spot', 'healthy', 'healthy', 'healthy', 'healthy',\n",
       "       'healthy', 'healthy', 'healthy', 'healthy', 'healthy', 'healthy',\n",
       "       'healthy', 'healthy', 'healthy', 'healthy', 'healthy', 'healthy',\n",
       "       'healthy', 'healthy', 'healthy', 'healthy', 'healthy', 'healthy',\n",
       "       'healthy', 'healthy', 'healthy', 'healthy', 'healthy', 'healthy',\n",
       "       'healthy', 'healthy', 'healthy', 'healthy', 'healthy', 'healthy',\n",
       "       'healthy', 'healthy', 'healthy', 'healthy', 'healthy',\n",
       "       'bacterial spot', 'healthy', 'healthy', 'healthy', 'healthy',\n",
       "       'healthy', 'healthy', 'healthy', 'healthy', 'healthy', 'healthy',\n",
       "       'healthy', 'healthy', 'healthy', 'bacterial spot',\n",
       "       'bacterial spot', 'healthy', 'healthy', 'healthy', 'healthy',\n",
       "       'bacterial spot', 'healthy', 'healthy', 'healthy', 'healthy',\n",
       "       'healthy', 'bacterial spot', 'healthy', 'healthy', 'healthy',\n",
       "       'healthy', 'healthy', 'healthy', 'healthy', 'healthy', 'healthy',\n",
       "       'healthy', 'healthy', 'healthy', 'healthy', 'healthy', 'healthy',\n",
       "       'healthy', 'healthy', 'healthy', 'healthy', 'healthy', 'healthy',\n",
       "       'healthy', 'healthy', 'healthy', 'healthy', 'healthy', 'healthy',\n",
       "       'healthy', 'healthy', 'healthy', 'healthy', 'healthy', 'healthy',\n",
       "       'healthy', 'healthy', 'healthy', 'healthy', 'healthy', 'healthy',\n",
       "       'healthy', 'healthy', 'healthy', 'healthy', 'healthy', 'healthy',\n",
       "       'healthy', 'bacterial spot', 'healthy', 'healthy', 'healthy',\n",
       "       'healthy', 'healthy', 'healthy', 'healthy', 'healthy', 'healthy',\n",
       "       'healthy', 'healthy', 'healthy', 'healthy', 'bacterial spot',\n",
       "       'healthy', 'healthy', 'healthy', 'healthy', 'healthy', 'healthy',\n",
       "       'healthy', 'healthy', 'healthy', 'bacterial spot', 'healthy',\n",
       "       'healthy', 'bacterial spot', 'healthy', 'healthy', 'healthy',\n",
       "       'healthy', 'healthy', 'healthy', 'healthy', 'healthy'],\n",
       "      dtype='<U14')"
      ]
     },
     "execution_count": 31,
     "metadata": {},
     "output_type": "execute_result"
    }
   ],
   "source": [
    "pred2 = model2.predict(X_test)\n",
    "pred2"
   ]
  },
  {
   "cell_type": "code",
   "execution_count": 32,
   "id": "1f68d092",
   "metadata": {
    "colab": {
     "base_uri": "https://localhost:8080/"
    },
    "executionInfo": {
     "elapsed": 47,
     "status": "ok",
     "timestamp": 1697883453802,
     "user": {
      "displayName": "Omkar Bajantri",
      "userId": "01388216537307988849"
     },
     "user_tz": -330
    },
    "id": "QCj_xDRlftM4",
    "outputId": "6982a073-a9e4-4100-8683-77a61a1b0183"
   },
   "outputs": [
    {
     "data": {
      "text/plain": [
       "0.943089430894309"
      ]
     },
     "execution_count": 32,
     "metadata": {},
     "output_type": "execute_result"
    }
   ],
   "source": [
    "score2=accuracy_score(y_test,pred2)\n",
    "b= round(score2, 4)\n",
    "score2"
   ]
  },
  {
   "cell_type": "code",
   "execution_count": 33,
   "id": "f979fcb5",
   "metadata": {
    "colab": {
     "base_uri": "https://localhost:8080/"
    },
    "executionInfo": {
     "elapsed": 41,
     "status": "ok",
     "timestamp": 1697883453802,
     "user": {
      "displayName": "Omkar Bajantri",
      "userId": "01388216537307988849"
     },
     "user_tz": -330
    },
    "id": "59H7uiK1h6_5",
    "outputId": "c024ba9f-36a6-4796-89df-c8078cb1559c"
   },
   "outputs": [
    {
     "name": "stdout",
     "output_type": "stream",
     "text": [
      " Multi-layer Perceptron Confusion matrix: \n",
      "\n",
      " [[ 94   5]\n",
      " [  9 138]]\n"
     ]
    }
   ],
   "source": [
    "print(\" Multi-layer Perceptron Confusion matrix: \\n\\n\", confusion_matrix(y_test, pred2))"
   ]
  },
  {
   "cell_type": "code",
   "execution_count": 34,
   "id": "49bea95e",
   "metadata": {
    "colab": {
     "base_uri": "https://localhost:8080/"
    },
    "executionInfo": {
     "elapsed": 636,
     "status": "ok",
     "timestamp": 1697883454400,
     "user": {
      "displayName": "Omkar Bajantri",
      "userId": "01388216537307988849"
     },
     "user_tz": -330
    },
    "id": "OZ0Gga1lftFQ",
    "outputId": "d4def0ac-384e-46df-cf40-6e1225f76bf2"
   },
   "outputs": [
    {
     "name": "stdout",
     "output_type": "stream",
     "text": [
      " Multi-layer Perceptron report: \n",
      "\n",
      "                 precision    recall  f1-score   support\n",
      "\n",
      "bacterial spot       0.91      0.95      0.93        99\n",
      "       healthy       0.97      0.94      0.95       147\n",
      "\n",
      "      accuracy                           0.94       246\n",
      "     macro avg       0.94      0.94      0.94       246\n",
      "  weighted avg       0.94      0.94      0.94       246\n",
      "\n",
      "Test Accuracy: 94.31%\n"
     ]
    }
   ],
   "source": [
    "print(\" Multi-layer Perceptron report: \\n\\n\", classification_report(y_test, pred2))\n",
    "print(\"Test Accuracy: {}%\".format(round(model2.score(X_test, y_test)*100, 2)))"
   ]
  },
  {
   "cell_type": "code",
   "execution_count": 35,
   "id": "b4a424c7",
   "metadata": {
    "executionInfo": {
     "elapsed": 3267,
     "status": "ok",
     "timestamp": 1697883457662,
     "user": {
      "displayName": "Omkar Bajantri",
      "userId": "01388216537307988849"
     },
     "user_tz": -330
    },
    "id": "b4cddfdc-543b-42db-ac62-2fd88230605e"
   },
   "outputs": [],
   "source": [
    "save_model(model2,fruit=fruit,location=\"/content/drive/MyDrive/saved\",filename=\"MLP\")"
   ]
  },
  {
   "cell_type": "markdown",
   "id": "53756515",
   "metadata": {
    "id": "dVvr04RyQcFO"
   },
   "source": [
    "# Model -3  AdaBoost"
   ]
  },
  {
   "cell_type": "code",
   "execution_count": 36,
   "id": "6621b797",
   "metadata": {
    "colab": {
     "background_save": true
    },
    "id": "TQyCwVVqQV2r"
   },
   "outputs": [
    {
     "data": {
      "text/plain": [
       "AdaBoostClassifier()"
      ]
     },
     "execution_count": 36,
     "metadata": {},
     "output_type": "execute_result"
    }
   ],
   "source": [
    "from sklearn.ensemble import AdaBoostClassifier\n",
    "\n",
    "model3 = AdaBoostClassifier()\n",
    "model3.fit(X_train, y_train)"
   ]
  },
  {
   "cell_type": "code",
   "execution_count": 37,
   "id": "403a9214",
   "metadata": {
    "colab": {
     "background_save": true
    },
    "id": "gaWiAQ7zQVqX"
   },
   "outputs": [
    {
     "data": {
      "text/plain": [
       "array(['bacterial spot', 'bacterial spot', 'bacterial spot', ...,\n",
       "       'healthy', 'healthy', 'healthy'], dtype='<U14')"
      ]
     },
     "execution_count": 37,
     "metadata": {},
     "output_type": "execute_result"
    }
   ],
   "source": [
    "train_pred3 = model3.predict(X_train)\n",
    "train_pred3"
   ]
  },
  {
   "cell_type": "code",
   "execution_count": 38,
   "id": "a8108c07",
   "metadata": {
    "colab": {
     "background_save": true
    },
    "id": "3D1wrmZ7QVhu"
   },
   "outputs": [
    {
     "data": {
      "text/plain": [
       "0.9854260089686099"
      ]
     },
     "execution_count": 38,
     "metadata": {},
     "output_type": "execute_result"
    }
   ],
   "source": [
    "train_score3=accuracy_score(y_train,train_pred3)\n",
    "C= round(train_score3, 4)\n",
    "train_score3"
   ]
  },
  {
   "cell_type": "code",
   "execution_count": 39,
   "id": "e19524c1",
   "metadata": {
    "colab": {
     "background_save": true
    },
    "id": "R0fENCm-QVeR"
   },
   "outputs": [
    {
     "data": {
      "text/plain": [
       "array(['bacterial spot', 'bacterial spot', 'bacterial spot',\n",
       "       'bacterial spot', 'bacterial spot', 'bacterial spot',\n",
       "       'bacterial spot', 'bacterial spot', 'bacterial spot',\n",
       "       'bacterial spot', 'bacterial spot', 'bacterial spot',\n",
       "       'bacterial spot', 'bacterial spot', 'healthy', 'bacterial spot',\n",
       "       'bacterial spot', 'bacterial spot', 'bacterial spot',\n",
       "       'bacterial spot', 'bacterial spot', 'bacterial spot',\n",
       "       'bacterial spot', 'bacterial spot', 'bacterial spot',\n",
       "       'bacterial spot', 'bacterial spot', 'bacterial spot',\n",
       "       'bacterial spot', 'bacterial spot', 'bacterial spot',\n",
       "       'bacterial spot', 'bacterial spot', 'bacterial spot',\n",
       "       'bacterial spot', 'bacterial spot', 'bacterial spot',\n",
       "       'bacterial spot', 'bacterial spot', 'bacterial spot',\n",
       "       'bacterial spot', 'bacterial spot', 'bacterial spot',\n",
       "       'bacterial spot', 'bacterial spot', 'bacterial spot',\n",
       "       'bacterial spot', 'bacterial spot', 'bacterial spot',\n",
       "       'bacterial spot', 'bacterial spot', 'bacterial spot',\n",
       "       'bacterial spot', 'bacterial spot', 'bacterial spot',\n",
       "       'bacterial spot', 'bacterial spot', 'bacterial spot',\n",
       "       'bacterial spot', 'bacterial spot', 'bacterial spot',\n",
       "       'bacterial spot', 'bacterial spot', 'bacterial spot',\n",
       "       'bacterial spot', 'bacterial spot', 'bacterial spot',\n",
       "       'bacterial spot', 'bacterial spot', 'bacterial spot',\n",
       "       'bacterial spot', 'bacterial spot', 'bacterial spot',\n",
       "       'bacterial spot', 'bacterial spot', 'bacterial spot',\n",
       "       'bacterial spot', 'bacterial spot', 'bacterial spot',\n",
       "       'bacterial spot', 'bacterial spot', 'healthy', 'bacterial spot',\n",
       "       'bacterial spot', 'bacterial spot', 'bacterial spot',\n",
       "       'bacterial spot', 'bacterial spot', 'bacterial spot',\n",
       "       'bacterial spot', 'bacterial spot', 'bacterial spot',\n",
       "       'bacterial spot', 'bacterial spot', 'bacterial spot',\n",
       "       'bacterial spot', 'bacterial spot', 'bacterial spot',\n",
       "       'bacterial spot', 'healthy', 'healthy', 'healthy', 'healthy',\n",
       "       'healthy', 'healthy', 'healthy', 'healthy', 'healthy', 'healthy',\n",
       "       'healthy', 'healthy', 'healthy', 'healthy', 'healthy', 'healthy',\n",
       "       'healthy', 'healthy', 'healthy', 'healthy', 'healthy', 'healthy',\n",
       "       'healthy', 'healthy', 'healthy', 'healthy', 'healthy', 'healthy',\n",
       "       'healthy', 'healthy', 'healthy', 'healthy', 'healthy', 'healthy',\n",
       "       'healthy', 'healthy', 'healthy', 'healthy', 'healthy', 'healthy',\n",
       "       'healthy', 'healthy', 'healthy', 'healthy', 'healthy', 'healthy',\n",
       "       'healthy', 'healthy', 'healthy', 'healthy', 'healthy', 'healthy',\n",
       "       'healthy', 'healthy', 'healthy', 'healthy', 'healthy', 'healthy',\n",
       "       'healthy', 'healthy', 'healthy', 'healthy', 'healthy', 'healthy',\n",
       "       'healthy', 'healthy', 'healthy', 'healthy', 'healthy', 'healthy',\n",
       "       'healthy', 'healthy', 'healthy', 'healthy', 'healthy', 'healthy',\n",
       "       'healthy', 'healthy', 'healthy', 'healthy', 'healthy', 'healthy',\n",
       "       'healthy', 'healthy', 'healthy', 'healthy', 'bacterial spot',\n",
       "       'healthy', 'healthy', 'healthy', 'healthy', 'healthy', 'healthy',\n",
       "       'healthy', 'bacterial spot', 'healthy', 'healthy', 'healthy',\n",
       "       'healthy', 'healthy', 'healthy', 'healthy', 'healthy', 'healthy',\n",
       "       'healthy', 'healthy', 'healthy', 'healthy', 'healthy', 'healthy',\n",
       "       'healthy', 'healthy', 'healthy', 'healthy', 'healthy', 'healthy',\n",
       "       'healthy', 'healthy', 'healthy', 'healthy', 'healthy', 'healthy',\n",
       "       'healthy', 'healthy', 'healthy', 'healthy', 'healthy', 'healthy',\n",
       "       'healthy', 'healthy', 'healthy', 'healthy', 'healthy', 'healthy',\n",
       "       'healthy', 'healthy', 'healthy', 'healthy', 'healthy', 'healthy',\n",
       "       'healthy', 'healthy', 'healthy', 'healthy', 'healthy', 'healthy',\n",
       "       'healthy'], dtype='<U14')"
      ]
     },
     "execution_count": 39,
     "metadata": {},
     "output_type": "execute_result"
    }
   ],
   "source": [
    "pred3 = model3.predict(X_test)\n",
    "pred3"
   ]
  },
  {
   "cell_type": "code",
   "execution_count": 40,
   "id": "6abef8ec",
   "metadata": {
    "colab": {
     "background_save": true
    },
    "id": "Loe3dOZXQVZ2"
   },
   "outputs": [
    {
     "data": {
      "text/plain": [
       "0.983739837398374"
      ]
     },
     "execution_count": 40,
     "metadata": {},
     "output_type": "execute_result"
    }
   ],
   "source": [
    "score3=accuracy_score(y_test,pred3)\n",
    "c= round(score3, 4)\n",
    "score3"
   ]
  },
  {
   "cell_type": "code",
   "execution_count": 41,
   "id": "cd323564",
   "metadata": {
    "colab": {
     "background_save": true
    },
    "id": "q7cauAn3QVKd"
   },
   "outputs": [
    {
     "name": "stdout",
     "output_type": "stream",
     "text": [
      " AdaBoost Confusion matrix: \n",
      "\n",
      " [[ 97   2]\n",
      " [  2 145]]\n"
     ]
    }
   ],
   "source": [
    "print(\" AdaBoost Confusion matrix: \\n\\n\", confusion_matrix(y_test, pred3))"
   ]
  },
  {
   "cell_type": "code",
   "execution_count": 42,
   "id": "bb53944c",
   "metadata": {
    "colab": {
     "background_save": true
    },
    "id": "YbkpB5SDQ7J9"
   },
   "outputs": [
    {
     "name": "stdout",
     "output_type": "stream",
     "text": [
      " AdaBoost Classification report: \n",
      "\n",
      "                 precision    recall  f1-score   support\n",
      "\n",
      "bacterial spot       0.98      0.98      0.98        99\n",
      "       healthy       0.99      0.99      0.99       147\n",
      "\n",
      "      accuracy                           0.98       246\n",
      "     macro avg       0.98      0.98      0.98       246\n",
      "  weighted avg       0.98      0.98      0.98       246\n",
      "\n",
      "Test Accuracy: 98.37%\n"
     ]
    }
   ],
   "source": [
    "print(\" AdaBoost Classification report: \\n\\n\", classification_report(y_test, pred3))\n",
    "print(\"Test Accuracy: {}%\".format(round(model3.score(X_test, y_test)*100, 2)))"
   ]
  },
  {
   "cell_type": "code",
   "execution_count": 43,
   "id": "f04b70e9",
   "metadata": {
    "colab": {
     "background_save": true
    },
    "id": "W3LQ4qKBQ68X"
   },
   "outputs": [],
   "source": [
    "save_model(model3,fruit=fruit,location=\"/content/drive/MyDrive/saved\",filename=\"Ada\")"
   ]
  },
  {
   "cell_type": "markdown",
   "id": "99b4f0d1",
   "metadata": {
    "id": "386970c2-f5de-4e8f-86f1-b5f90ada7495"
   },
   "source": [
    "# Model -4 K-nearest Neighbors"
   ]
  },
  {
   "cell_type": "code",
   "execution_count": 44,
   "id": "a9dddba9",
   "metadata": {
    "colab": {
     "background_save": true
    },
    "id": "5ae8d163-5673-4c9f-a714-d2fd463112a4"
   },
   "outputs": [
    {
     "data": {
      "text/plain": [
       "KNeighborsClassifier(n_neighbors=3)"
      ]
     },
     "execution_count": 44,
     "metadata": {},
     "output_type": "execute_result"
    }
   ],
   "source": [
    "from sklearn.neighbors import KNeighborsClassifier\n",
    "\n",
    "\n",
    "model4= KNeighborsClassifier(n_neighbors=3, metric='minkowski', p=2)\n",
    "model4.fit(X_train, y_train)\n"
   ]
  },
  {
   "cell_type": "code",
   "execution_count": 45,
   "id": "7c47c738",
   "metadata": {
    "colab": {
     "background_save": true
    },
    "id": "010fd78d-e732-4653-a8f0-24674628505c"
   },
   "outputs": [
    {
     "data": {
      "text/plain": [
       "array(['healthy', 'healthy', 'bacterial spot', ..., 'healthy', 'healthy',\n",
       "       'healthy'], dtype='<U14')"
      ]
     },
     "execution_count": 45,
     "metadata": {},
     "output_type": "execute_result"
    }
   ],
   "source": [
    "train_pred4 = model4.predict(X_train)\n",
    "train_pred4"
   ]
  },
  {
   "cell_type": "code",
   "execution_count": 46,
   "id": "ded46174",
   "metadata": {
    "colab": {
     "background_save": true
    },
    "id": "9a10644c-54a0-408d-9816-9dbcc19895e5"
   },
   "outputs": [
    {
     "data": {
      "text/plain": [
       "0.8172645739910314"
      ]
     },
     "execution_count": 46,
     "metadata": {},
     "output_type": "execute_result"
    }
   ],
   "source": [
    "train_score4=accuracy_score(y_train,train_pred4)\n",
    "D= round(train_score4, 3)\n",
    "train_score4"
   ]
  },
  {
   "cell_type": "code",
   "execution_count": 47,
   "id": "90df4a86",
   "metadata": {
    "colab": {
     "background_save": true
    },
    "id": "5dc6ae3f-c8dd-4716-911e-d52a344a31d4"
   },
   "outputs": [
    {
     "data": {
      "text/plain": [
       "array(['healthy', 'bacterial spot', 'healthy', 'bacterial spot',\n",
       "       'healthy', 'bacterial spot', 'bacterial spot', 'bacterial spot',\n",
       "       'healthy', 'bacterial spot', 'bacterial spot', 'bacterial spot',\n",
       "       'bacterial spot', 'bacterial spot', 'healthy', 'healthy',\n",
       "       'bacterial spot', 'bacterial spot', 'healthy', 'bacterial spot',\n",
       "       'bacterial spot', 'bacterial spot', 'healthy', 'bacterial spot',\n",
       "       'healthy', 'healthy', 'healthy', 'bacterial spot', 'healthy',\n",
       "       'bacterial spot', 'healthy', 'healthy', 'bacterial spot',\n",
       "       'bacterial spot', 'bacterial spot', 'bacterial spot', 'healthy',\n",
       "       'bacterial spot', 'bacterial spot', 'healthy', 'bacterial spot',\n",
       "       'bacterial spot', 'healthy', 'healthy', 'bacterial spot',\n",
       "       'healthy', 'bacterial spot', 'bacterial spot', 'healthy',\n",
       "       'bacterial spot', 'bacterial spot', 'healthy', 'healthy',\n",
       "       'bacterial spot', 'healthy', 'healthy', 'bacterial spot',\n",
       "       'bacterial spot', 'healthy', 'healthy', 'bacterial spot',\n",
       "       'bacterial spot', 'bacterial spot', 'bacterial spot',\n",
       "       'bacterial spot', 'bacterial spot', 'bacterial spot', 'healthy',\n",
       "       'healthy', 'healthy', 'healthy', 'bacterial spot',\n",
       "       'bacterial spot', 'healthy', 'healthy', 'healthy',\n",
       "       'bacterial spot', 'healthy', 'bacterial spot', 'bacterial spot',\n",
       "       'healthy', 'healthy', 'healthy', 'healthy', 'healthy',\n",
       "       'bacterial spot', 'bacterial spot', 'healthy', 'healthy',\n",
       "       'bacterial spot', 'bacterial spot', 'bacterial spot',\n",
       "       'bacterial spot', 'bacterial spot', 'bacterial spot',\n",
       "       'bacterial spot', 'healthy', 'healthy', 'healthy', 'healthy',\n",
       "       'healthy', 'healthy', 'healthy', 'healthy', 'healthy', 'healthy',\n",
       "       'healthy', 'healthy', 'healthy', 'healthy', 'healthy', 'healthy',\n",
       "       'healthy', 'healthy', 'healthy', 'healthy', 'healthy', 'healthy',\n",
       "       'healthy', 'healthy', 'healthy', 'healthy', 'healthy', 'healthy',\n",
       "       'healthy', 'healthy', 'healthy', 'healthy', 'healthy', 'healthy',\n",
       "       'healthy', 'healthy', 'healthy', 'healthy', 'healthy', 'healthy',\n",
       "       'healthy', 'healthy', 'healthy', 'healthy', 'healthy', 'healthy',\n",
       "       'healthy', 'healthy', 'healthy', 'healthy', 'healthy', 'healthy',\n",
       "       'healthy', 'healthy', 'healthy', 'healthy', 'healthy', 'healthy',\n",
       "       'healthy', 'healthy', 'healthy', 'healthy', 'healthy', 'healthy',\n",
       "       'healthy', 'healthy', 'healthy', 'healthy', 'healthy', 'healthy',\n",
       "       'healthy', 'healthy', 'healthy', 'healthy', 'healthy', 'healthy',\n",
       "       'healthy', 'healthy', 'healthy', 'healthy', 'healthy', 'healthy',\n",
       "       'healthy', 'healthy', 'healthy', 'healthy', 'healthy', 'healthy',\n",
       "       'healthy', 'healthy', 'healthy', 'healthy', 'healthy', 'healthy',\n",
       "       'healthy', 'healthy', 'healthy', 'healthy', 'healthy', 'healthy',\n",
       "       'healthy', 'healthy', 'healthy', 'healthy', 'healthy', 'healthy',\n",
       "       'healthy', 'healthy', 'healthy', 'healthy', 'healthy', 'healthy',\n",
       "       'healthy', 'healthy', 'healthy', 'healthy', 'healthy', 'healthy',\n",
       "       'healthy', 'healthy', 'healthy', 'healthy', 'healthy', 'healthy',\n",
       "       'healthy', 'healthy', 'healthy', 'healthy', 'bacterial spot',\n",
       "       'healthy', 'healthy', 'healthy', 'healthy', 'healthy', 'healthy',\n",
       "       'healthy', 'healthy', 'healthy', 'healthy', 'healthy', 'healthy',\n",
       "       'healthy', 'healthy', 'healthy', 'healthy', 'healthy', 'healthy',\n",
       "       'healthy', 'healthy', 'healthy'], dtype='<U14')"
      ]
     },
     "execution_count": 47,
     "metadata": {},
     "output_type": "execute_result"
    }
   ],
   "source": [
    "pred4= model4.predict(X_test)\n",
    "pred4"
   ]
  },
  {
   "cell_type": "code",
   "execution_count": 48,
   "id": "9e8361f3",
   "metadata": {
    "colab": {
     "background_save": true
    },
    "id": "b13d1995-1152-49a3-9e46-1c0f719a407e"
   },
   "outputs": [
    {
     "data": {
      "text/plain": [
       "0.8170731707317073"
      ]
     },
     "execution_count": 48,
     "metadata": {},
     "output_type": "execute_result"
    }
   ],
   "source": [
    "score4=accuracy_score(y_test,pred4)\n",
    "d= round(score4, 4)\n",
    "score4"
   ]
  },
  {
   "cell_type": "code",
   "execution_count": 49,
   "id": "b53e38e4",
   "metadata": {
    "colab": {
     "background_save": true
    },
    "id": "yb7-VUxZiP7I"
   },
   "outputs": [
    {
     "name": "stdout",
     "output_type": "stream",
     "text": [
      "K-nearest Neighbors Confusion matrix: \n",
      "\n",
      " [[ 55  44]\n",
      " [  1 146]]\n"
     ]
    }
   ],
   "source": [
    "print(\"K-nearest Neighbors Confusion matrix: \\n\\n\", confusion_matrix(y_test, pred4))"
   ]
  },
  {
   "cell_type": "code",
   "execution_count": 50,
   "id": "447fc3d6",
   "metadata": {
    "colab": {
     "background_save": true
    },
    "id": "7781c0cc-b25f-45fd-be8b-734d0ab8849d"
   },
   "outputs": [
    {
     "name": "stdout",
     "output_type": "stream",
     "text": [
      "K-nearest Neighbors Classification report: \n",
      "\n",
      "                 precision    recall  f1-score   support\n",
      "\n",
      "bacterial spot       0.98      0.56      0.71        99\n",
      "       healthy       0.77      0.99      0.87       147\n",
      "\n",
      "      accuracy                           0.82       246\n",
      "     macro avg       0.88      0.77      0.79       246\n",
      "  weighted avg       0.85      0.82      0.80       246\n",
      "\n",
      "Test Accuracy: 81.71%\n"
     ]
    }
   ],
   "source": [
    "print(\"K-nearest Neighbors Classification report: \\n\\n\", classification_report(y_test, pred4))\n",
    "print(\"Test Accuracy: {}%\".format(round(model4.score(X_test, y_test)*100, 2)))"
   ]
  },
  {
   "cell_type": "code",
   "execution_count": 51,
   "id": "60503d14",
   "metadata": {
    "colab": {
     "background_save": true
    },
    "id": "ab797aba-73b6-420b-b4c0-964493dad096"
   },
   "outputs": [],
   "source": [
    "save_model(model4,fruit=fruit,location=\"/content/drive/MyDrive/saved\",filename=\"KNN\")"
   ]
  },
  {
   "cell_type": "markdown",
   "id": "d1e6fc96",
   "metadata": {
    "id": "d9067b02-9152-4aed-92dc-37734f57b0bc"
   },
   "source": [
    "# Model -5 Random Forest"
   ]
  },
  {
   "cell_type": "code",
   "execution_count": 52,
   "id": "4e86ea30",
   "metadata": {
    "colab": {
     "background_save": true
    },
    "id": "6ed5329c-e868-4ec6-80c9-4bd5491d93d2"
   },
   "outputs": [
    {
     "name": "stderr",
     "output_type": "stream",
     "text": [
      "[Parallel(n_jobs=1)]: Using backend SequentialBackend with 1 concurrent workers.\n",
      "[Parallel(n_jobs=1)]: Done 150 out of 150 | elapsed:   56.2s finished\n"
     ]
    },
    {
     "data": {
      "text/plain": [
       "RandomForestClassifier(n_estimators=150, random_state=0, verbose=1)"
      ]
     },
     "execution_count": 52,
     "metadata": {},
     "output_type": "execute_result"
    }
   ],
   "source": [
    "from sklearn.ensemble import RandomForestClassifier\n",
    "\n",
    "model5= RandomForestClassifier(n_estimators= 150, criterion=\"gini\",verbose=1, random_state=0)\n",
    "model5.fit(X_train, y_train)"
   ]
  },
  {
   "cell_type": "code",
   "execution_count": 53,
   "id": "0621ea17",
   "metadata": {
    "colab": {
     "background_save": true
    },
    "id": "da67ac7f-32d4-4286-a0f8-baf20bc2087a"
   },
   "outputs": [
    {
     "name": "stderr",
     "output_type": "stream",
     "text": [
      "[Parallel(n_jobs=1)]: Using backend SequentialBackend with 1 concurrent workers.\n",
      "[Parallel(n_jobs=1)]: Done 150 out of 150 | elapsed:    0.0s finished\n"
     ]
    },
    {
     "data": {
      "text/plain": [
       "array(['bacterial spot', 'bacterial spot', 'bacterial spot', ...,\n",
       "       'healthy', 'healthy', 'healthy'], dtype='<U14')"
      ]
     },
     "execution_count": 53,
     "metadata": {},
     "output_type": "execute_result"
    }
   ],
   "source": [
    "train_pred5 = model5.predict(X_train)\n",
    "train_pred5"
   ]
  },
  {
   "cell_type": "code",
   "execution_count": 54,
   "id": "3531b1d0",
   "metadata": {
    "colab": {
     "background_save": true
    },
    "id": "10bb5329-12ba-4f2a-ab97-68e419f6a9c0"
   },
   "outputs": [
    {
     "data": {
      "text/plain": [
       "1.0"
      ]
     },
     "execution_count": 54,
     "metadata": {},
     "output_type": "execute_result"
    }
   ],
   "source": [
    "train_score5=accuracy_score(y_train,train_pred5)\n",
    "E= round(train_score5, 4)\n",
    "train_score5"
   ]
  },
  {
   "cell_type": "code",
   "execution_count": 55,
   "id": "a9eb1328",
   "metadata": {
    "colab": {
     "background_save": true
    },
    "id": "3b276d32-eb75-4bab-913c-30ccf6a054d2"
   },
   "outputs": [
    {
     "name": "stderr",
     "output_type": "stream",
     "text": [
      "[Parallel(n_jobs=1)]: Using backend SequentialBackend with 1 concurrent workers.\n",
      "[Parallel(n_jobs=1)]: Done 150 out of 150 | elapsed:    0.0s finished\n"
     ]
    },
    {
     "data": {
      "text/plain": [
       "array(['bacterial spot', 'bacterial spot', 'bacterial spot',\n",
       "       'bacterial spot', 'bacterial spot', 'bacterial spot',\n",
       "       'bacterial spot', 'bacterial spot', 'bacterial spot',\n",
       "       'bacterial spot', 'bacterial spot', 'bacterial spot',\n",
       "       'bacterial spot', 'bacterial spot', 'bacterial spot',\n",
       "       'bacterial spot', 'bacterial spot', 'bacterial spot',\n",
       "       'bacterial spot', 'bacterial spot', 'bacterial spot',\n",
       "       'bacterial spot', 'bacterial spot', 'bacterial spot',\n",
       "       'bacterial spot', 'bacterial spot', 'bacterial spot',\n",
       "       'bacterial spot', 'bacterial spot', 'bacterial spot',\n",
       "       'bacterial spot', 'bacterial spot', 'bacterial spot',\n",
       "       'bacterial spot', 'bacterial spot', 'bacterial spot',\n",
       "       'bacterial spot', 'bacterial spot', 'bacterial spot',\n",
       "       'bacterial spot', 'bacterial spot', 'bacterial spot',\n",
       "       'bacterial spot', 'bacterial spot', 'bacterial spot',\n",
       "       'bacterial spot', 'bacterial spot', 'bacterial spot',\n",
       "       'bacterial spot', 'bacterial spot', 'bacterial spot',\n",
       "       'bacterial spot', 'bacterial spot', 'bacterial spot',\n",
       "       'bacterial spot', 'bacterial spot', 'bacterial spot',\n",
       "       'bacterial spot', 'bacterial spot', 'bacterial spot',\n",
       "       'bacterial spot', 'bacterial spot', 'bacterial spot',\n",
       "       'bacterial spot', 'bacterial spot', 'bacterial spot',\n",
       "       'bacterial spot', 'bacterial spot', 'bacterial spot',\n",
       "       'bacterial spot', 'bacterial spot', 'bacterial spot',\n",
       "       'bacterial spot', 'bacterial spot', 'bacterial spot',\n",
       "       'bacterial spot', 'bacterial spot', 'bacterial spot',\n",
       "       'bacterial spot', 'bacterial spot', 'bacterial spot',\n",
       "       'bacterial spot', 'bacterial spot', 'bacterial spot',\n",
       "       'bacterial spot', 'bacterial spot', 'bacterial spot',\n",
       "       'bacterial spot', 'bacterial spot', 'bacterial spot',\n",
       "       'bacterial spot', 'bacterial spot', 'bacterial spot',\n",
       "       'bacterial spot', 'bacterial spot', 'bacterial spot',\n",
       "       'bacterial spot', 'bacterial spot', 'bacterial spot', 'healthy',\n",
       "       'healthy', 'healthy', 'healthy', 'healthy', 'healthy', 'healthy',\n",
       "       'healthy', 'healthy', 'healthy', 'healthy', 'healthy', 'healthy',\n",
       "       'healthy', 'healthy', 'healthy', 'healthy', 'healthy', 'healthy',\n",
       "       'healthy', 'healthy', 'healthy', 'healthy', 'healthy', 'healthy',\n",
       "       'healthy', 'healthy', 'healthy', 'healthy', 'healthy', 'healthy',\n",
       "       'healthy', 'healthy', 'healthy', 'healthy', 'healthy', 'healthy',\n",
       "       'healthy', 'healthy', 'healthy', 'healthy', 'healthy', 'healthy',\n",
       "       'healthy', 'healthy', 'healthy', 'healthy', 'healthy', 'healthy',\n",
       "       'healthy', 'healthy', 'healthy', 'healthy', 'healthy', 'healthy',\n",
       "       'healthy', 'healthy', 'healthy', 'healthy', 'healthy', 'healthy',\n",
       "       'healthy', 'healthy', 'healthy', 'healthy', 'healthy', 'healthy',\n",
       "       'healthy', 'healthy', 'healthy', 'healthy', 'healthy', 'healthy',\n",
       "       'healthy', 'healthy', 'healthy', 'healthy', 'healthy', 'healthy',\n",
       "       'healthy', 'healthy', 'healthy', 'healthy', 'healthy', 'healthy',\n",
       "       'healthy', 'healthy', 'healthy', 'healthy', 'healthy', 'healthy',\n",
       "       'healthy', 'healthy', 'healthy', 'healthy', 'healthy', 'healthy',\n",
       "       'healthy', 'healthy', 'healthy', 'healthy', 'healthy', 'healthy',\n",
       "       'healthy', 'healthy', 'healthy', 'healthy', 'healthy', 'healthy',\n",
       "       'healthy', 'healthy', 'healthy', 'healthy', 'healthy', 'healthy',\n",
       "       'healthy', 'healthy', 'healthy', 'healthy', 'healthy', 'healthy',\n",
       "       'healthy', 'healthy', 'healthy', 'healthy', 'healthy', 'healthy',\n",
       "       'healthy', 'healthy', 'healthy', 'healthy', 'healthy', 'healthy',\n",
       "       'healthy', 'healthy', 'healthy', 'healthy', 'healthy', 'healthy',\n",
       "       'healthy', 'healthy', 'healthy', 'healthy', 'healthy', 'healthy',\n",
       "       'healthy', 'healthy'], dtype='<U14')"
      ]
     },
     "execution_count": 55,
     "metadata": {},
     "output_type": "execute_result"
    }
   ],
   "source": [
    "pred5= model5.predict(X_test)\n",
    "pred5"
   ]
  },
  {
   "cell_type": "code",
   "execution_count": 56,
   "id": "b6fc15ac",
   "metadata": {
    "colab": {
     "background_save": true
    },
    "id": "67dd3a7b-fd31-4aca-af34-0850d73fe9a6"
   },
   "outputs": [
    {
     "data": {
      "text/plain": [
       "1.0"
      ]
     },
     "execution_count": 56,
     "metadata": {},
     "output_type": "execute_result"
    }
   ],
   "source": [
    "score5=accuracy_score(y_test,pred5)\n",
    "e= round(score5, 4)\n",
    "score5"
   ]
  },
  {
   "cell_type": "code",
   "execution_count": 57,
   "id": "b632b3c8",
   "metadata": {
    "colab": {
     "background_save": true
    },
    "id": "myXi1NKyiVWA"
   },
   "outputs": [
    {
     "name": "stdout",
     "output_type": "stream",
     "text": [
      "Random Forest Confusion matrix: \n",
      "\n",
      " [[ 99   0]\n",
      " [  0 147]]\n"
     ]
    }
   ],
   "source": [
    "print(\"Random Forest Confusion matrix: \\n\\n\", confusion_matrix(y_test, pred5))"
   ]
  },
  {
   "cell_type": "code",
   "execution_count": 58,
   "id": "5f47fa4e",
   "metadata": {
    "colab": {
     "background_save": true
    },
    "id": "def9efa2-fad2-4e9f-9575-4a0e91d70b85"
   },
   "outputs": [
    {
     "name": "stderr",
     "output_type": "stream",
     "text": [
      "[Parallel(n_jobs=1)]: Using backend SequentialBackend with 1 concurrent workers.\n"
     ]
    },
    {
     "name": "stdout",
     "output_type": "stream",
     "text": [
      " Random Forest  Classification report: \n",
      "\n",
      "                 precision    recall  f1-score   support\n",
      "\n",
      "bacterial spot       1.00      1.00      1.00        99\n",
      "       healthy       1.00      1.00      1.00       147\n",
      "\n",
      "      accuracy                           1.00       246\n",
      "     macro avg       1.00      1.00      1.00       246\n",
      "  weighted avg       1.00      1.00      1.00       246\n",
      "\n",
      "Test Accuracy: 100.0%\n"
     ]
    },
    {
     "name": "stderr",
     "output_type": "stream",
     "text": [
      "[Parallel(n_jobs=1)]: Done 150 out of 150 | elapsed:    0.0s finished\n"
     ]
    }
   ],
   "source": [
    "print(\" Random Forest  Classification report: \\n\\n\", classification_report(y_test, pred5))\n",
    "print(\"Test Accuracy: {}%\".format(round(model5.score(X_test, y_test)*100, 2)))"
   ]
  },
  {
   "cell_type": "code",
   "execution_count": 59,
   "id": "4d1e05c2",
   "metadata": {
    "colab": {
     "background_save": true
    },
    "id": "7fd6c051-af9d-4fe1-83d4-418631c7af60"
   },
   "outputs": [],
   "source": [
    "save_model(model5,fruit=fruit,location=\"/content/drive/MyDrive/saved\",filename=\"RF\")"
   ]
  },
  {
   "cell_type": "markdown",
   "id": "9b6112d7",
   "metadata": {
    "id": "34561624-f80f-4eb0-ab11-49097f4bc149"
   },
   "source": [
    "# Model -6 Decision Tree"
   ]
  },
  {
   "cell_type": "code",
   "execution_count": 60,
   "id": "3cc4b320",
   "metadata": {
    "colab": {
     "background_save": true
    },
    "id": "7f2809f3-cf4b-4c96-9486-34775c241888"
   },
   "outputs": [
    {
     "data": {
      "text/plain": [
       "DecisionTreeClassifier(splitter='random')"
      ]
     },
     "execution_count": 60,
     "metadata": {},
     "output_type": "execute_result"
    }
   ],
   "source": [
    "from sklearn.tree import DecisionTreeClassifier\n",
    "\n",
    "model6= DecisionTreeClassifier(criterion='gini', splitter='random', min_samples_split=2, min_samples_leaf=1)\n",
    "model6.fit(X_train, y_train)"
   ]
  },
  {
   "cell_type": "code",
   "execution_count": 61,
   "id": "36a60f83",
   "metadata": {
    "colab": {
     "background_save": true
    },
    "id": "849ec1b8-0410-4a43-ba11-5b999266b37f"
   },
   "outputs": [
    {
     "data": {
      "text/plain": [
       "array(['bacterial spot', 'bacterial spot', 'bacterial spot', ...,\n",
       "       'healthy', 'healthy', 'healthy'], dtype='<U14')"
      ]
     },
     "execution_count": 61,
     "metadata": {},
     "output_type": "execute_result"
    }
   ],
   "source": [
    "train_pred6 = model6.predict(X_train)\n",
    "train_pred6"
   ]
  },
  {
   "cell_type": "code",
   "execution_count": 62,
   "id": "e75eb3ab",
   "metadata": {
    "colab": {
     "background_save": true
    },
    "id": "be390c01-359f-4758-8882-43f6acfe3c0d"
   },
   "outputs": [
    {
     "data": {
      "text/plain": [
       "1.0"
      ]
     },
     "execution_count": 62,
     "metadata": {},
     "output_type": "execute_result"
    }
   ],
   "source": [
    "train_score6=accuracy_score(y_train,train_pred6)\n",
    "F= round(train_score6, 4)\n",
    "train_score6"
   ]
  },
  {
   "cell_type": "code",
   "execution_count": 63,
   "id": "ada14f65",
   "metadata": {
    "colab": {
     "background_save": true
    },
    "id": "bb174ab4-c6f7-4ae0-9e1d-ec20cb27412d"
   },
   "outputs": [
    {
     "data": {
      "text/plain": [
       "array(['bacterial spot', 'bacterial spot', 'bacterial spot',\n",
       "       'bacterial spot', 'bacterial spot', 'bacterial spot',\n",
       "       'bacterial spot', 'bacterial spot', 'bacterial spot',\n",
       "       'bacterial spot', 'bacterial spot', 'bacterial spot',\n",
       "       'bacterial spot', 'bacterial spot', 'bacterial spot',\n",
       "       'bacterial spot', 'bacterial spot', 'bacterial spot',\n",
       "       'bacterial spot', 'bacterial spot', 'bacterial spot',\n",
       "       'bacterial spot', 'bacterial spot', 'bacterial spot',\n",
       "       'bacterial spot', 'bacterial spot', 'bacterial spot',\n",
       "       'bacterial spot', 'bacterial spot', 'bacterial spot',\n",
       "       'bacterial spot', 'bacterial spot', 'bacterial spot',\n",
       "       'bacterial spot', 'bacterial spot', 'bacterial spot',\n",
       "       'bacterial spot', 'bacterial spot', 'bacterial spot',\n",
       "       'bacterial spot', 'bacterial spot', 'bacterial spot',\n",
       "       'bacterial spot', 'bacterial spot', 'bacterial spot',\n",
       "       'bacterial spot', 'bacterial spot', 'bacterial spot',\n",
       "       'bacterial spot', 'bacterial spot', 'bacterial spot',\n",
       "       'bacterial spot', 'bacterial spot', 'bacterial spot',\n",
       "       'bacterial spot', 'bacterial spot', 'bacterial spot',\n",
       "       'bacterial spot', 'bacterial spot', 'bacterial spot',\n",
       "       'bacterial spot', 'bacterial spot', 'bacterial spot',\n",
       "       'bacterial spot', 'bacterial spot', 'bacterial spot',\n",
       "       'bacterial spot', 'bacterial spot', 'bacterial spot',\n",
       "       'bacterial spot', 'bacterial spot', 'bacterial spot',\n",
       "       'bacterial spot', 'bacterial spot', 'bacterial spot',\n",
       "       'bacterial spot', 'bacterial spot', 'bacterial spot',\n",
       "       'bacterial spot', 'bacterial spot', 'bacterial spot',\n",
       "       'bacterial spot', 'bacterial spot', 'bacterial spot',\n",
       "       'bacterial spot', 'bacterial spot', 'bacterial spot',\n",
       "       'bacterial spot', 'bacterial spot', 'bacterial spot',\n",
       "       'bacterial spot', 'bacterial spot', 'bacterial spot',\n",
       "       'bacterial spot', 'bacterial spot', 'bacterial spot',\n",
       "       'bacterial spot', 'bacterial spot', 'bacterial spot', 'healthy',\n",
       "       'healthy', 'healthy', 'healthy', 'healthy', 'healthy', 'healthy',\n",
       "       'healthy', 'healthy', 'healthy', 'healthy', 'healthy', 'healthy',\n",
       "       'healthy', 'healthy', 'healthy', 'healthy', 'healthy', 'healthy',\n",
       "       'healthy', 'healthy', 'healthy', 'healthy', 'healthy', 'healthy',\n",
       "       'healthy', 'healthy', 'healthy', 'healthy', 'healthy', 'healthy',\n",
       "       'healthy', 'healthy', 'healthy', 'healthy', 'healthy', 'healthy',\n",
       "       'healthy', 'healthy', 'healthy', 'healthy', 'healthy', 'healthy',\n",
       "       'healthy', 'healthy', 'healthy', 'healthy', 'healthy', 'healthy',\n",
       "       'healthy', 'healthy', 'healthy', 'healthy', 'healthy', 'healthy',\n",
       "       'healthy', 'healthy', 'healthy', 'healthy', 'healthy', 'healthy',\n",
       "       'healthy', 'healthy', 'healthy', 'healthy', 'healthy', 'healthy',\n",
       "       'healthy', 'healthy', 'healthy', 'healthy', 'healthy', 'healthy',\n",
       "       'healthy', 'healthy', 'healthy', 'healthy', 'healthy', 'healthy',\n",
       "       'healthy', 'healthy', 'healthy', 'healthy', 'healthy', 'healthy',\n",
       "       'healthy', 'healthy', 'healthy', 'healthy', 'healthy', 'healthy',\n",
       "       'healthy', 'healthy', 'healthy', 'healthy', 'healthy', 'healthy',\n",
       "       'healthy', 'healthy', 'healthy', 'healthy', 'healthy', 'healthy',\n",
       "       'healthy', 'healthy', 'healthy', 'healthy', 'healthy', 'healthy',\n",
       "       'healthy', 'healthy', 'healthy', 'healthy', 'healthy', 'healthy',\n",
       "       'healthy', 'healthy', 'healthy', 'healthy', 'healthy', 'healthy',\n",
       "       'healthy', 'healthy', 'healthy', 'healthy', 'healthy', 'healthy',\n",
       "       'healthy', 'healthy', 'healthy', 'healthy', 'healthy', 'healthy',\n",
       "       'healthy', 'healthy', 'healthy', 'healthy', 'healthy', 'healthy',\n",
       "       'healthy', 'healthy', 'healthy', 'healthy', 'healthy', 'healthy',\n",
       "       'healthy', 'healthy'], dtype='<U14')"
      ]
     },
     "execution_count": 63,
     "metadata": {},
     "output_type": "execute_result"
    }
   ],
   "source": [
    "pred6= model6.predict(X_test)\n",
    "pred6"
   ]
  },
  {
   "cell_type": "code",
   "execution_count": 64,
   "id": "eedba43f",
   "metadata": {
    "colab": {
     "background_save": true
    },
    "id": "a0499b95-5235-4050-9078-043f583feddf"
   },
   "outputs": [
    {
     "data": {
      "text/plain": [
       "1.0"
      ]
     },
     "execution_count": 64,
     "metadata": {},
     "output_type": "execute_result"
    }
   ],
   "source": [
    "score6=accuracy_score(y_test,pred6)\n",
    "f= round(score6, 4)\n",
    "score6"
   ]
  },
  {
   "cell_type": "code",
   "execution_count": 65,
   "id": "7f3d1e3b",
   "metadata": {
    "colab": {
     "background_save": true
    },
    "id": "lxBm1zaIiZiO"
   },
   "outputs": [
    {
     "name": "stdout",
     "output_type": "stream",
     "text": [
      "Decision Tree Confusion matrix: \n",
      "\n",
      " [[ 99   0]\n",
      " [  0 147]]\n"
     ]
    }
   ],
   "source": [
    "print(\"Decision Tree Confusion matrix: \\n\\n\", confusion_matrix(y_test, pred6))"
   ]
  },
  {
   "cell_type": "code",
   "execution_count": 66,
   "id": "381e01b3",
   "metadata": {
    "colab": {
     "background_save": true
    },
    "id": "1dfce035-e467-4587-8e86-efe02a1f782e"
   },
   "outputs": [
    {
     "name": "stdout",
     "output_type": "stream",
     "text": [
      "Decision Tree Classification report: \n",
      "\n",
      "                 precision    recall  f1-score   support\n",
      "\n",
      "bacterial spot       1.00      1.00      1.00        99\n",
      "       healthy       1.00      1.00      1.00       147\n",
      "\n",
      "      accuracy                           1.00       246\n",
      "     macro avg       1.00      1.00      1.00       246\n",
      "  weighted avg       1.00      1.00      1.00       246\n",
      "\n",
      "Test Accuracy: 100.0%\n"
     ]
    }
   ],
   "source": [
    "print(\"Decision Tree Classification report: \\n\\n\", classification_report(y_test, pred6))\n",
    "print(\"Test Accuracy: {}%\".format(round(model6.score(X_test, y_test)*100, 2)))"
   ]
  },
  {
   "cell_type": "code",
   "execution_count": 67,
   "id": "4c173e1a",
   "metadata": {
    "colab": {
     "background_save": true
    },
    "id": "f28d2623-7ed7-496c-aeb1-9d17811ceb4b"
   },
   "outputs": [],
   "source": [
    "save_model(model6,fruit=fruit,location=\"/content/drive/MyDrive/saved\",filename=\"DT\")"
   ]
  },
  {
   "cell_type": "markdown",
   "id": "a7ceff2e",
   "metadata": {
    "id": "80027ab4-b153-427f-b933-a372d7a30718"
   },
   "source": [
    "# Comparision Using Box plot"
   ]
  },
  {
   "cell_type": "code",
   "execution_count": 68,
   "id": "23706596",
   "metadata": {
    "colab": {
     "background_save": true
    },
    "id": "03c5e3f6-1268-4cbe-b870-62eb19caa13a"
   },
   "outputs": [
    {
     "data": {
      "image/png": "[encoded data removed]",
      "text/plain": [
       "<Figure size 1500x700 with 1 Axes>"
      ]
     },
     "metadata": {},
     "output_type": "display_data"
    },
    {
     "data": {
      "image/png": "[encoded data removed]",
      "text/plain": [
       "<Figure size 1500x700 with 1 Axes>"
      ]
     },
     "metadata": {},
     "output_type": "display_data"
    }
   ],
   "source": [
    "from matplotlib import pyplot as plt\n",
    "\n",
    "def labels(x,y):\n",
    "    for i in range(len(x)):\n",
    "        plt.text(i,y[i],y[i])\n",
    "\n",
    "if __name__ == '__main__':\n",
    "    x = ['SVM', 'MLP', 'AdaBoost', 'KNN', 'RF', 'DT']\n",
    "    y = [a, b, c, d, e,f]\n",
    "    Y = [A, B, C, D, E,F]\n",
    "\n",
    "    fig = plt.figure(figsize =(15, 7))\n",
    "    ax = plt.axes()\n",
    "    ax.set_facecolor(\"peachpuff\")\n",
    "    plt.bar(x, Y, width=0.4, color='lime')\n",
    "    labels(x, Y)\n",
    "    plt.xlabel('Models')\n",
    "    plt.ylabel(\"Acurracy In Training\")\n",
    "    plt.title('Algorithm Comparison Training')\n",
    "    plt.show()\n",
    "\n",
    "    fig = plt.figure(figsize =(15, 7))\n",
    "    ax = plt.axes()\n",
    "    labels(x, y)\n",
    "    ax.set_facecolor(\"peachpuff\")\n",
    "    plt.bar( x , y, width=0.4, color='lime')\n",
    "    plt.xlabel('Models')\n",
    "    plt.ylabel(\"Acurracy In Testing\")\n",
    "    plt.title('Algorithm Comparison Testing')\n",
    "    plt.show()\n",
    "\n"
   ]
  },
  {
   "cell_type": "code",
   "execution_count": null,
   "id": "bc9e5486",
   "metadata": {
    "colab": {
     "background_save": true
    },
    "id": "umDAS6k2z9rD"
   },
   "outputs": [],
   "source": []
  }
 ],
 "metadata": {
  "colab": {
   "name": "",
   "version": ""
  },
  "kernelspec": {
   "display_name": "Python 3 (ipykernel)",
   "language": "python",
   "name": "python3"
  },
  "language_info": {
   "codemirror_mode": {
    "name": "ipython",
    "version": 3
   },
   "file_extension": ".py",
   "mimetype": "text/x-python",
   "name": "python",
   "nbconvert_exporter": "python",
   "pygments_lexer": "ipython3",
   "version": "3.7.5"
  }
 },
 "nbformat": 4,
 "nbformat_minor": 5
}
